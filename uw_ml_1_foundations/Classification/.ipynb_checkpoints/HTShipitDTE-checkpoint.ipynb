{
 "cells": [
  {
   "cell_type": "markdown",
   "metadata": {},
   "source": [
    "#Predicting DTE\n",
    "\n",
    "#Fire up GraphLab Create"
   ]
  },
  {
   "cell_type": "code",
   "execution_count": 139,
   "metadata": {
    "collapsed": true
   },
   "outputs": [],
   "source": [
    "import graphlab"
   ]
  },
  {
   "cell_type": "code",
   "execution_count": 140,
   "metadata": {
    "collapsed": false
   },
   "outputs": [
    {
     "data": {
      "text/html": [
       "<pre>Finished parsing file /Users/vinit/gitdev/coursera_uw_ml_casestudyapproach/uw_ml_1_foundations/Classification/HT15data.csv</pre>"
      ],
      "text/plain": [
       "Finished parsing file /Users/vinit/gitdev/coursera_uw_ml_casestudyapproach/uw_ml_1_foundations/Classification/HT15data.csv"
      ]
     },
     "metadata": {},
     "output_type": "display_data"
    },
    {
     "data": {
      "text/html": [
       "<pre>Parsing completed. Parsed 100 lines in 0.688172 secs.</pre>"
      ],
      "text/plain": [
       "Parsing completed. Parsed 100 lines in 0.688172 secs."
      ]
     },
     "metadata": {},
     "output_type": "display_data"
    },
    {
     "name": "stdout",
     "output_type": "stream",
     "text": [
      "------------------------------------------------------\n",
      "Inferred types from first line of file as \n",
      "column_type_hints=[str,int,int,int,int,int,int,int,int,int,int,int,int,int,int,int,int,int,int,int,int,int,int,int,int,int,int,int,int,int,int,int,int,int,int,int,int,int,int,int,int,int,int,int,int,int,int,int,int,int,int,int,int,int,int,int,int,int,int]\n",
      "If parsing fails due to incorrect types, you can correct\n",
      "the inferred type list above and pass it to read_csv in\n",
      "the column_type_hints argument\n",
      "------------------------------------------------------\n"
     ]
    },
    {
     "data": {
      "text/html": [
       "<pre>Finished parsing file /Users/vinit/gitdev/coursera_uw_ml_casestudyapproach/uw_ml_1_foundations/Classification/HT15data.csv</pre>"
      ],
      "text/plain": [
       "Finished parsing file /Users/vinit/gitdev/coursera_uw_ml_casestudyapproach/uw_ml_1_foundations/Classification/HT15data.csv"
      ]
     },
     "metadata": {},
     "output_type": "display_data"
    },
    {
     "data": {
      "text/html": [
       "<pre>Parsing completed. Parsed 283065 lines in 1.34367 secs.</pre>"
      ],
      "text/plain": [
       "Parsing completed. Parsed 283065 lines in 1.34367 secs."
      ]
     },
     "metadata": {},
     "output_type": "display_data"
    }
   ],
   "source": [
    "claimsDTE = graphlab.SFrame('HT15data.csv')"
   ]
  },
  {
   "cell_type": "code",
   "execution_count": 141,
   "metadata": {
    "collapsed": false
   },
   "outputs": [
    {
     "data": {
      "text/html": [
       "<div style=\"max-height:1000px;max-width:1500px;overflow:auto;\"><table frame=\"box\" rules=\"cols\">\n",
       "    <tr>\n",
       "        <th style=\"padding-left: 1em; padding-right: 1em; text-align: center\">ClaimNumber</th>\n",
       "        <th style=\"padding-left: 1em; padding-right: 1em; text-align: center\">EvalResult</th>\n",
       "        <th style=\"padding-left: 1em; padding-right: 1em; text-align: center\">6054</th>\n",
       "        <th style=\"padding-left: 1em; padding-right: 1em; text-align: center\">6055</th>\n",
       "        <th style=\"padding-left: 1em; padding-right: 1em; text-align: center\">6056</th>\n",
       "        <th style=\"padding-left: 1em; padding-right: 1em; text-align: center\">6057</th>\n",
       "        <th style=\"padding-left: 1em; padding-right: 1em; text-align: center\">6058</th>\n",
       "        <th style=\"padding-left: 1em; padding-right: 1em; text-align: center\">6060</th>\n",
       "        <th style=\"padding-left: 1em; padding-right: 1em; text-align: center\">6061</th>\n",
       "        <th style=\"padding-left: 1em; padding-right: 1em; text-align: center\">6062</th>\n",
       "        <th style=\"padding-left: 1em; padding-right: 1em; text-align: center\">6063</th>\n",
       "        <th style=\"padding-left: 1em; padding-right: 1em; text-align: center\">6064</th>\n",
       "        <th style=\"padding-left: 1em; padding-right: 1em; text-align: center\">6065</th>\n",
       "        <th style=\"padding-left: 1em; padding-right: 1em; text-align: center\">6066</th>\n",
       "        <th style=\"padding-left: 1em; padding-right: 1em; text-align: center\">6067</th>\n",
       "    </tr>\n",
       "    <tr>\n",
       "        <td style=\"padding-left: 1em; padding-right: 1em; text-align: center; vertical-align: top\">PA0016328393-01</td>\n",
       "        <td style=\"padding-left: 1em; padding-right: 1em; text-align: center; vertical-align: top\">0</td>\n",
       "        <td style=\"padding-left: 1em; padding-right: 1em; text-align: center; vertical-align: top\">0</td>\n",
       "        <td style=\"padding-left: 1em; padding-right: 1em; text-align: center; vertical-align: top\">0</td>\n",
       "        <td style=\"padding-left: 1em; padding-right: 1em; text-align: center; vertical-align: top\">0</td>\n",
       "        <td style=\"padding-left: 1em; padding-right: 1em; text-align: center; vertical-align: top\">0</td>\n",
       "        <td style=\"padding-left: 1em; padding-right: 1em; text-align: center; vertical-align: top\">0</td>\n",
       "        <td style=\"padding-left: 1em; padding-right: 1em; text-align: center; vertical-align: top\">0</td>\n",
       "        <td style=\"padding-left: 1em; padding-right: 1em; text-align: center; vertical-align: top\">0</td>\n",
       "        <td style=\"padding-left: 1em; padding-right: 1em; text-align: center; vertical-align: top\">0</td>\n",
       "        <td style=\"padding-left: 1em; padding-right: 1em; text-align: center; vertical-align: top\">0</td>\n",
       "        <td style=\"padding-left: 1em; padding-right: 1em; text-align: center; vertical-align: top\">0</td>\n",
       "        <td style=\"padding-left: 1em; padding-right: 1em; text-align: center; vertical-align: top\">0</td>\n",
       "        <td style=\"padding-left: 1em; padding-right: 1em; text-align: center; vertical-align: top\">0</td>\n",
       "        <td style=\"padding-left: 1em; padding-right: 1em; text-align: center; vertical-align: top\">0</td>\n",
       "    </tr>\n",
       "    <tr>\n",
       "        <td style=\"padding-left: 1em; padding-right: 1em; text-align: center; vertical-align: top\">PA0016572061-01</td>\n",
       "        <td style=\"padding-left: 1em; padding-right: 1em; text-align: center; vertical-align: top\">0</td>\n",
       "        <td style=\"padding-left: 1em; padding-right: 1em; text-align: center; vertical-align: top\">0</td>\n",
       "        <td style=\"padding-left: 1em; padding-right: 1em; text-align: center; vertical-align: top\">0</td>\n",
       "        <td style=\"padding-left: 1em; padding-right: 1em; text-align: center; vertical-align: top\">0</td>\n",
       "        <td style=\"padding-left: 1em; padding-right: 1em; text-align: center; vertical-align: top\">0</td>\n",
       "        <td style=\"padding-left: 1em; padding-right: 1em; text-align: center; vertical-align: top\">0</td>\n",
       "        <td style=\"padding-left: 1em; padding-right: 1em; text-align: center; vertical-align: top\">0</td>\n",
       "        <td style=\"padding-left: 1em; padding-right: 1em; text-align: center; vertical-align: top\">0</td>\n",
       "        <td style=\"padding-left: 1em; padding-right: 1em; text-align: center; vertical-align: top\">0</td>\n",
       "        <td style=\"padding-left: 1em; padding-right: 1em; text-align: center; vertical-align: top\">0</td>\n",
       "        <td style=\"padding-left: 1em; padding-right: 1em; text-align: center; vertical-align: top\">0</td>\n",
       "        <td style=\"padding-left: 1em; padding-right: 1em; text-align: center; vertical-align: top\">1</td>\n",
       "        <td style=\"padding-left: 1em; padding-right: 1em; text-align: center; vertical-align: top\">0</td>\n",
       "        <td style=\"padding-left: 1em; padding-right: 1em; text-align: center; vertical-align: top\">0</td>\n",
       "    </tr>\n",
       "    <tr>\n",
       "        <td style=\"padding-left: 1em; padding-right: 1em; text-align: center; vertical-align: top\">0771762678-01</td>\n",
       "        <td style=\"padding-left: 1em; padding-right: 1em; text-align: center; vertical-align: top\">0</td>\n",
       "        <td style=\"padding-left: 1em; padding-right: 1em; text-align: center; vertical-align: top\">0</td>\n",
       "        <td style=\"padding-left: 1em; padding-right: 1em; text-align: center; vertical-align: top\">0</td>\n",
       "        <td style=\"padding-left: 1em; padding-right: 1em; text-align: center; vertical-align: top\">0</td>\n",
       "        <td style=\"padding-left: 1em; padding-right: 1em; text-align: center; vertical-align: top\">0</td>\n",
       "        <td style=\"padding-left: 1em; padding-right: 1em; text-align: center; vertical-align: top\">0</td>\n",
       "        <td style=\"padding-left: 1em; padding-right: 1em; text-align: center; vertical-align: top\">0</td>\n",
       "        <td style=\"padding-left: 1em; padding-right: 1em; text-align: center; vertical-align: top\">0</td>\n",
       "        <td style=\"padding-left: 1em; padding-right: 1em; text-align: center; vertical-align: top\">1</td>\n",
       "        <td style=\"padding-left: 1em; padding-right: 1em; text-align: center; vertical-align: top\">0</td>\n",
       "        <td style=\"padding-left: 1em; padding-right: 1em; text-align: center; vertical-align: top\">0</td>\n",
       "        <td style=\"padding-left: 1em; padding-right: 1em; text-align: center; vertical-align: top\">1</td>\n",
       "        <td style=\"padding-left: 1em; padding-right: 1em; text-align: center; vertical-align: top\">0</td>\n",
       "        <td style=\"padding-left: 1em; padding-right: 1em; text-align: center; vertical-align: top\">0</td>\n",
       "    </tr>\n",
       "    <tr>\n",
       "        <td style=\"padding-left: 1em; padding-right: 1em; text-align: center; vertical-align: top\">PA0016073170-01</td>\n",
       "        <td style=\"padding-left: 1em; padding-right: 1em; text-align: center; vertical-align: top\">0</td>\n",
       "        <td style=\"padding-left: 1em; padding-right: 1em; text-align: center; vertical-align: top\">0</td>\n",
       "        <td style=\"padding-left: 1em; padding-right: 1em; text-align: center; vertical-align: top\">0</td>\n",
       "        <td style=\"padding-left: 1em; padding-right: 1em; text-align: center; vertical-align: top\">0</td>\n",
       "        <td style=\"padding-left: 1em; padding-right: 1em; text-align: center; vertical-align: top\">0</td>\n",
       "        <td style=\"padding-left: 1em; padding-right: 1em; text-align: center; vertical-align: top\">0</td>\n",
       "        <td style=\"padding-left: 1em; padding-right: 1em; text-align: center; vertical-align: top\">0</td>\n",
       "        <td style=\"padding-left: 1em; padding-right: 1em; text-align: center; vertical-align: top\">0</td>\n",
       "        <td style=\"padding-left: 1em; padding-right: 1em; text-align: center; vertical-align: top\">0</td>\n",
       "        <td style=\"padding-left: 1em; padding-right: 1em; text-align: center; vertical-align: top\">0</td>\n",
       "        <td style=\"padding-left: 1em; padding-right: 1em; text-align: center; vertical-align: top\">0</td>\n",
       "        <td style=\"padding-left: 1em; padding-right: 1em; text-align: center; vertical-align: top\">1</td>\n",
       "        <td style=\"padding-left: 1em; padding-right: 1em; text-align: center; vertical-align: top\">0</td>\n",
       "        <td style=\"padding-left: 1em; padding-right: 1em; text-align: center; vertical-align: top\">0</td>\n",
       "    </tr>\n",
       "    <tr>\n",
       "        <td style=\"padding-left: 1em; padding-right: 1em; text-align: center; vertical-align: top\">0769611446-01</td>\n",
       "        <td style=\"padding-left: 1em; padding-right: 1em; text-align: center; vertical-align: top\">0</td>\n",
       "        <td style=\"padding-left: 1em; padding-right: 1em; text-align: center; vertical-align: top\">0</td>\n",
       "        <td style=\"padding-left: 1em; padding-right: 1em; text-align: center; vertical-align: top\">0</td>\n",
       "        <td style=\"padding-left: 1em; padding-right: 1em; text-align: center; vertical-align: top\">0</td>\n",
       "        <td style=\"padding-left: 1em; padding-right: 1em; text-align: center; vertical-align: top\">0</td>\n",
       "        <td style=\"padding-left: 1em; padding-right: 1em; text-align: center; vertical-align: top\">0</td>\n",
       "        <td style=\"padding-left: 1em; padding-right: 1em; text-align: center; vertical-align: top\">0</td>\n",
       "        <td style=\"padding-left: 1em; padding-right: 1em; text-align: center; vertical-align: top\">0</td>\n",
       "        <td style=\"padding-left: 1em; padding-right: 1em; text-align: center; vertical-align: top\">0</td>\n",
       "        <td style=\"padding-left: 1em; padding-right: 1em; text-align: center; vertical-align: top\">0</td>\n",
       "        <td style=\"padding-left: 1em; padding-right: 1em; text-align: center; vertical-align: top\">0</td>\n",
       "        <td style=\"padding-left: 1em; padding-right: 1em; text-align: center; vertical-align: top\">1</td>\n",
       "        <td style=\"padding-left: 1em; padding-right: 1em; text-align: center; vertical-align: top\">0</td>\n",
       "        <td style=\"padding-left: 1em; padding-right: 1em; text-align: center; vertical-align: top\">0</td>\n",
       "    </tr>\n",
       "    <tr>\n",
       "        <td style=\"padding-left: 1em; padding-right: 1em; text-align: center; vertical-align: top\">CA0016558581-02</td>\n",
       "        <td style=\"padding-left: 1em; padding-right: 1em; text-align: center; vertical-align: top\">0</td>\n",
       "        <td style=\"padding-left: 1em; padding-right: 1em; text-align: center; vertical-align: top\">0</td>\n",
       "        <td style=\"padding-left: 1em; padding-right: 1em; text-align: center; vertical-align: top\">0</td>\n",
       "        <td style=\"padding-left: 1em; padding-right: 1em; text-align: center; vertical-align: top\">0</td>\n",
       "        <td style=\"padding-left: 1em; padding-right: 1em; text-align: center; vertical-align: top\">0</td>\n",
       "        <td style=\"padding-left: 1em; padding-right: 1em; text-align: center; vertical-align: top\">0</td>\n",
       "        <td style=\"padding-left: 1em; padding-right: 1em; text-align: center; vertical-align: top\">0</td>\n",
       "        <td style=\"padding-left: 1em; padding-right: 1em; text-align: center; vertical-align: top\">0</td>\n",
       "        <td style=\"padding-left: 1em; padding-right: 1em; text-align: center; vertical-align: top\">0</td>\n",
       "        <td style=\"padding-left: 1em; padding-right: 1em; text-align: center; vertical-align: top\">0</td>\n",
       "        <td style=\"padding-left: 1em; padding-right: 1em; text-align: center; vertical-align: top\">0</td>\n",
       "        <td style=\"padding-left: 1em; padding-right: 1em; text-align: center; vertical-align: top\">1</td>\n",
       "        <td style=\"padding-left: 1em; padding-right: 1em; text-align: center; vertical-align: top\">0</td>\n",
       "        <td style=\"padding-left: 1em; padding-right: 1em; text-align: center; vertical-align: top\">0</td>\n",
       "    </tr>\n",
       "    <tr>\n",
       "        <td style=\"padding-left: 1em; padding-right: 1em; text-align: center; vertical-align: top\">PA0016242498-03</td>\n",
       "        <td style=\"padding-left: 1em; padding-right: 1em; text-align: center; vertical-align: top\">1</td>\n",
       "        <td style=\"padding-left: 1em; padding-right: 1em; text-align: center; vertical-align: top\">0</td>\n",
       "        <td style=\"padding-left: 1em; padding-right: 1em; text-align: center; vertical-align: top\">0</td>\n",
       "        <td style=\"padding-left: 1em; padding-right: 1em; text-align: center; vertical-align: top\">0</td>\n",
       "        <td style=\"padding-left: 1em; padding-right: 1em; text-align: center; vertical-align: top\">0</td>\n",
       "        <td style=\"padding-left: 1em; padding-right: 1em; text-align: center; vertical-align: top\">0</td>\n",
       "        <td style=\"padding-left: 1em; padding-right: 1em; text-align: center; vertical-align: top\">0</td>\n",
       "        <td style=\"padding-left: 1em; padding-right: 1em; text-align: center; vertical-align: top\">0</td>\n",
       "        <td style=\"padding-left: 1em; padding-right: 1em; text-align: center; vertical-align: top\">0</td>\n",
       "        <td style=\"padding-left: 1em; padding-right: 1em; text-align: center; vertical-align: top\">0</td>\n",
       "        <td style=\"padding-left: 1em; padding-right: 1em; text-align: center; vertical-align: top\">1</td>\n",
       "        <td style=\"padding-left: 1em; padding-right: 1em; text-align: center; vertical-align: top\">1</td>\n",
       "        <td style=\"padding-left: 1em; padding-right: 1em; text-align: center; vertical-align: top\">0</td>\n",
       "        <td style=\"padding-left: 1em; padding-right: 1em; text-align: center; vertical-align: top\">0</td>\n",
       "    </tr>\n",
       "    <tr>\n",
       "        <td style=\"padding-left: 1em; padding-right: 1em; text-align: center; vertical-align: top\">0770212818-01</td>\n",
       "        <td style=\"padding-left: 1em; padding-right: 1em; text-align: center; vertical-align: top\">1</td>\n",
       "        <td style=\"padding-left: 1em; padding-right: 1em; text-align: center; vertical-align: top\">0</td>\n",
       "        <td style=\"padding-left: 1em; padding-right: 1em; text-align: center; vertical-align: top\">0</td>\n",
       "        <td style=\"padding-left: 1em; padding-right: 1em; text-align: center; vertical-align: top\">0</td>\n",
       "        <td style=\"padding-left: 1em; padding-right: 1em; text-align: center; vertical-align: top\">0</td>\n",
       "        <td style=\"padding-left: 1em; padding-right: 1em; text-align: center; vertical-align: top\">0</td>\n",
       "        <td style=\"padding-left: 1em; padding-right: 1em; text-align: center; vertical-align: top\">0</td>\n",
       "        <td style=\"padding-left: 1em; padding-right: 1em; text-align: center; vertical-align: top\">0</td>\n",
       "        <td style=\"padding-left: 1em; padding-right: 1em; text-align: center; vertical-align: top\">0</td>\n",
       "        <td style=\"padding-left: 1em; padding-right: 1em; text-align: center; vertical-align: top\">0</td>\n",
       "        <td style=\"padding-left: 1em; padding-right: 1em; text-align: center; vertical-align: top\">0</td>\n",
       "        <td style=\"padding-left: 1em; padding-right: 1em; text-align: center; vertical-align: top\">1</td>\n",
       "        <td style=\"padding-left: 1em; padding-right: 1em; text-align: center; vertical-align: top\">0</td>\n",
       "        <td style=\"padding-left: 1em; padding-right: 1em; text-align: center; vertical-align: top\">0</td>\n",
       "    </tr>\n",
       "    <tr>\n",
       "        <td style=\"padding-left: 1em; padding-right: 1em; text-align: center; vertical-align: top\">PA0016064281-02</td>\n",
       "        <td style=\"padding-left: 1em; padding-right: 1em; text-align: center; vertical-align: top\">0</td>\n",
       "        <td style=\"padding-left: 1em; padding-right: 1em; text-align: center; vertical-align: top\">0</td>\n",
       "        <td style=\"padding-left: 1em; padding-right: 1em; text-align: center; vertical-align: top\">0</td>\n",
       "        <td style=\"padding-left: 1em; padding-right: 1em; text-align: center; vertical-align: top\">0</td>\n",
       "        <td style=\"padding-left: 1em; padding-right: 1em; text-align: center; vertical-align: top\">0</td>\n",
       "        <td style=\"padding-left: 1em; padding-right: 1em; text-align: center; vertical-align: top\">0</td>\n",
       "        <td style=\"padding-left: 1em; padding-right: 1em; text-align: center; vertical-align: top\">0</td>\n",
       "        <td style=\"padding-left: 1em; padding-right: 1em; text-align: center; vertical-align: top\">0</td>\n",
       "        <td style=\"padding-left: 1em; padding-right: 1em; text-align: center; vertical-align: top\">2</td>\n",
       "        <td style=\"padding-left: 1em; padding-right: 1em; text-align: center; vertical-align: top\">0</td>\n",
       "        <td style=\"padding-left: 1em; padding-right: 1em; text-align: center; vertical-align: top\">0</td>\n",
       "        <td style=\"padding-left: 1em; padding-right: 1em; text-align: center; vertical-align: top\">1</td>\n",
       "        <td style=\"padding-left: 1em; padding-right: 1em; text-align: center; vertical-align: top\">0</td>\n",
       "        <td style=\"padding-left: 1em; padding-right: 1em; text-align: center; vertical-align: top\">0</td>\n",
       "    </tr>\n",
       "    <tr>\n",
       "        <td style=\"padding-left: 1em; padding-right: 1em; text-align: center; vertical-align: top\">PA0016487140-03</td>\n",
       "        <td style=\"padding-left: 1em; padding-right: 1em; text-align: center; vertical-align: top\">0</td>\n",
       "        <td style=\"padding-left: 1em; padding-right: 1em; text-align: center; vertical-align: top\">0</td>\n",
       "        <td style=\"padding-left: 1em; padding-right: 1em; text-align: center; vertical-align: top\">0</td>\n",
       "        <td style=\"padding-left: 1em; padding-right: 1em; text-align: center; vertical-align: top\">0</td>\n",
       "        <td style=\"padding-left: 1em; padding-right: 1em; text-align: center; vertical-align: top\">0</td>\n",
       "        <td style=\"padding-left: 1em; padding-right: 1em; text-align: center; vertical-align: top\">0</td>\n",
       "        <td style=\"padding-left: 1em; padding-right: 1em; text-align: center; vertical-align: top\">0</td>\n",
       "        <td style=\"padding-left: 1em; padding-right: 1em; text-align: center; vertical-align: top\">0</td>\n",
       "        <td style=\"padding-left: 1em; padding-right: 1em; text-align: center; vertical-align: top\">0</td>\n",
       "        <td style=\"padding-left: 1em; padding-right: 1em; text-align: center; vertical-align: top\">0</td>\n",
       "        <td style=\"padding-left: 1em; padding-right: 1em; text-align: center; vertical-align: top\">0</td>\n",
       "        <td style=\"padding-left: 1em; padding-right: 1em; text-align: center; vertical-align: top\">1</td>\n",
       "        <td style=\"padding-left: 1em; padding-right: 1em; text-align: center; vertical-align: top\">0</td>\n",
       "        <td style=\"padding-left: 1em; padding-right: 1em; text-align: center; vertical-align: top\">0</td>\n",
       "    </tr>\n",
       "</table>\n",
       "<table frame=\"box\" rules=\"cols\">\n",
       "    <tr>\n",
       "        <th style=\"padding-left: 1em; padding-right: 1em; text-align: center\">6068</th>\n",
       "        <th style=\"padding-left: 1em; padding-right: 1em; text-align: center\">6069</th>\n",
       "        <th style=\"padding-left: 1em; padding-right: 1em; text-align: center\">6070</th>\n",
       "        <th style=\"padding-left: 1em; padding-right: 1em; text-align: center\">6071</th>\n",
       "        <th style=\"padding-left: 1em; padding-right: 1em; text-align: center\">6072</th>\n",
       "        <th style=\"padding-left: 1em; padding-right: 1em; text-align: center\">6073</th>\n",
       "        <th style=\"padding-left: 1em; padding-right: 1em; text-align: center\">6074</th>\n",
       "        <th style=\"padding-left: 1em; padding-right: 1em; text-align: center\">6075</th>\n",
       "        <th style=\"padding-left: 1em; padding-right: 1em; text-align: center\">6076</th>\n",
       "        <th style=\"padding-left: 1em; padding-right: 1em; text-align: center\">6077</th>\n",
       "        <th style=\"padding-left: 1em; padding-right: 1em; text-align: center\">6078</th>\n",
       "        <th style=\"padding-left: 1em; padding-right: 1em; text-align: center\">6079</th>\n",
       "        <th style=\"padding-left: 1em; padding-right: 1em; text-align: center\">6080</th>\n",
       "        <th style=\"padding-left: 1em; padding-right: 1em; text-align: center\">6081</th>\n",
       "        <th style=\"padding-left: 1em; padding-right: 1em; text-align: center\">6082</th>\n",
       "        <th style=\"padding-left: 1em; padding-right: 1em; text-align: center\">6083</th>\n",
       "        <th style=\"padding-left: 1em; padding-right: 1em; text-align: center\">6084</th>\n",
       "    </tr>\n",
       "    <tr>\n",
       "        <td style=\"padding-left: 1em; padding-right: 1em; text-align: center; vertical-align: top\">0</td>\n",
       "        <td style=\"padding-left: 1em; padding-right: 1em; text-align: center; vertical-align: top\">0</td>\n",
       "        <td style=\"padding-left: 1em; padding-right: 1em; text-align: center; vertical-align: top\">0</td>\n",
       "        <td style=\"padding-left: 1em; padding-right: 1em; text-align: center; vertical-align: top\">0</td>\n",
       "        <td style=\"padding-left: 1em; padding-right: 1em; text-align: center; vertical-align: top\">0</td>\n",
       "        <td style=\"padding-left: 1em; padding-right: 1em; text-align: center; vertical-align: top\">0</td>\n",
       "        <td style=\"padding-left: 1em; padding-right: 1em; text-align: center; vertical-align: top\">0</td>\n",
       "        <td style=\"padding-left: 1em; padding-right: 1em; text-align: center; vertical-align: top\">0</td>\n",
       "        <td style=\"padding-left: 1em; padding-right: 1em; text-align: center; vertical-align: top\">0</td>\n",
       "        <td style=\"padding-left: 1em; padding-right: 1em; text-align: center; vertical-align: top\">0</td>\n",
       "        <td style=\"padding-left: 1em; padding-right: 1em; text-align: center; vertical-align: top\">0</td>\n",
       "        <td style=\"padding-left: 1em; padding-right: 1em; text-align: center; vertical-align: top\">0</td>\n",
       "        <td style=\"padding-left: 1em; padding-right: 1em; text-align: center; vertical-align: top\">0</td>\n",
       "        <td style=\"padding-left: 1em; padding-right: 1em; text-align: center; vertical-align: top\">0</td>\n",
       "        <td style=\"padding-left: 1em; padding-right: 1em; text-align: center; vertical-align: top\">0</td>\n",
       "        <td style=\"padding-left: 1em; padding-right: 1em; text-align: center; vertical-align: top\">0</td>\n",
       "        <td style=\"padding-left: 1em; padding-right: 1em; text-align: center; vertical-align: top\">0</td>\n",
       "    </tr>\n",
       "    <tr>\n",
       "        <td style=\"padding-left: 1em; padding-right: 1em; text-align: center; vertical-align: top\">0</td>\n",
       "        <td style=\"padding-left: 1em; padding-right: 1em; text-align: center; vertical-align: top\">0</td>\n",
       "        <td style=\"padding-left: 1em; padding-right: 1em; text-align: center; vertical-align: top\">0</td>\n",
       "        <td style=\"padding-left: 1em; padding-right: 1em; text-align: center; vertical-align: top\">0</td>\n",
       "        <td style=\"padding-left: 1em; padding-right: 1em; text-align: center; vertical-align: top\">0</td>\n",
       "        <td style=\"padding-left: 1em; padding-right: 1em; text-align: center; vertical-align: top\">0</td>\n",
       "        <td style=\"padding-left: 1em; padding-right: 1em; text-align: center; vertical-align: top\">0</td>\n",
       "        <td style=\"padding-left: 1em; padding-right: 1em; text-align: center; vertical-align: top\">0</td>\n",
       "        <td style=\"padding-left: 1em; padding-right: 1em; text-align: center; vertical-align: top\">0</td>\n",
       "        <td style=\"padding-left: 1em; padding-right: 1em; text-align: center; vertical-align: top\">0</td>\n",
       "        <td style=\"padding-left: 1em; padding-right: 1em; text-align: center; vertical-align: top\">0</td>\n",
       "        <td style=\"padding-left: 1em; padding-right: 1em; text-align: center; vertical-align: top\">0</td>\n",
       "        <td style=\"padding-left: 1em; padding-right: 1em; text-align: center; vertical-align: top\">0</td>\n",
       "        <td style=\"padding-left: 1em; padding-right: 1em; text-align: center; vertical-align: top\">0</td>\n",
       "        <td style=\"padding-left: 1em; padding-right: 1em; text-align: center; vertical-align: top\">0</td>\n",
       "        <td style=\"padding-left: 1em; padding-right: 1em; text-align: center; vertical-align: top\">0</td>\n",
       "        <td style=\"padding-left: 1em; padding-right: 1em; text-align: center; vertical-align: top\">0</td>\n",
       "    </tr>\n",
       "    <tr>\n",
       "        <td style=\"padding-left: 1em; padding-right: 1em; text-align: center; vertical-align: top\">0</td>\n",
       "        <td style=\"padding-left: 1em; padding-right: 1em; text-align: center; vertical-align: top\">0</td>\n",
       "        <td style=\"padding-left: 1em; padding-right: 1em; text-align: center; vertical-align: top\">0</td>\n",
       "        <td style=\"padding-left: 1em; padding-right: 1em; text-align: center; vertical-align: top\">0</td>\n",
       "        <td style=\"padding-left: 1em; padding-right: 1em; text-align: center; vertical-align: top\">0</td>\n",
       "        <td style=\"padding-left: 1em; padding-right: 1em; text-align: center; vertical-align: top\">0</td>\n",
       "        <td style=\"padding-left: 1em; padding-right: 1em; text-align: center; vertical-align: top\">0</td>\n",
       "        <td style=\"padding-left: 1em; padding-right: 1em; text-align: center; vertical-align: top\">0</td>\n",
       "        <td style=\"padding-left: 1em; padding-right: 1em; text-align: center; vertical-align: top\">0</td>\n",
       "        <td style=\"padding-left: 1em; padding-right: 1em; text-align: center; vertical-align: top\">0</td>\n",
       "        <td style=\"padding-left: 1em; padding-right: 1em; text-align: center; vertical-align: top\">0</td>\n",
       "        <td style=\"padding-left: 1em; padding-right: 1em; text-align: center; vertical-align: top\">0</td>\n",
       "        <td style=\"padding-left: 1em; padding-right: 1em; text-align: center; vertical-align: top\">0</td>\n",
       "        <td style=\"padding-left: 1em; padding-right: 1em; text-align: center; vertical-align: top\">0</td>\n",
       "        <td style=\"padding-left: 1em; padding-right: 1em; text-align: center; vertical-align: top\">0</td>\n",
       "        <td style=\"padding-left: 1em; padding-right: 1em; text-align: center; vertical-align: top\">0</td>\n",
       "        <td style=\"padding-left: 1em; padding-right: 1em; text-align: center; vertical-align: top\">0</td>\n",
       "    </tr>\n",
       "    <tr>\n",
       "        <td style=\"padding-left: 1em; padding-right: 1em; text-align: center; vertical-align: top\">0</td>\n",
       "        <td style=\"padding-left: 1em; padding-right: 1em; text-align: center; vertical-align: top\">0</td>\n",
       "        <td style=\"padding-left: 1em; padding-right: 1em; text-align: center; vertical-align: top\">0</td>\n",
       "        <td style=\"padding-left: 1em; padding-right: 1em; text-align: center; vertical-align: top\">0</td>\n",
       "        <td style=\"padding-left: 1em; padding-right: 1em; text-align: center; vertical-align: top\">0</td>\n",
       "        <td style=\"padding-left: 1em; padding-right: 1em; text-align: center; vertical-align: top\">0</td>\n",
       "        <td style=\"padding-left: 1em; padding-right: 1em; text-align: center; vertical-align: top\">0</td>\n",
       "        <td style=\"padding-left: 1em; padding-right: 1em; text-align: center; vertical-align: top\">0</td>\n",
       "        <td style=\"padding-left: 1em; padding-right: 1em; text-align: center; vertical-align: top\">0</td>\n",
       "        <td style=\"padding-left: 1em; padding-right: 1em; text-align: center; vertical-align: top\">0</td>\n",
       "        <td style=\"padding-left: 1em; padding-right: 1em; text-align: center; vertical-align: top\">0</td>\n",
       "        <td style=\"padding-left: 1em; padding-right: 1em; text-align: center; vertical-align: top\">0</td>\n",
       "        <td style=\"padding-left: 1em; padding-right: 1em; text-align: center; vertical-align: top\">0</td>\n",
       "        <td style=\"padding-left: 1em; padding-right: 1em; text-align: center; vertical-align: top\">0</td>\n",
       "        <td style=\"padding-left: 1em; padding-right: 1em; text-align: center; vertical-align: top\">0</td>\n",
       "        <td style=\"padding-left: 1em; padding-right: 1em; text-align: center; vertical-align: top\">0</td>\n",
       "        <td style=\"padding-left: 1em; padding-right: 1em; text-align: center; vertical-align: top\">0</td>\n",
       "    </tr>\n",
       "    <tr>\n",
       "        <td style=\"padding-left: 1em; padding-right: 1em; text-align: center; vertical-align: top\">0</td>\n",
       "        <td style=\"padding-left: 1em; padding-right: 1em; text-align: center; vertical-align: top\">1</td>\n",
       "        <td style=\"padding-left: 1em; padding-right: 1em; text-align: center; vertical-align: top\">0</td>\n",
       "        <td style=\"padding-left: 1em; padding-right: 1em; text-align: center; vertical-align: top\">0</td>\n",
       "        <td style=\"padding-left: 1em; padding-right: 1em; text-align: center; vertical-align: top\">0</td>\n",
       "        <td style=\"padding-left: 1em; padding-right: 1em; text-align: center; vertical-align: top\">0</td>\n",
       "        <td style=\"padding-left: 1em; padding-right: 1em; text-align: center; vertical-align: top\">0</td>\n",
       "        <td style=\"padding-left: 1em; padding-right: 1em; text-align: center; vertical-align: top\">0</td>\n",
       "        <td style=\"padding-left: 1em; padding-right: 1em; text-align: center; vertical-align: top\">0</td>\n",
       "        <td style=\"padding-left: 1em; padding-right: 1em; text-align: center; vertical-align: top\">0</td>\n",
       "        <td style=\"padding-left: 1em; padding-right: 1em; text-align: center; vertical-align: top\">0</td>\n",
       "        <td style=\"padding-left: 1em; padding-right: 1em; text-align: center; vertical-align: top\">0</td>\n",
       "        <td style=\"padding-left: 1em; padding-right: 1em; text-align: center; vertical-align: top\">0</td>\n",
       "        <td style=\"padding-left: 1em; padding-right: 1em; text-align: center; vertical-align: top\">0</td>\n",
       "        <td style=\"padding-left: 1em; padding-right: 1em; text-align: center; vertical-align: top\">0</td>\n",
       "        <td style=\"padding-left: 1em; padding-right: 1em; text-align: center; vertical-align: top\">0</td>\n",
       "        <td style=\"padding-left: 1em; padding-right: 1em; text-align: center; vertical-align: top\">0</td>\n",
       "    </tr>\n",
       "    <tr>\n",
       "        <td style=\"padding-left: 1em; padding-right: 1em; text-align: center; vertical-align: top\">0</td>\n",
       "        <td style=\"padding-left: 1em; padding-right: 1em; text-align: center; vertical-align: top\">0</td>\n",
       "        <td style=\"padding-left: 1em; padding-right: 1em; text-align: center; vertical-align: top\">0</td>\n",
       "        <td style=\"padding-left: 1em; padding-right: 1em; text-align: center; vertical-align: top\">0</td>\n",
       "        <td style=\"padding-left: 1em; padding-right: 1em; text-align: center; vertical-align: top\">0</td>\n",
       "        <td style=\"padding-left: 1em; padding-right: 1em; text-align: center; vertical-align: top\">1</td>\n",
       "        <td style=\"padding-left: 1em; padding-right: 1em; text-align: center; vertical-align: top\">0</td>\n",
       "        <td style=\"padding-left: 1em; padding-right: 1em; text-align: center; vertical-align: top\">0</td>\n",
       "        <td style=\"padding-left: 1em; padding-right: 1em; text-align: center; vertical-align: top\">0</td>\n",
       "        <td style=\"padding-left: 1em; padding-right: 1em; text-align: center; vertical-align: top\">0</td>\n",
       "        <td style=\"padding-left: 1em; padding-right: 1em; text-align: center; vertical-align: top\">0</td>\n",
       "        <td style=\"padding-left: 1em; padding-right: 1em; text-align: center; vertical-align: top\">0</td>\n",
       "        <td style=\"padding-left: 1em; padding-right: 1em; text-align: center; vertical-align: top\">0</td>\n",
       "        <td style=\"padding-left: 1em; padding-right: 1em; text-align: center; vertical-align: top\">0</td>\n",
       "        <td style=\"padding-left: 1em; padding-right: 1em; text-align: center; vertical-align: top\">0</td>\n",
       "        <td style=\"padding-left: 1em; padding-right: 1em; text-align: center; vertical-align: top\">0</td>\n",
       "        <td style=\"padding-left: 1em; padding-right: 1em; text-align: center; vertical-align: top\">0</td>\n",
       "    </tr>\n",
       "    <tr>\n",
       "        <td style=\"padding-left: 1em; padding-right: 1em; text-align: center; vertical-align: top\">0</td>\n",
       "        <td style=\"padding-left: 1em; padding-right: 1em; text-align: center; vertical-align: top\">0</td>\n",
       "        <td style=\"padding-left: 1em; padding-right: 1em; text-align: center; vertical-align: top\">0</td>\n",
       "        <td style=\"padding-left: 1em; padding-right: 1em; text-align: center; vertical-align: top\">0</td>\n",
       "        <td style=\"padding-left: 1em; padding-right: 1em; text-align: center; vertical-align: top\">0</td>\n",
       "        <td style=\"padding-left: 1em; padding-right: 1em; text-align: center; vertical-align: top\">0</td>\n",
       "        <td style=\"padding-left: 1em; padding-right: 1em; text-align: center; vertical-align: top\">0</td>\n",
       "        <td style=\"padding-left: 1em; padding-right: 1em; text-align: center; vertical-align: top\">0</td>\n",
       "        <td style=\"padding-left: 1em; padding-right: 1em; text-align: center; vertical-align: top\">0</td>\n",
       "        <td style=\"padding-left: 1em; padding-right: 1em; text-align: center; vertical-align: top\">0</td>\n",
       "        <td style=\"padding-left: 1em; padding-right: 1em; text-align: center; vertical-align: top\">0</td>\n",
       "        <td style=\"padding-left: 1em; padding-right: 1em; text-align: center; vertical-align: top\">0</td>\n",
       "        <td style=\"padding-left: 1em; padding-right: 1em; text-align: center; vertical-align: top\">0</td>\n",
       "        <td style=\"padding-left: 1em; padding-right: 1em; text-align: center; vertical-align: top\">0</td>\n",
       "        <td style=\"padding-left: 1em; padding-right: 1em; text-align: center; vertical-align: top\">0</td>\n",
       "        <td style=\"padding-left: 1em; padding-right: 1em; text-align: center; vertical-align: top\">0</td>\n",
       "        <td style=\"padding-left: 1em; padding-right: 1em; text-align: center; vertical-align: top\">0</td>\n",
       "    </tr>\n",
       "    <tr>\n",
       "        <td style=\"padding-left: 1em; padding-right: 1em; text-align: center; vertical-align: top\">0</td>\n",
       "        <td style=\"padding-left: 1em; padding-right: 1em; text-align: center; vertical-align: top\">0</td>\n",
       "        <td style=\"padding-left: 1em; padding-right: 1em; text-align: center; vertical-align: top\">0</td>\n",
       "        <td style=\"padding-left: 1em; padding-right: 1em; text-align: center; vertical-align: top\">0</td>\n",
       "        <td style=\"padding-left: 1em; padding-right: 1em; text-align: center; vertical-align: top\">0</td>\n",
       "        <td style=\"padding-left: 1em; padding-right: 1em; text-align: center; vertical-align: top\">0</td>\n",
       "        <td style=\"padding-left: 1em; padding-right: 1em; text-align: center; vertical-align: top\">0</td>\n",
       "        <td style=\"padding-left: 1em; padding-right: 1em; text-align: center; vertical-align: top\">0</td>\n",
       "        <td style=\"padding-left: 1em; padding-right: 1em; text-align: center; vertical-align: top\">0</td>\n",
       "        <td style=\"padding-left: 1em; padding-right: 1em; text-align: center; vertical-align: top\">0</td>\n",
       "        <td style=\"padding-left: 1em; padding-right: 1em; text-align: center; vertical-align: top\">0</td>\n",
       "        <td style=\"padding-left: 1em; padding-right: 1em; text-align: center; vertical-align: top\">0</td>\n",
       "        <td style=\"padding-left: 1em; padding-right: 1em; text-align: center; vertical-align: top\">0</td>\n",
       "        <td style=\"padding-left: 1em; padding-right: 1em; text-align: center; vertical-align: top\">0</td>\n",
       "        <td style=\"padding-left: 1em; padding-right: 1em; text-align: center; vertical-align: top\">0</td>\n",
       "        <td style=\"padding-left: 1em; padding-right: 1em; text-align: center; vertical-align: top\">0</td>\n",
       "        <td style=\"padding-left: 1em; padding-right: 1em; text-align: center; vertical-align: top\">0</td>\n",
       "    </tr>\n",
       "    <tr>\n",
       "        <td style=\"padding-left: 1em; padding-right: 1em; text-align: center; vertical-align: top\">0</td>\n",
       "        <td style=\"padding-left: 1em; padding-right: 1em; text-align: center; vertical-align: top\">0</td>\n",
       "        <td style=\"padding-left: 1em; padding-right: 1em; text-align: center; vertical-align: top\">0</td>\n",
       "        <td style=\"padding-left: 1em; padding-right: 1em; text-align: center; vertical-align: top\">0</td>\n",
       "        <td style=\"padding-left: 1em; padding-right: 1em; text-align: center; vertical-align: top\">0</td>\n",
       "        <td style=\"padding-left: 1em; padding-right: 1em; text-align: center; vertical-align: top\">0</td>\n",
       "        <td style=\"padding-left: 1em; padding-right: 1em; text-align: center; vertical-align: top\">0</td>\n",
       "        <td style=\"padding-left: 1em; padding-right: 1em; text-align: center; vertical-align: top\">0</td>\n",
       "        <td style=\"padding-left: 1em; padding-right: 1em; text-align: center; vertical-align: top\">0</td>\n",
       "        <td style=\"padding-left: 1em; padding-right: 1em; text-align: center; vertical-align: top\">0</td>\n",
       "        <td style=\"padding-left: 1em; padding-right: 1em; text-align: center; vertical-align: top\">0</td>\n",
       "        <td style=\"padding-left: 1em; padding-right: 1em; text-align: center; vertical-align: top\">0</td>\n",
       "        <td style=\"padding-left: 1em; padding-right: 1em; text-align: center; vertical-align: top\">0</td>\n",
       "        <td style=\"padding-left: 1em; padding-right: 1em; text-align: center; vertical-align: top\">0</td>\n",
       "        <td style=\"padding-left: 1em; padding-right: 1em; text-align: center; vertical-align: top\">0</td>\n",
       "        <td style=\"padding-left: 1em; padding-right: 1em; text-align: center; vertical-align: top\">0</td>\n",
       "        <td style=\"padding-left: 1em; padding-right: 1em; text-align: center; vertical-align: top\">0</td>\n",
       "    </tr>\n",
       "    <tr>\n",
       "        <td style=\"padding-left: 1em; padding-right: 1em; text-align: center; vertical-align: top\">0</td>\n",
       "        <td style=\"padding-left: 1em; padding-right: 1em; text-align: center; vertical-align: top\">0</td>\n",
       "        <td style=\"padding-left: 1em; padding-right: 1em; text-align: center; vertical-align: top\">0</td>\n",
       "        <td style=\"padding-left: 1em; padding-right: 1em; text-align: center; vertical-align: top\">0</td>\n",
       "        <td style=\"padding-left: 1em; padding-right: 1em; text-align: center; vertical-align: top\">0</td>\n",
       "        <td style=\"padding-left: 1em; padding-right: 1em; text-align: center; vertical-align: top\">0</td>\n",
       "        <td style=\"padding-left: 1em; padding-right: 1em; text-align: center; vertical-align: top\">0</td>\n",
       "        <td style=\"padding-left: 1em; padding-right: 1em; text-align: center; vertical-align: top\">0</td>\n",
       "        <td style=\"padding-left: 1em; padding-right: 1em; text-align: center; vertical-align: top\">0</td>\n",
       "        <td style=\"padding-left: 1em; padding-right: 1em; text-align: center; vertical-align: top\">0</td>\n",
       "        <td style=\"padding-left: 1em; padding-right: 1em; text-align: center; vertical-align: top\">0</td>\n",
       "        <td style=\"padding-left: 1em; padding-right: 1em; text-align: center; vertical-align: top\">0</td>\n",
       "        <td style=\"padding-left: 1em; padding-right: 1em; text-align: center; vertical-align: top\">0</td>\n",
       "        <td style=\"padding-left: 1em; padding-right: 1em; text-align: center; vertical-align: top\">0</td>\n",
       "        <td style=\"padding-left: 1em; padding-right: 1em; text-align: center; vertical-align: top\">0</td>\n",
       "        <td style=\"padding-left: 1em; padding-right: 1em; text-align: center; vertical-align: top\">0</td>\n",
       "        <td style=\"padding-left: 1em; padding-right: 1em; text-align: center; vertical-align: top\">0</td>\n",
       "    </tr>\n",
       "</table>\n",
       "<table frame=\"box\" rules=\"cols\">\n",
       "    <tr>\n",
       "        <th style=\"padding-left: 1em; padding-right: 1em; text-align: center\">6085</th>\n",
       "        <th style=\"padding-left: 1em; padding-right: 1em; text-align: center\">6087</th>\n",
       "        <th style=\"padding-left: 1em; padding-right: 1em; text-align: center\">6088</th>\n",
       "        <th style=\"padding-left: 1em; padding-right: 1em; text-align: center\">6089</th>\n",
       "        <th style=\"padding-left: 1em; padding-right: 1em; text-align: center\">7778</th>\n",
       "        <th style=\"padding-left: 1em; padding-right: 1em; text-align: center\">7779</th>\n",
       "        <th style=\"padding-left: 1em; padding-right: 1em; text-align: center\">7781</th>\n",
       "        <th style=\"padding-left: 1em; padding-right: 1em; text-align: center\">7782</th>\n",
       "        <th style=\"padding-left: 1em; padding-right: 1em; text-align: center\">...</th>\n",
       "    </tr>\n",
       "    <tr>\n",
       "        <td style=\"padding-left: 1em; padding-right: 1em; text-align: center; vertical-align: top\">0</td>\n",
       "        <td style=\"padding-left: 1em; padding-right: 1em; text-align: center; vertical-align: top\">0</td>\n",
       "        <td style=\"padding-left: 1em; padding-right: 1em; text-align: center; vertical-align: top\">0</td>\n",
       "        <td style=\"padding-left: 1em; padding-right: 1em; text-align: center; vertical-align: top\">0</td>\n",
       "        <td style=\"padding-left: 1em; padding-right: 1em; text-align: center; vertical-align: top\">0</td>\n",
       "        <td style=\"padding-left: 1em; padding-right: 1em; text-align: center; vertical-align: top\">0</td>\n",
       "        <td style=\"padding-left: 1em; padding-right: 1em; text-align: center; vertical-align: top\">0</td>\n",
       "        <td style=\"padding-left: 1em; padding-right: 1em; text-align: center; vertical-align: top\">0</td>\n",
       "        <td style=\"padding-left: 1em; padding-right: 1em; text-align: center; vertical-align: top\">...</td>\n",
       "    </tr>\n",
       "    <tr>\n",
       "        <td style=\"padding-left: 1em; padding-right: 1em; text-align: center; vertical-align: top\">0</td>\n",
       "        <td style=\"padding-left: 1em; padding-right: 1em; text-align: center; vertical-align: top\">0</td>\n",
       "        <td style=\"padding-left: 1em; padding-right: 1em; text-align: center; vertical-align: top\">0</td>\n",
       "        <td style=\"padding-left: 1em; padding-right: 1em; text-align: center; vertical-align: top\">0</td>\n",
       "        <td style=\"padding-left: 1em; padding-right: 1em; text-align: center; vertical-align: top\">1</td>\n",
       "        <td style=\"padding-left: 1em; padding-right: 1em; text-align: center; vertical-align: top\">1</td>\n",
       "        <td style=\"padding-left: 1em; padding-right: 1em; text-align: center; vertical-align: top\">1</td>\n",
       "        <td style=\"padding-left: 1em; padding-right: 1em; text-align: center; vertical-align: top\">1</td>\n",
       "        <td style=\"padding-left: 1em; padding-right: 1em; text-align: center; vertical-align: top\">...</td>\n",
       "    </tr>\n",
       "    <tr>\n",
       "        <td style=\"padding-left: 1em; padding-right: 1em; text-align: center; vertical-align: top\">0</td>\n",
       "        <td style=\"padding-left: 1em; padding-right: 1em; text-align: center; vertical-align: top\">0</td>\n",
       "        <td style=\"padding-left: 1em; padding-right: 1em; text-align: center; vertical-align: top\">0</td>\n",
       "        <td style=\"padding-left: 1em; padding-right: 1em; text-align: center; vertical-align: top\">0</td>\n",
       "        <td style=\"padding-left: 1em; padding-right: 1em; text-align: center; vertical-align: top\">0</td>\n",
       "        <td style=\"padding-left: 1em; padding-right: 1em; text-align: center; vertical-align: top\">1</td>\n",
       "        <td style=\"padding-left: 1em; padding-right: 1em; text-align: center; vertical-align: top\">0</td>\n",
       "        <td style=\"padding-left: 1em; padding-right: 1em; text-align: center; vertical-align: top\">0</td>\n",
       "        <td style=\"padding-left: 1em; padding-right: 1em; text-align: center; vertical-align: top\">...</td>\n",
       "    </tr>\n",
       "    <tr>\n",
       "        <td style=\"padding-left: 1em; padding-right: 1em; text-align: center; vertical-align: top\">1</td>\n",
       "        <td style=\"padding-left: 1em; padding-right: 1em; text-align: center; vertical-align: top\">0</td>\n",
       "        <td style=\"padding-left: 1em; padding-right: 1em; text-align: center; vertical-align: top\">0</td>\n",
       "        <td style=\"padding-left: 1em; padding-right: 1em; text-align: center; vertical-align: top\">0</td>\n",
       "        <td style=\"padding-left: 1em; padding-right: 1em; text-align: center; vertical-align: top\">1</td>\n",
       "        <td style=\"padding-left: 1em; padding-right: 1em; text-align: center; vertical-align: top\">2</td>\n",
       "        <td style=\"padding-left: 1em; padding-right: 1em; text-align: center; vertical-align: top\">0</td>\n",
       "        <td style=\"padding-left: 1em; padding-right: 1em; text-align: center; vertical-align: top\">0</td>\n",
       "        <td style=\"padding-left: 1em; padding-right: 1em; text-align: center; vertical-align: top\">...</td>\n",
       "    </tr>\n",
       "    <tr>\n",
       "        <td style=\"padding-left: 1em; padding-right: 1em; text-align: center; vertical-align: top\">0</td>\n",
       "        <td style=\"padding-left: 1em; padding-right: 1em; text-align: center; vertical-align: top\">0</td>\n",
       "        <td style=\"padding-left: 1em; padding-right: 1em; text-align: center; vertical-align: top\">0</td>\n",
       "        <td style=\"padding-left: 1em; padding-right: 1em; text-align: center; vertical-align: top\">0</td>\n",
       "        <td style=\"padding-left: 1em; padding-right: 1em; text-align: center; vertical-align: top\">1</td>\n",
       "        <td style=\"padding-left: 1em; padding-right: 1em; text-align: center; vertical-align: top\">3</td>\n",
       "        <td style=\"padding-left: 1em; padding-right: 1em; text-align: center; vertical-align: top\">0</td>\n",
       "        <td style=\"padding-left: 1em; padding-right: 1em; text-align: center; vertical-align: top\">2</td>\n",
       "        <td style=\"padding-left: 1em; padding-right: 1em; text-align: center; vertical-align: top\">...</td>\n",
       "    </tr>\n",
       "    <tr>\n",
       "        <td style=\"padding-left: 1em; padding-right: 1em; text-align: center; vertical-align: top\">0</td>\n",
       "        <td style=\"padding-left: 1em; padding-right: 1em; text-align: center; vertical-align: top\">0</td>\n",
       "        <td style=\"padding-left: 1em; padding-right: 1em; text-align: center; vertical-align: top\">0</td>\n",
       "        <td style=\"padding-left: 1em; padding-right: 1em; text-align: center; vertical-align: top\">0</td>\n",
       "        <td style=\"padding-left: 1em; padding-right: 1em; text-align: center; vertical-align: top\">1</td>\n",
       "        <td style=\"padding-left: 1em; padding-right: 1em; text-align: center; vertical-align: top\">2</td>\n",
       "        <td style=\"padding-left: 1em; padding-right: 1em; text-align: center; vertical-align: top\">0</td>\n",
       "        <td style=\"padding-left: 1em; padding-right: 1em; text-align: center; vertical-align: top\">2</td>\n",
       "        <td style=\"padding-left: 1em; padding-right: 1em; text-align: center; vertical-align: top\">...</td>\n",
       "    </tr>\n",
       "    <tr>\n",
       "        <td style=\"padding-left: 1em; padding-right: 1em; text-align: center; vertical-align: top\">0</td>\n",
       "        <td style=\"padding-left: 1em; padding-right: 1em; text-align: center; vertical-align: top\">0</td>\n",
       "        <td style=\"padding-left: 1em; padding-right: 1em; text-align: center; vertical-align: top\">0</td>\n",
       "        <td style=\"padding-left: 1em; padding-right: 1em; text-align: center; vertical-align: top\">0</td>\n",
       "        <td style=\"padding-left: 1em; padding-right: 1em; text-align: center; vertical-align: top\">2</td>\n",
       "        <td style=\"padding-left: 1em; padding-right: 1em; text-align: center; vertical-align: top\">1</td>\n",
       "        <td style=\"padding-left: 1em; padding-right: 1em; text-align: center; vertical-align: top\">2</td>\n",
       "        <td style=\"padding-left: 1em; padding-right: 1em; text-align: center; vertical-align: top\">2</td>\n",
       "        <td style=\"padding-left: 1em; padding-right: 1em; text-align: center; vertical-align: top\">...</td>\n",
       "    </tr>\n",
       "    <tr>\n",
       "        <td style=\"padding-left: 1em; padding-right: 1em; text-align: center; vertical-align: top\">2</td>\n",
       "        <td style=\"padding-left: 1em; padding-right: 1em; text-align: center; vertical-align: top\">0</td>\n",
       "        <td style=\"padding-left: 1em; padding-right: 1em; text-align: center; vertical-align: top\">0</td>\n",
       "        <td style=\"padding-left: 1em; padding-right: 1em; text-align: center; vertical-align: top\">0</td>\n",
       "        <td style=\"padding-left: 1em; padding-right: 1em; text-align: center; vertical-align: top\">1</td>\n",
       "        <td style=\"padding-left: 1em; padding-right: 1em; text-align: center; vertical-align: top\">3</td>\n",
       "        <td style=\"padding-left: 1em; padding-right: 1em; text-align: center; vertical-align: top\">2</td>\n",
       "        <td style=\"padding-left: 1em; padding-right: 1em; text-align: center; vertical-align: top\">2</td>\n",
       "        <td style=\"padding-left: 1em; padding-right: 1em; text-align: center; vertical-align: top\">...</td>\n",
       "    </tr>\n",
       "    <tr>\n",
       "        <td style=\"padding-left: 1em; padding-right: 1em; text-align: center; vertical-align: top\">0</td>\n",
       "        <td style=\"padding-left: 1em; padding-right: 1em; text-align: center; vertical-align: top\">0</td>\n",
       "        <td style=\"padding-left: 1em; padding-right: 1em; text-align: center; vertical-align: top\">0</td>\n",
       "        <td style=\"padding-left: 1em; padding-right: 1em; text-align: center; vertical-align: top\">0</td>\n",
       "        <td style=\"padding-left: 1em; padding-right: 1em; text-align: center; vertical-align: top\">1</td>\n",
       "        <td style=\"padding-left: 1em; padding-right: 1em; text-align: center; vertical-align: top\">0</td>\n",
       "        <td style=\"padding-left: 1em; padding-right: 1em; text-align: center; vertical-align: top\">0</td>\n",
       "        <td style=\"padding-left: 1em; padding-right: 1em; text-align: center; vertical-align: top\">0</td>\n",
       "        <td style=\"padding-left: 1em; padding-right: 1em; text-align: center; vertical-align: top\">...</td>\n",
       "    </tr>\n",
       "    <tr>\n",
       "        <td style=\"padding-left: 1em; padding-right: 1em; text-align: center; vertical-align: top\">0</td>\n",
       "        <td style=\"padding-left: 1em; padding-right: 1em; text-align: center; vertical-align: top\">0</td>\n",
       "        <td style=\"padding-left: 1em; padding-right: 1em; text-align: center; vertical-align: top\">1</td>\n",
       "        <td style=\"padding-left: 1em; padding-right: 1em; text-align: center; vertical-align: top\">0</td>\n",
       "        <td style=\"padding-left: 1em; padding-right: 1em; text-align: center; vertical-align: top\">2</td>\n",
       "        <td style=\"padding-left: 1em; padding-right: 1em; text-align: center; vertical-align: top\">0</td>\n",
       "        <td style=\"padding-left: 1em; padding-right: 1em; text-align: center; vertical-align: top\">1</td>\n",
       "        <td style=\"padding-left: 1em; padding-right: 1em; text-align: center; vertical-align: top\">2</td>\n",
       "        <td style=\"padding-left: 1em; padding-right: 1em; text-align: center; vertical-align: top\">...</td>\n",
       "    </tr>\n",
       "</table>\n",
       "[10 rows x 59 columns]<br/>\n",
       "</div>"
      ],
      "text/plain": [
       "Columns:\n",
       "\tClaimNumber\tstr\n",
       "\tEvalResult\tint\n",
       "\t6054\tint\n",
       "\t6055\tint\n",
       "\t6056\tint\n",
       "\t6057\tint\n",
       "\t6058\tint\n",
       "\t6060\tint\n",
       "\t6061\tint\n",
       "\t6062\tint\n",
       "\t6063\tint\n",
       "\t6064\tint\n",
       "\t6065\tint\n",
       "\t6066\tint\n",
       "\t6067\tint\n",
       "\t6068\tint\n",
       "\t6069\tint\n",
       "\t6070\tint\n",
       "\t6071\tint\n",
       "\t6072\tint\n",
       "\t6073\tint\n",
       "\t6074\tint\n",
       "\t6075\tint\n",
       "\t6076\tint\n",
       "\t6077\tint\n",
       "\t6078\tint\n",
       "\t6079\tint\n",
       "\t6080\tint\n",
       "\t6081\tint\n",
       "\t6082\tint\n",
       "\t6083\tint\n",
       "\t6084\tint\n",
       "\t6085\tint\n",
       "\t6087\tint\n",
       "\t6088\tint\n",
       "\t6089\tint\n",
       "\t7778\tint\n",
       "\t7779\tint\n",
       "\t7781\tint\n",
       "\t7782\tint\n",
       "\t7783\tint\n",
       "\t7786\tint\n",
       "\t7788\tint\n",
       "\t7789\tint\n",
       "\t7791\tint\n",
       "\t7792\tint\n",
       "\t7925\tint\n",
       "\t7926\tint\n",
       "\t7927\tint\n",
       "\t7928\tint\n",
       "\t7929\tint\n",
       "\t7930\tint\n",
       "\t7931\tint\n",
       "\t8445\tint\n",
       "\t8446\tint\n",
       "\t8447\tint\n",
       "\t8448\tint\n",
       "\t8449\tint\n",
       "\t8450\tint\n",
       "\n",
       "Rows: 10\n",
       "\n",
       "Data:\n",
       "+-----------------+------------+------+------+------+------+------+------+------+\n",
       "|   ClaimNumber   | EvalResult | 6054 | 6055 | 6056 | 6057 | 6058 | 6060 | 6061 |\n",
       "+-----------------+------------+------+------+------+------+------+------+------+\n",
       "| PA0016328393-01 |     0      |  0   |  0   |  0   |  0   |  0   |  0   |  0   |\n",
       "| PA0016572061-01 |     0      |  0   |  0   |  0   |  0   |  0   |  0   |  0   |\n",
       "|  0771762678-01  |     0      |  0   |  0   |  0   |  0   |  0   |  0   |  0   |\n",
       "| PA0016073170-01 |     0      |  0   |  0   |  0   |  0   |  0   |  0   |  0   |\n",
       "|  0769611446-01  |     0      |  0   |  0   |  0   |  0   |  0   |  0   |  0   |\n",
       "| CA0016558581-02 |     0      |  0   |  0   |  0   |  0   |  0   |  0   |  0   |\n",
       "| PA0016242498-03 |     1      |  0   |  0   |  0   |  0   |  0   |  0   |  0   |\n",
       "|  0770212818-01  |     1      |  0   |  0   |  0   |  0   |  0   |  0   |  0   |\n",
       "| PA0016064281-02 |     0      |  0   |  0   |  0   |  0   |  0   |  0   |  0   |\n",
       "| PA0016487140-03 |     0      |  0   |  0   |  0   |  0   |  0   |  0   |  0   |\n",
       "+-----------------+------------+------+------+------+------+------+------+------+\n",
       "+------+------+------+------+------+------+------+------+------+------+------+-----+\n",
       "| 6062 | 6063 | 6064 | 6065 | 6066 | 6067 | 6068 | 6069 | 6070 | 6071 | 6072 | ... |\n",
       "+------+------+------+------+------+------+------+------+------+------+------+-----+\n",
       "|  0   |  0   |  0   |  0   |  0   |  0   |  0   |  0   |  0   |  0   |  0   | ... |\n",
       "|  0   |  0   |  0   |  1   |  0   |  0   |  0   |  0   |  0   |  0   |  0   | ... |\n",
       "|  1   |  0   |  0   |  1   |  0   |  0   |  0   |  0   |  0   |  0   |  0   | ... |\n",
       "|  0   |  0   |  0   |  1   |  0   |  0   |  0   |  0   |  0   |  0   |  0   | ... |\n",
       "|  0   |  0   |  0   |  1   |  0   |  0   |  0   |  1   |  0   |  0   |  0   | ... |\n",
       "|  0   |  0   |  0   |  1   |  0   |  0   |  0   |  0   |  0   |  0   |  0   | ... |\n",
       "|  0   |  0   |  1   |  1   |  0   |  0   |  0   |  0   |  0   |  0   |  0   | ... |\n",
       "|  0   |  0   |  0   |  1   |  0   |  0   |  0   |  0   |  0   |  0   |  0   | ... |\n",
       "|  2   |  0   |  0   |  1   |  0   |  0   |  0   |  0   |  0   |  0   |  0   | ... |\n",
       "|  0   |  0   |  0   |  1   |  0   |  0   |  0   |  0   |  0   |  0   |  0   | ... |\n",
       "+------+------+------+------+------+------+------+------+------+------+------+-----+\n",
       "[10 rows x 59 columns]"
      ]
     },
     "execution_count": 141,
     "metadata": {},
     "output_type": "execute_result"
    }
   ],
   "source": [
    "claimsDTE.head()"
   ]
  },
  {
   "cell_type": "code",
   "execution_count": 142,
   "metadata": {
    "collapsed": true
   },
   "outputs": [],
   "source": [
    "graphlab.canvas.set_target('ipynb')"
   ]
  },
  {
   "cell_type": "code",
   "execution_count": 143,
   "metadata": {
    "collapsed": false,
    "scrolled": true
   },
   "outputs": [
    {
     "data": {
      "application/javascript": [
       "$(\"head\").append($(\"<link/>\").attr({\n",
       "  rel:  \"stylesheet\",\n",
       "  type: \"text/css\",\n",
       "  href: \"//cdnjs.cloudflare.com/ajax/libs/font-awesome/4.1.0/css/font-awesome.min.css\"\n",
       "}));\n",
       "$(\"head\").append($(\"<link/>\").attr({\n",
       "  rel:  \"stylesheet\",\n",
       "  type: \"text/css\",\n",
       "  href: \"//dato.com/files/canvas/1.8.5/css/canvas.css\"\n",
       "}));\n",
       "\n",
       "            (function(){\n",
       "\n",
       "                var e = null;\n",
       "                if (typeof element == 'undefined') {\n",
       "                    var scripts = document.getElementsByTagName('script');\n",
       "                    var thisScriptTag = scripts[scripts.length-1];\n",
       "                    var parentDiv = thisScriptTag.parentNode;\n",
       "                    e = document.createElement('div');\n",
       "                    parentDiv.appendChild(e);\n",
       "                } else {\n",
       "                    e = element[0];\n",
       "                }\n",
       "\n",
       "                if (typeof requirejs !== 'undefined') {\n",
       "                    // disable load timeout; ipython_app.js is large and can take a while to load.\n",
       "                    requirejs.config({waitSeconds: 0});\n",
       "                }\n",
       "\n",
       "                require(['//dato.com/files/canvas/1.8.5/js/ipython_app.js'], function(IPythonApp){\n",
       "                    var app = new IPythonApp();\n",
       "                    app.attachView('sarray','Numeric', {\"ipython\": true, \"sketch\": {\"std\": 0.3648160308286597, \"complete\": true, \"min\": 0.0, \"max\": 2.0, \"quantile\": [0.0, 0.0, 0.0, 0.0, 0.0, 0.0, 0.0, 0.0, 0.0, 0.0, 0.0, 0.0, 0.0, 0.0, 0.0, 0.0, 0.0, 0.0, 0.0, 0.0, 0.0, 0.0, 0.0, 0.0, 0.0, 0.0, 0.0, 0.0, 0.0, 0.0, 0.0, 0.0, 0.0, 0.0, 0.0, 0.0, 0.0, 0.0, 0.0, 0.0, 0.0, 0.0, 0.0, 0.0, 0.0, 0.0, 0.0, 0.0, 0.0, 0.0, 0.0, 0.0, 0.0, 0.0, 0.0, 0.0, 0.0, 0.0, 0.0, 0.0, 0.0, 0.0, 0.0, 0.0, 0.0, 0.0, 0.0, 0.0, 0.0, 0.0, 0.0, 0.0, 0.0, 0.0, 0.0, 0.0, 0.0, 0.0, 0.0, 0.0, 0.0, 0.0, 0.0, 0.0, 0.0, 1.0, 1.0, 1.0, 1.0, 1.0, 1.0, 1.0, 1.0, 1.0, 1.0, 1.0, 1.0, 1.0, 1.0, 1.0, 2.0], \"median\": 0.0, \"numeric\": true, \"num_unique\": 3, \"num_undefined\": 0, \"var\": 0.13309073634957758, \"progress\": 1.0, \"size\": 283065, \"frequent_items\": {\"0\": {\"frequency\": 238322, \"value\": 0}, \"1\": {\"frequency\": 44742, \"value\": 1}, \"2\": {\"frequency\": 1, \"value\": 2}}, \"mean\": 0.15806970130535392}, \"selected_variable\": {\"name\": [\"<SArray>\"], \"dtype\": \"int\", \"view_component\": \"Numeric\", \"view_file\": \"sarray\", \"descriptives\": {\"rows\": 283065}, \"type\": \"SArray\", \"view_components\": [\"Numeric\", \"Categorical\"]}, \"histogram\": {\"progress\": 1.0, \"histogram\": {\"max\": 2.0171600000000005, \"bins\": [238322, 0, 0, 0, 0, 44742, 0, 0, 0, 0, 0, 1], \"min\": -0.01035999999999948}, \"min\": 0, \"complete\": 1, \"max\": 2}}, e);\n",
       "                });\n",
       "            })();\n",
       "        "
      ]
     },
     "metadata": {},
     "output_type": "display_data"
    }
   ],
   "source": [
    "claimsDTE['EvalResult'].show()"
   ]
  },
  {
   "cell_type": "markdown",
   "metadata": {},
   "source": [
    "##Let's split the training and cross_validation data "
   ]
  },
  {
   "cell_type": "code",
   "execution_count": 144,
   "metadata": {
    "collapsed": true
   },
   "outputs": [],
   "source": [
    "train_data,test_data = claimsDTE.random_split(.8, seed=0)"
   ]
  },
  {
   "cell_type": "markdown",
   "metadata": {
    "collapsed": false
   },
   "source": [
    "#2013\n",
    "DTE_model = graphlab.logistic_classifier.create(train_data,\n",
    "                                                     target='EvalResult',\n",
    "                                                     features=['7925', '6088', '6089', '6086', '6087',\n",
    "                                                               '6084', '6085', '6082', '6083', '6080', \n",
    "                                                               '6081', '6073', '6064', '6065', '6066', \n",
    "                                                               '6067', '6046', '6061', '6062', '6063', \n",
    "                                                               '6060', '6048', '6049', '6068', '6069', \n",
    "                                                               '7779', '6047', '6072', '6059', '6045', \n",
    "                                                               '7928', '7929', '6079', '7788', '7789', \n",
    "                                                               '6090', '7782', '7783', '7781', '6056', \n",
    "                                                               '6078', '6077', '6076', '6075', '6074', \n",
    "                                                               '6058', '6071', '6070', '6055', '6054', \n",
    "                                                               '6057', '6051', '6050', '6053', '6052'],\n",
    "                                                     validation_set=test_data,max_iterations=20)"
   ]
  },
  {
   "cell_type": "code",
   "execution_count": 145,
   "metadata": {
    "collapsed": false
   },
   "outputs": [
    {
     "data": {
      "text/html": [
       "<pre>Logistic regression:</pre>"
      ],
      "text/plain": [
       "Logistic regression:"
      ]
     },
     "metadata": {},
     "output_type": "display_data"
    },
    {
     "data": {
      "text/html": [
       "<pre>--------------------------------------------------------</pre>"
      ],
      "text/plain": [
       "--------------------------------------------------------"
      ]
     },
     "metadata": {},
     "output_type": "display_data"
    },
    {
     "data": {
      "text/html": [
       "<pre>Number of examples          : 226417</pre>"
      ],
      "text/plain": [
       "Number of examples          : 226417"
      ]
     },
     "metadata": {},
     "output_type": "display_data"
    },
    {
     "data": {
      "text/html": [
       "<pre>Number of classes           : 3</pre>"
      ],
      "text/plain": [
       "Number of classes           : 3"
      ]
     },
     "metadata": {},
     "output_type": "display_data"
    },
    {
     "data": {
      "text/html": [
       "<pre>Number of feature columns   : 57</pre>"
      ],
      "text/plain": [
       "Number of feature columns   : 57"
      ]
     },
     "metadata": {},
     "output_type": "display_data"
    },
    {
     "data": {
      "text/html": [
       "<pre>Number of unpacked features : 57</pre>"
      ],
      "text/plain": [
       "Number of unpacked features : 57"
      ]
     },
     "metadata": {},
     "output_type": "display_data"
    },
    {
     "data": {
      "text/html": [
       "<pre>Number of coefficients    : 116</pre>"
      ],
      "text/plain": [
       "Number of coefficients    : 116"
      ]
     },
     "metadata": {},
     "output_type": "display_data"
    },
    {
     "data": {
      "text/html": [
       "<pre>Starting Newton Method</pre>"
      ],
      "text/plain": [
       "Starting Newton Method"
      ]
     },
     "metadata": {},
     "output_type": "display_data"
    },
    {
     "data": {
      "text/html": [
       "<pre>--------------------------------------------------------</pre>"
      ],
      "text/plain": [
       "--------------------------------------------------------"
      ]
     },
     "metadata": {},
     "output_type": "display_data"
    },
    {
     "data": {
      "text/html": [
       "<pre>+-----------+----------+--------------+-------------------+---------------------+</pre>"
      ],
      "text/plain": [
       "+-----------+----------+--------------+-------------------+---------------------+"
      ]
     },
     "metadata": {},
     "output_type": "display_data"
    },
    {
     "data": {
      "text/html": [
       "<pre>| Iteration | Passes   | Elapsed Time | Training-accuracy | Validation-accuracy |</pre>"
      ],
      "text/plain": [
       "| Iteration | Passes   | Elapsed Time | Training-accuracy | Validation-accuracy |"
      ]
     },
     "metadata": {},
     "output_type": "display_data"
    },
    {
     "data": {
      "text/html": [
       "<pre>+-----------+----------+--------------+-------------------+---------------------+</pre>"
      ],
      "text/plain": [
       "+-----------+----------+--------------+-------------------+---------------------+"
      ]
     },
     "metadata": {},
     "output_type": "display_data"
    },
    {
     "data": {
      "text/html": [
       "<pre>| 1         | 2        | 1.750365     | 0.897618          | 0.899432            |</pre>"
      ],
      "text/plain": [
       "| 1         | 2        | 1.750365     | 0.897618          | 0.899432            |"
      ]
     },
     "metadata": {},
     "output_type": "display_data"
    },
    {
     "data": {
      "text/html": [
       "<pre>| 2         | 3        | 2.783289     | 0.900997          | 0.901762            |</pre>"
      ],
      "text/plain": [
       "| 2         | 3        | 2.783289     | 0.900997          | 0.901762            |"
      ]
     },
     "metadata": {},
     "output_type": "display_data"
    },
    {
     "data": {
      "text/html": [
       "<pre>| 3         | 4        | 3.798327     | 0.901743          | 0.901903            |</pre>"
      ],
      "text/plain": [
       "| 3         | 4        | 3.798327     | 0.901743          | 0.901903            |"
      ]
     },
     "metadata": {},
     "output_type": "display_data"
    },
    {
     "data": {
      "text/html": [
       "<pre>| 4         | 5        | 4.837012     | 0.901703          | 0.902027            |</pre>"
      ],
      "text/plain": [
       "| 4         | 5        | 4.837012     | 0.901703          | 0.902027            |"
      ]
     },
     "metadata": {},
     "output_type": "display_data"
    },
    {
     "data": {
      "text/html": [
       "<pre>| 5         | 6        | 6.029004     | 0.901717          | 0.902132            |</pre>"
      ],
      "text/plain": [
       "| 5         | 6        | 6.029004     | 0.901717          | 0.902132            |"
      ]
     },
     "metadata": {},
     "output_type": "display_data"
    },
    {
     "data": {
      "text/html": [
       "<pre>| 6         | 7        | 7.247742     | 0.901726          | 0.902132            |</pre>"
      ],
      "text/plain": [
       "| 6         | 7        | 7.247742     | 0.901726          | 0.902132            |"
      ]
     },
     "metadata": {},
     "output_type": "display_data"
    },
    {
     "data": {
      "text/html": [
       "<pre>| 7         | 8        | 8.337109     | 0.901726          | 0.902132            |</pre>"
      ],
      "text/plain": [
       "| 7         | 8        | 8.337109     | 0.901726          | 0.902132            |"
      ]
     },
     "metadata": {},
     "output_type": "display_data"
    },
    {
     "data": {
      "text/html": [
       "<pre>| 8         | 9        | 9.389153     | 0.901726          | 0.902132            |</pre>"
      ],
      "text/plain": [
       "| 8         | 9        | 9.389153     | 0.901726          | 0.902132            |"
      ]
     },
     "metadata": {},
     "output_type": "display_data"
    },
    {
     "data": {
      "text/html": [
       "<pre>| 9         | 10       | 10.429208    | 0.901726          | 0.902132            |</pre>"
      ],
      "text/plain": [
       "| 9         | 10       | 10.429208    | 0.901726          | 0.902132            |"
      ]
     },
     "metadata": {},
     "output_type": "display_data"
    },
    {
     "data": {
      "text/html": [
       "<pre>| 10        | 11       | 11.445043    | 0.901726          | 0.902150            |</pre>"
      ],
      "text/plain": [
       "| 10        | 11       | 11.445043    | 0.901726          | 0.902150            |"
      ]
     },
     "metadata": {},
     "output_type": "display_data"
    },
    {
     "data": {
      "text/html": [
       "<pre>| 11        | 12       | 12.482963    | 0.901730          | 0.902150            |</pre>"
      ],
      "text/plain": [
       "| 11        | 12       | 12.482963    | 0.901730          | 0.902150            |"
      ]
     },
     "metadata": {},
     "output_type": "display_data"
    },
    {
     "data": {
      "text/html": [
       "<pre>| 12        | 13       | 13.615795    | 0.901730          | 0.902132            |</pre>"
      ],
      "text/plain": [
       "| 12        | 13       | 13.615795    | 0.901730          | 0.902132            |"
      ]
     },
     "metadata": {},
     "output_type": "display_data"
    },
    {
     "data": {
      "text/html": [
       "<pre>| 13        | 14       | 14.682755    | 0.901730          | 0.902132            |</pre>"
      ],
      "text/plain": [
       "| 13        | 14       | 14.682755    | 0.901730          | 0.902132            |"
      ]
     },
     "metadata": {},
     "output_type": "display_data"
    },
    {
     "data": {
      "text/html": [
       "<pre>| 14        | 15       | 15.735925    | 0.901730          | 0.902132            |</pre>"
      ],
      "text/plain": [
       "| 14        | 15       | 15.735925    | 0.901730          | 0.902132            |"
      ]
     },
     "metadata": {},
     "output_type": "display_data"
    },
    {
     "data": {
      "text/html": [
       "<pre>| 15        | 16       | 16.757906    | 0.901730          | 0.902132            |</pre>"
      ],
      "text/plain": [
       "| 15        | 16       | 16.757906    | 0.901730          | 0.902132            |"
      ]
     },
     "metadata": {},
     "output_type": "display_data"
    },
    {
     "data": {
      "text/html": [
       "<pre>| 16        | 17       | 17.807079    | 0.901730          | 0.902132            |</pre>"
      ],
      "text/plain": [
       "| 16        | 17       | 17.807079    | 0.901730          | 0.902132            |"
      ]
     },
     "metadata": {},
     "output_type": "display_data"
    },
    {
     "data": {
      "text/html": [
       "<pre>| 17        | 18       | 18.977586    | 0.901730          | 0.902132            |</pre>"
      ],
      "text/plain": [
       "| 17        | 18       | 18.977586    | 0.901730          | 0.902132            |"
      ]
     },
     "metadata": {},
     "output_type": "display_data"
    },
    {
     "data": {
      "text/html": [
       "<pre>+-----------+----------+--------------+-------------------+---------------------+</pre>"
      ],
      "text/plain": [
       "+-----------+----------+--------------+-------------------+---------------------+"
      ]
     },
     "metadata": {},
     "output_type": "display_data"
    },
    {
     "data": {
      "text/html": [
       "<pre>SUCCESS: Optimal solution found.</pre>"
      ],
      "text/plain": [
       "SUCCESS: Optimal solution found."
      ]
     },
     "metadata": {},
     "output_type": "display_data"
    },
    {
     "data": {
      "text/html": [
       "<pre></pre>"
      ],
      "text/plain": []
     },
     "metadata": {},
     "output_type": "display_data"
    }
   ],
   "source": [
    "DTE_model = graphlab.logistic_classifier.create(train_data,\n",
    "                                                     target='EvalResult',\n",
    "                                                     features=['7931', '7930', '8450', '8445', '8446', '8447', '6088', \n",
    "                                                               '6089', '7791', '6087', '6084', '6085', '8448', '6083', \n",
    "                                                               '6080', '6081', '7792', '6082', '8449', '6064', '6065', \n",
    "                                                               '6066', '6067', '6060', '6061', '6062', '6063', '6073', \n",
    "                                                               '6068', '6069', '7779', '7926', '7927', '7925', '7928', \n",
    "                                                               '7929', '7788', '7789', '7786', '7782', '7783', '7781', \n",
    "                                                               '6056', '6058', '6077', '6076', '6075', '6074', '6072', \n",
    "                                                               '6071', '6070', '6055', '6054', '6057', '7778', '6079', \n",
    "                                                               '6078'],\n",
    "                                                     validation_set=test_data,max_iterations=20)"
   ]
  },
  {
   "cell_type": "code",
   "execution_count": 146,
   "metadata": {
    "collapsed": false
   },
   "outputs": [
    {
     "data": {
      "text/plain": [
       "{'roc_curve': Columns:\n",
       " \tthreshold\tfloat\n",
       " \tfpr\tfloat\n",
       " \ttpr\tfloat\n",
       " \tp\tint\n",
       " \tn\tint\n",
       " \tclass\tint\n",
       " \n",
       " Rows: 300003\n",
       " \n",
       " Data:\n",
       " +-----------+----------------+-----+-------+------+-------+\n",
       " | threshold |      fpr       | tpr |   p   |  n   | class |\n",
       " +-----------+----------------+-----+-------+------+-------+\n",
       " |    0.0    |      1.0       | 1.0 | 47723 | 8925 |   0   |\n",
       " |   1e-05   | 0.992044817927 | 1.0 | 47723 | 8925 |   0   |\n",
       " |   2e-05   | 0.992044817927 | 1.0 | 47723 | 8925 |   0   |\n",
       " |   3e-05   | 0.992044817927 | 1.0 | 47723 | 8925 |   0   |\n",
       " |   4e-05   | 0.992044817927 | 1.0 | 47723 | 8925 |   0   |\n",
       " |   5e-05   | 0.992044817927 | 1.0 | 47723 | 8925 |   0   |\n",
       " |   6e-05   | 0.992044817927 | 1.0 | 47723 | 8925 |   0   |\n",
       " |   7e-05   | 0.991932773109 | 1.0 | 47723 | 8925 |   0   |\n",
       " |   8e-05   | 0.991932773109 | 1.0 | 47723 | 8925 |   0   |\n",
       " |   9e-05   | 0.991932773109 | 1.0 | 47723 | 8925 |   0   |\n",
       " +-----------+----------------+-----+-------+------+-------+\n",
       " [300003 rows x 6 columns]\n",
       " Note: Only the head of the SFrame is printed.\n",
       " You can use print_rows(num_rows=m, num_columns=n) to print more rows and columns.}"
      ]
     },
     "execution_count": 146,
     "metadata": {},
     "output_type": "execute_result"
    }
   ],
   "source": [
    "DTE_model.evaluate(test_data, metric='roc_curve')"
   ]
  },
  {
   "cell_type": "code",
   "execution_count": 147,
   "metadata": {
    "collapsed": false
   },
   "outputs": [
    {
     "data": {
      "application/javascript": [
       "$(\"head\").append($(\"<link/>\").attr({\n",
       "  rel:  \"stylesheet\",\n",
       "  type: \"text/css\",\n",
       "  href: \"//cdnjs.cloudflare.com/ajax/libs/font-awesome/4.1.0/css/font-awesome.min.css\"\n",
       "}));\n",
       "$(\"head\").append($(\"<link/>\").attr({\n",
       "  rel:  \"stylesheet\",\n",
       "  type: \"text/css\",\n",
       "  href: \"//dato.com/files/canvas/1.8.5/css/canvas.css\"\n",
       "}));\n",
       "\n",
       "            (function(){\n",
       "\n",
       "                var e = null;\n",
       "                if (typeof element == 'undefined') {\n",
       "                    var scripts = document.getElementsByTagName('script');\n",
       "                    var thisScriptTag = scripts[scripts.length-1];\n",
       "                    var parentDiv = thisScriptTag.parentNode;\n",
       "                    e = document.createElement('div');\n",
       "                    parentDiv.appendChild(e);\n",
       "                } else {\n",
       "                    e = element[0];\n",
       "                }\n",
       "\n",
       "                if (typeof requirejs !== 'undefined') {\n",
       "                    // disable load timeout; ipython_app.js is large and can take a while to load.\n",
       "                    requirejs.config({waitSeconds: 0});\n",
       "                }\n",
       "\n",
       "                require(['//dato.com/files/canvas/1.8.5/js/ipython_app.js'], function(IPythonApp){\n",
       "                    var app = new IPythonApp();\n",
       "                    app.attachView('model','Evaluation', {\"comparison\": null, \"selected_variable\": {\"comparison\": null, \"name\": [\"DTE_model\"], \"view_file\": \"model\", \"view_component\": \"Evaluation\", \"view_params\": {\"model_type\": \"regression\", \"view\": \"Evaluation\"}, \"view_components\": [\"Summary\", \"Evaluation\", \"Comparison\"], \"model_type\": \"regression\", \"attributes\": {\"section_titles\": [\"Schema\", \"Hyperparameters\", \"Training Summary\", \"Settings\", \"Highest Positive Coefficients\", \"Lowest Negative Coefficients\"], \"sections\": [[[\"Number of coefficients\", 116], [\"Number of examples\", 226417], [\"Number of classes\", 3], [\"Number of feature columns\", 57], [\"Number of unpacked features\", 57]], [[\"L1 penalty\", 0.0], [\"L2 penalty\", 0.01]], [[\"Solver\", \"newton\"], [\"Solver iterations\", 17], [\"Solver status\", \"SUCCESS: Optimal solution found.\"], [\"Training time (sec)\", 19.1195]], [[\"Log-likelihood\", 52101.5816]], [[\"7783\", 5.8569], [\"6089\", 4.0055], [\"7781\", 2.0062], [\"7786\", 1.9739], [\"6079\", 1.7702]], [[\"(intercept)\", -25.1425], [\"7792\", -10.5277], [\"7791\", -8.1488], [\"(intercept)\", -7.5189], [\"7792\", -2.4587]]]}, \"evaluations\": [[\"test_data\", {}]], \"type\": \"Model\"}, \"ipython\": true, \"view_params\": {\"model_type\": \"regression\", \"view\": \"Evaluation\"}, \"model_type\": \"regression\", \"attributes\": {\"section_titles\": [\"Schema\", \"Hyperparameters\", \"Training Summary\", \"Settings\", \"Highest Positive Coefficients\", \"Lowest Negative Coefficients\"], \"sections\": [[[\"Number of coefficients\", 116], [\"Number of examples\", 226417], [\"Number of classes\", 3], [\"Number of feature columns\", 57], [\"Number of unpacked features\", 57]], [[\"L1 penalty\", 0.0], [\"L2 penalty\", 0.01]], [[\"Solver\", \"newton\"], [\"Solver iterations\", 17], [\"Solver status\", \"SUCCESS: Optimal solution found.\"], [\"Training time (sec)\", 19.1195]], [[\"Log-likelihood\", 52101.5816]], [[\"7783\", 5.8569], [\"6089\", 4.0055], [\"7781\", 2.0062], [\"7786\", 1.9739], [\"6079\", 1.7702]], [[\"(intercept)\", -25.1425], [\"7792\", -10.5277], [\"7791\", -8.1488], [\"(intercept)\", -7.5189], [\"7792\", -2.4587]]]}, \"evaluations\": [[\"test_data\", {}]]}, e);\n",
       "                });\n",
       "            })();\n",
       "        "
      ]
     },
     "metadata": {},
     "output_type": "display_data"
    }
   ],
   "source": [
    "DTE_model.show(view='Evaluation')"
   ]
  },
  {
   "cell_type": "code",
   "execution_count": 155,
   "metadata": {
    "collapsed": false
   },
   "outputs": [
    {
     "name": "stdout",
     "output_type": "stream",
     "text": [
      "+-------------+-------+-------+------------------+------------------+\n",
      "|     name    | index | class |      value       |      stderr      |\n",
      "+-------------+-------+-------+------------------+------------------+\n",
      "| (intercept) |  None |   1   |  -7.5189020597   |  0.148584675061  |\n",
      "|     7931    |  None |   1   | -0.0890584527744 |  0.121767981679  |\n",
      "|     7930    |  None |   1   | -0.336545353939  |  0.619025926241  |\n",
      "|     8450    |  None |   1   | -0.0152050321553 | 0.0107403595131  |\n",
      "|     8445    |  None |   1   |  0.550129439575  | 0.00797898404318 |\n",
      "|     8446    |  None |   1   | -0.107401195039  | 0.00292925072277 |\n",
      "|     8447    |  None |   1   |  1.03042841887   | 0.0145311548492  |\n",
      "|     6088    |  None |   1   | -0.0860643264433 | 0.0171251740264  |\n",
      "|     6089    |  None |   1   |   4.0055313306   |  0.182196836728  |\n",
      "|     7791    |  None |   1   |  -1.86058458812  |  0.111671604228  |\n",
      "|     6087    |  None |   1   |  0.728986447606  | 0.0603799142553  |\n",
      "|     6084    |  None |   1   |  1.20982004213   | 0.0887428133892  |\n",
      "|     6085    |  None |   1   |  0.152660623382  | 0.00862733365938 |\n",
      "|     8448    |  None |   1   | -0.031122801056  | 0.00167973685017 |\n",
      "|     6083    |  None |   1   |  0.124237668007  | 0.0471524801887  |\n",
      "|     6080    |  None |   1   |  0.848143032718  | 0.0286853475985  |\n",
      "|     6081    |  None |   1   |  0.660286136293  |  0.103922369153  |\n",
      "|     7792    |  None |   1   |  -2.4586855415   |  0.126872578838  |\n",
      "|     6082    |  None |   1   |  0.860663271305  | 0.0346465350668  |\n",
      "|     8449    |  None |   1   | -0.0449152989778 | 0.0675203879588  |\n",
      "|     6064    |  None |   1   |  0.144201877333  | 0.0133025403824  |\n",
      "|     6065    |  None |   1   | -0.588108646227  |  0.040124388909  |\n",
      "|     6066    |  None |   1   |  0.47578334816   | 0.0516489578131  |\n",
      "|     6067    |  None |   1   |   1.2221810605   | 0.0954184946702  |\n",
      "|     6060    |  None |   1   | 0.0981964531923  | 0.0179747662161  |\n",
      "|     6061    |  None |   1   |  0.144991421721  | 0.0134898554829  |\n",
      "|     6062    |  None |   1   |  0.100099442483  | 0.00989946994452 |\n",
      "|     6063    |  None |   1   | -0.203832692036  | 0.0350570213562  |\n",
      "|     6073    |  None |   1   |  0.43457133066   | 0.0325164591807  |\n",
      "|     6068    |  None |   1   |  0.490234389946  | 0.0919511729524  |\n",
      "|     6069    |  None |   1   | -0.455960533423  | 0.0601717073895  |\n",
      "|     7779    |  None |   1   |  0.533445188047  | 0.00721570028312 |\n",
      "|     7926    |  None |   1   |  0.206021219949  | 0.0501256265449  |\n",
      "|     7927    |  None |   1   | -0.0102914227618 | 0.0103424251548  |\n",
      "|     7925    |  None |   1   |  0.828134635517  | 0.0471482250252  |\n",
      "|     7928    |  None |   1   | -0.0842399058349 | 0.0102602375491  |\n",
      "|     7929    |  None |   1   | -0.0406039515095 | 0.00448128455653 |\n",
      "|     7788    |  None |   1   | -0.960233238145  | 0.0492987600056  |\n",
      "|     7789    |  None |   1   |  0.620987583941  | 0.0618277656449  |\n",
      "|     7786    |  None |   1   |  1.97385425285   |  0.132694559241  |\n",
      "|     7782    |  None |   1   |  0.17457675517   | 0.00608096348154 |\n",
      "|     7783    |  None |   1   |  1.62378096418   |  0.015693706222  |\n",
      "|     7781    |  None |   1   |  0.993693258081  | 0.00932347230092 |\n",
      "|     6056    |  None |   1   | -0.322504555021  | 0.0522869733234  |\n",
      "|     6058    |  None |   1   | -0.062913753099  | 0.0343010431914  |\n",
      "|     6077    |  None |   1   |  0.327331849885  |  0.015475792454  |\n",
      "|     6076    |  None |   1   |  0.998081654625  | 0.0443970754702  |\n",
      "|     6075    |  None |   1   |  0.702901039235  | 0.0354906519816  |\n",
      "|     6074    |  None |   1   | -0.0932875685287 | 0.0410079650456  |\n",
      "|     6072    |  None |   1   |  0.315187300177  | 0.0436072174127  |\n",
      "|     6071    |  None |   1   | -0.0864697158359 | 0.0335496982736  |\n",
      "|     6070    |  None |   1   |  0.571601900922  | 0.0285634598513  |\n",
      "|     6055    |  None |   1   | 0.0965545311638  | 0.0800719389111  |\n",
      "|     6054    |  None |   1   | -0.0104002864713 | 0.0507029683344  |\n",
      "|     6057    |  None |   1   |  0.524995769792  | 0.0291476348303  |\n",
      "|     7778    |  None |   1   |  0.222599993607  | 0.00964794102459 |\n",
      "|     6079    |  None |   1   |  1.77016913907   |  0.155643181486  |\n",
      "|     6078    |  None |   1   |  1.49741823621   |  0.104584803598  |\n",
      "| (intercept) |  None |   2   |  -25.1424505427  |  41.2621303272   |\n",
      "|     7931    |  None |   2   |  0.576983046028  |  309.808485672   |\n",
      "|     7930    |  None |   2   |  0.197996648533  |  2775.59241544   |\n",
      "|     8450    |  None |   2   | 0.0371361996421  |  2048.30444373   |\n",
      "|     8445    |  None |   2   |  0.236074306386  |  4.69968160249   |\n",
      "|     8446    |  None |   2   |  -0.81955366395  |  0.416511787479  |\n",
      "|     8447    |  None |   2   |  -1.28614096776  |  10.4826135144   |\n",
      "|     6088    |  None |   2   |  -0.20194517371  |  9.26700423562   |\n",
      "|     6089    |  None |   2   |  -1.68960594675  |  39.0426026472   |\n",
      "|     7791    |  None |   2   |  -8.14876878245  |  16.5691997376   |\n",
      "|     6087    |  None |   2   | -0.452382862413  |  82.3146200708   |\n",
      "|     6084    |  None |   2   | -0.434190873548  |  127.222390679   |\n",
      "|     6085    |  None |   2   | -0.250911368331  |  7.48160485374   |\n",
      "|     8448    |  None |   2   | -0.0322148067539 |  1.06431954591   |\n",
      "|     6083    |  None |   2   | -0.427955901804  |  41.2191466337   |\n",
      "|     6080    |  None |   2   | -0.238665064145  |  45.6507489952   |\n",
      "|     6081    |  None |   2   | -0.754781930574  |  88.9190343462   |\n",
      "|     7792    |  None |   2   |  -10.527656314   |  22.1559233914   |\n",
      "|     6082    |  None |   2   | -0.230118570508  |  62.8060228074   |\n",
      "|     8449    |  None |   2   | -0.159684045204  |  8.46477499309   |\n",
      "|     6064    |  None |   2   | -0.452519371851  |  10.8720512381   |\n",
      "|     6065    |  None |   2   | -0.0170208202977 |  17.0748861505   |\n",
      "|     6066    |  None |   2   | -0.239028450647  |  65.6726425042   |\n",
      "|     6067    |  None |   2   | -0.273122953774  |  147.387670258   |\n",
      "|     6060    |  None |   2   | -0.291626223553  |  16.0291451096   |\n",
      "|     6061    |  None |   2   | -0.402146907014  |  13.7732204351   |\n",
      "|     6062    |  None |   2   | -0.474745431083  |  8.79668067603   |\n",
      "|     6063    |  None |   2   | -0.658982086615  |  23.4367321329   |\n",
      "|     6073    |  None |   2   | -0.301397032165  |   40.297740935   |\n",
      "|     6068    |  None |   2   | -0.272971243129  |  127.342094047   |\n",
      "|     6069    |  None |   2   |  -1.34104271584  |   38.61294452    |\n",
      "|     7779    |  None |   2   |  1.46977878223   |  7.25285552847   |\n",
      "|     7926    |  None |   2   | -0.565319438692  |  48.0214786435   |\n",
      "|     7927    |  None |   2   | -0.342559095675  |  8.57840707515   |\n",
      "|     7925    |  None |   2   | -0.387901723867  |   82.090168119   |\n",
      "|     7928    |  None |   2   | -0.478910442425  |  1.29370528414   |\n",
      "|     7929    |  None |   2   | -0.0231536273617 |  6.10483222447   |\n",
      "|     7788    |  None |   2   | -0.331221509267  |  50.6072775817   |\n",
      "|     7789    |  None |   2   | -0.365635831738  |  97.3955082882   |\n",
      "|     7786    |  None |   2   |  0.174512674325  |  33.6778479012   |\n",
      "|     7782    |  None |   2   |  0.573045542121  |  4.69877693417   |\n",
      "|     7783    |  None |   2   |  5.85691943251   |  18.1187544806   |\n",
      "|     7781    |  None |   2   |  2.00616908718   |   5.1303411951   |\n",
      "|     6056    |  None |   2   | -0.686176125734  |  30.2382951762   |\n",
      "|     6058    |  None |   2   | -0.490270588279  |  21.3381922414   |\n",
      "|     6077    |  None |   2   | -0.367212319107  |  18.8958306925   |\n",
      "|     6076    |  None |   2   | -0.597060425807  |  49.2494802505   |\n",
      "|     6075    |  None |   2   |  -0.62882790297  |   44.781598417   |\n",
      "|     6074    |  None |   2   |  -0.45365189085  |  31.9992572335   |\n",
      "|     6072    |  None |   2   |  -0.9853840613   |   28.578934575   |\n",
      "|     6071    |  None |   2   | -0.510063418158  |  22.2809006487   |\n",
      "|     6070    |  None |   2   | -0.316599748097  |  36.5596243271   |\n",
      "|     6055    |  None |   2   |   -0.341756928   |  73.1932530199   |\n",
      "|     6054    |  None |   2   | -0.748715557455  |  38.1278921133   |\n",
      "|     6057    |  None |   2   | -0.610245896299  |  31.6099235127   |\n",
      "|     7778    |  None |   2   |  0.811700047729  |  3.66304576071   |\n",
      "|     6079    |  None |   2   | -0.935022810885  |  183.475893667   |\n",
      "|     6078    |  None |   2   | -0.779527211458  |  130.931475516   |\n",
      "+-------------+-------+-------+------------------+------------------+\n",
      "[116 rows x 5 columns]\n",
      "\n"
     ]
    },
    {
     "ename": "AttributeError",
     "evalue": "'NoneType' object has no attribute 'sort'",
     "output_type": "error",
     "traceback": [
      "\u001b[0;31m---------------------------------------------------------------------------\u001b[0m",
      "\u001b[0;31mAttributeError\u001b[0m                            Traceback (most recent call last)",
      "\u001b[0;32m<ipython-input-155-b970f2d5fd4d>\u001b[0m in \u001b[0;36m<module>\u001b[0;34m()\u001b[0m\n\u001b[1;32m      1\u001b[0m \u001b[0mcoefficients\u001b[0m \u001b[0;34m=\u001b[0m \u001b[0mDTE_model\u001b[0m\u001b[0;34m[\u001b[0m\u001b[0;34m'coefficients'\u001b[0m\u001b[0;34m]\u001b[0m\u001b[0;34m\u001b[0m\u001b[0m\n\u001b[0;32m----> 2\u001b[0;31m \u001b[0mcoefficients\u001b[0m\u001b[0;34m.\u001b[0m\u001b[0mprint_rows\u001b[0m\u001b[0;34m(\u001b[0m\u001b[0;36m116\u001b[0m\u001b[0;34m,\u001b[0m\u001b[0;36m5\u001b[0m\u001b[0;34m)\u001b[0m\u001b[0;34m.\u001b[0m\u001b[0msort\u001b[0m\u001b[0;34m(\u001b[0m\u001b[0;34m)\u001b[0m\u001b[0;34m\u001b[0m\u001b[0m\n\u001b[0m",
      "\u001b[0;31mAttributeError\u001b[0m: 'NoneType' object has no attribute 'sort'"
     ]
    }
   ],
   "source": [
    "coefficients = DTE_model['coefficients']\n",
    "coefficients.print_rows(116,5)"
   ]
  },
  {
   "cell_type": "code",
   "execution_count": 150,
   "metadata": {
    "collapsed": false
   },
   "outputs": [
    {
     "data": {
      "text/plain": [
       "dtype: int\n",
       "Rows: 10\n",
       "[0, 0, 0, 0, 0, 1, 0, 0, 0, 0]"
      ]
     },
     "execution_count": 150,
     "metadata": {},
     "output_type": "execute_result"
    }
   ],
   "source": [
    "predictions = DTE_model.predict(train_data)\n",
    "predictions.head()"
   ]
  },
  {
   "cell_type": "code",
   "execution_count": 151,
   "metadata": {
    "collapsed": false
   },
   "outputs": [
    {
     "data": {
      "text/html": [
       "<div style=\"max-height:1000px;max-width:1500px;overflow:auto;\"><table frame=\"box\" rules=\"cols\">\n",
       "    <tr>\n",
       "        <th style=\"padding-left: 1em; padding-right: 1em; text-align: center\">ClaimNumber</th>\n",
       "        <th style=\"padding-left: 1em; padding-right: 1em; text-align: center\">EvalResult</th>\n",
       "        <th style=\"padding-left: 1em; padding-right: 1em; text-align: center\">6054</th>\n",
       "        <th style=\"padding-left: 1em; padding-right: 1em; text-align: center\">6055</th>\n",
       "        <th style=\"padding-left: 1em; padding-right: 1em; text-align: center\">6056</th>\n",
       "        <th style=\"padding-left: 1em; padding-right: 1em; text-align: center\">6057</th>\n",
       "        <th style=\"padding-left: 1em; padding-right: 1em; text-align: center\">6058</th>\n",
       "        <th style=\"padding-left: 1em; padding-right: 1em; text-align: center\">6060</th>\n",
       "        <th style=\"padding-left: 1em; padding-right: 1em; text-align: center\">6061</th>\n",
       "        <th style=\"padding-left: 1em; padding-right: 1em; text-align: center\">6062</th>\n",
       "        <th style=\"padding-left: 1em; padding-right: 1em; text-align: center\">6063</th>\n",
       "        <th style=\"padding-left: 1em; padding-right: 1em; text-align: center\">6064</th>\n",
       "        <th style=\"padding-left: 1em; padding-right: 1em; text-align: center\">6065</th>\n",
       "        <th style=\"padding-left: 1em; padding-right: 1em; text-align: center\">6066</th>\n",
       "        <th style=\"padding-left: 1em; padding-right: 1em; text-align: center\">6067</th>\n",
       "    </tr>\n",
       "    <tr>\n",
       "        <td style=\"padding-left: 1em; padding-right: 1em; text-align: center; vertical-align: top\">PA0016225216-01</td>\n",
       "        <td style=\"padding-left: 1em; padding-right: 1em; text-align: center; vertical-align: top\">0</td>\n",
       "        <td style=\"padding-left: 1em; padding-right: 1em; text-align: center; vertical-align: top\">0</td>\n",
       "        <td style=\"padding-left: 1em; padding-right: 1em; text-align: center; vertical-align: top\">0</td>\n",
       "        <td style=\"padding-left: 1em; padding-right: 1em; text-align: center; vertical-align: top\">0</td>\n",
       "        <td style=\"padding-left: 1em; padding-right: 1em; text-align: center; vertical-align: top\">0</td>\n",
       "        <td style=\"padding-left: 1em; padding-right: 1em; text-align: center; vertical-align: top\">0</td>\n",
       "        <td style=\"padding-left: 1em; padding-right: 1em; text-align: center; vertical-align: top\">0</td>\n",
       "        <td style=\"padding-left: 1em; padding-right: 1em; text-align: center; vertical-align: top\">0</td>\n",
       "        <td style=\"padding-left: 1em; padding-right: 1em; text-align: center; vertical-align: top\">0</td>\n",
       "        <td style=\"padding-left: 1em; padding-right: 1em; text-align: center; vertical-align: top\">0</td>\n",
       "        <td style=\"padding-left: 1em; padding-right: 1em; text-align: center; vertical-align: top\">0</td>\n",
       "        <td style=\"padding-left: 1em; padding-right: 1em; text-align: center; vertical-align: top\">1</td>\n",
       "        <td style=\"padding-left: 1em; padding-right: 1em; text-align: center; vertical-align: top\">0</td>\n",
       "        <td style=\"padding-left: 1em; padding-right: 1em; text-align: center; vertical-align: top\">0</td>\n",
       "    </tr>\n",
       "</table>\n",
       "<table frame=\"box\" rules=\"cols\">\n",
       "    <tr>\n",
       "        <th style=\"padding-left: 1em; padding-right: 1em; text-align: center\">6068</th>\n",
       "        <th style=\"padding-left: 1em; padding-right: 1em; text-align: center\">6069</th>\n",
       "        <th style=\"padding-left: 1em; padding-right: 1em; text-align: center\">6070</th>\n",
       "        <th style=\"padding-left: 1em; padding-right: 1em; text-align: center\">6071</th>\n",
       "        <th style=\"padding-left: 1em; padding-right: 1em; text-align: center\">6072</th>\n",
       "        <th style=\"padding-left: 1em; padding-right: 1em; text-align: center\">6073</th>\n",
       "        <th style=\"padding-left: 1em; padding-right: 1em; text-align: center\">6074</th>\n",
       "        <th style=\"padding-left: 1em; padding-right: 1em; text-align: center\">6075</th>\n",
       "        <th style=\"padding-left: 1em; padding-right: 1em; text-align: center\">6076</th>\n",
       "        <th style=\"padding-left: 1em; padding-right: 1em; text-align: center\">6077</th>\n",
       "        <th style=\"padding-left: 1em; padding-right: 1em; text-align: center\">6078</th>\n",
       "        <th style=\"padding-left: 1em; padding-right: 1em; text-align: center\">6079</th>\n",
       "        <th style=\"padding-left: 1em; padding-right: 1em; text-align: center\">6080</th>\n",
       "        <th style=\"padding-left: 1em; padding-right: 1em; text-align: center\">6081</th>\n",
       "        <th style=\"padding-left: 1em; padding-right: 1em; text-align: center\">6082</th>\n",
       "        <th style=\"padding-left: 1em; padding-right: 1em; text-align: center\">6083</th>\n",
       "        <th style=\"padding-left: 1em; padding-right: 1em; text-align: center\">6084</th>\n",
       "    </tr>\n",
       "    <tr>\n",
       "        <td style=\"padding-left: 1em; padding-right: 1em; text-align: center; vertical-align: top\">0</td>\n",
       "        <td style=\"padding-left: 1em; padding-right: 1em; text-align: center; vertical-align: top\">0</td>\n",
       "        <td style=\"padding-left: 1em; padding-right: 1em; text-align: center; vertical-align: top\">0</td>\n",
       "        <td style=\"padding-left: 1em; padding-right: 1em; text-align: center; vertical-align: top\">0</td>\n",
       "        <td style=\"padding-left: 1em; padding-right: 1em; text-align: center; vertical-align: top\">0</td>\n",
       "        <td style=\"padding-left: 1em; padding-right: 1em; text-align: center; vertical-align: top\">0</td>\n",
       "        <td style=\"padding-left: 1em; padding-right: 1em; text-align: center; vertical-align: top\">0</td>\n",
       "        <td style=\"padding-left: 1em; padding-right: 1em; text-align: center; vertical-align: top\">0</td>\n",
       "        <td style=\"padding-left: 1em; padding-right: 1em; text-align: center; vertical-align: top\">0</td>\n",
       "        <td style=\"padding-left: 1em; padding-right: 1em; text-align: center; vertical-align: top\">1</td>\n",
       "        <td style=\"padding-left: 1em; padding-right: 1em; text-align: center; vertical-align: top\">0</td>\n",
       "        <td style=\"padding-left: 1em; padding-right: 1em; text-align: center; vertical-align: top\">0</td>\n",
       "        <td style=\"padding-left: 1em; padding-right: 1em; text-align: center; vertical-align: top\">0</td>\n",
       "        <td style=\"padding-left: 1em; padding-right: 1em; text-align: center; vertical-align: top\">0</td>\n",
       "        <td style=\"padding-left: 1em; padding-right: 1em; text-align: center; vertical-align: top\">0</td>\n",
       "        <td style=\"padding-left: 1em; padding-right: 1em; text-align: center; vertical-align: top\">0</td>\n",
       "        <td style=\"padding-left: 1em; padding-right: 1em; text-align: center; vertical-align: top\">0</td>\n",
       "    </tr>\n",
       "</table>\n",
       "<table frame=\"box\" rules=\"cols\">\n",
       "    <tr>\n",
       "        <th style=\"padding-left: 1em; padding-right: 1em; text-align: center\">6085</th>\n",
       "        <th style=\"padding-left: 1em; padding-right: 1em; text-align: center\">6087</th>\n",
       "        <th style=\"padding-left: 1em; padding-right: 1em; text-align: center\">6088</th>\n",
       "        <th style=\"padding-left: 1em; padding-right: 1em; text-align: center\">6089</th>\n",
       "        <th style=\"padding-left: 1em; padding-right: 1em; text-align: center\">7778</th>\n",
       "        <th style=\"padding-left: 1em; padding-right: 1em; text-align: center\">7779</th>\n",
       "        <th style=\"padding-left: 1em; padding-right: 1em; text-align: center\">7781</th>\n",
       "        <th style=\"padding-left: 1em; padding-right: 1em; text-align: center\">7782</th>\n",
       "        <th style=\"padding-left: 1em; padding-right: 1em; text-align: center\">...</th>\n",
       "    </tr>\n",
       "    <tr>\n",
       "        <td style=\"padding-left: 1em; padding-right: 1em; text-align: center; vertical-align: top\">0</td>\n",
       "        <td style=\"padding-left: 1em; padding-right: 1em; text-align: center; vertical-align: top\">0</td>\n",
       "        <td style=\"padding-left: 1em; padding-right: 1em; text-align: center; vertical-align: top\">0</td>\n",
       "        <td style=\"padding-left: 1em; padding-right: 1em; text-align: center; vertical-align: top\">0</td>\n",
       "        <td style=\"padding-left: 1em; padding-right: 1em; text-align: center; vertical-align: top\">0</td>\n",
       "        <td style=\"padding-left: 1em; padding-right: 1em; text-align: center; vertical-align: top\">0</td>\n",
       "        <td style=\"padding-left: 1em; padding-right: 1em; text-align: center; vertical-align: top\">0</td>\n",
       "        <td style=\"padding-left: 1em; padding-right: 1em; text-align: center; vertical-align: top\">1</td>\n",
       "        <td style=\"padding-left: 1em; padding-right: 1em; text-align: center; vertical-align: top\">...</td>\n",
       "    </tr>\n",
       "</table>\n",
       "[? rows x 59 columns]<br/>Note: Only the head of the SFrame is printed. This SFrame is lazily evaluated.<br/>You can use len(sf) to force materialization.\n",
       "</div>"
      ],
      "text/plain": [
       "Columns:\n",
       "\tClaimNumber\tstr\n",
       "\tEvalResult\tint\n",
       "\t6054\tint\n",
       "\t6055\tint\n",
       "\t6056\tint\n",
       "\t6057\tint\n",
       "\t6058\tint\n",
       "\t6060\tint\n",
       "\t6061\tint\n",
       "\t6062\tint\n",
       "\t6063\tint\n",
       "\t6064\tint\n",
       "\t6065\tint\n",
       "\t6066\tint\n",
       "\t6067\tint\n",
       "\t6068\tint\n",
       "\t6069\tint\n",
       "\t6070\tint\n",
       "\t6071\tint\n",
       "\t6072\tint\n",
       "\t6073\tint\n",
       "\t6074\tint\n",
       "\t6075\tint\n",
       "\t6076\tint\n",
       "\t6077\tint\n",
       "\t6078\tint\n",
       "\t6079\tint\n",
       "\t6080\tint\n",
       "\t6081\tint\n",
       "\t6082\tint\n",
       "\t6083\tint\n",
       "\t6084\tint\n",
       "\t6085\tint\n",
       "\t6087\tint\n",
       "\t6088\tint\n",
       "\t6089\tint\n",
       "\t7778\tint\n",
       "\t7779\tint\n",
       "\t7781\tint\n",
       "\t7782\tint\n",
       "\t7783\tint\n",
       "\t7786\tint\n",
       "\t7788\tint\n",
       "\t7789\tint\n",
       "\t7791\tint\n",
       "\t7792\tint\n",
       "\t7925\tint\n",
       "\t7926\tint\n",
       "\t7927\tint\n",
       "\t7928\tint\n",
       "\t7929\tint\n",
       "\t7930\tint\n",
       "\t7931\tint\n",
       "\t8445\tint\n",
       "\t8446\tint\n",
       "\t8447\tint\n",
       "\t8448\tint\n",
       "\t8449\tint\n",
       "\t8450\tint\n",
       "\n",
       "Rows: Unknown\n",
       "\n",
       "Data:\n",
       "+-----------------+------------+------+------+------+------+------+------+------+\n",
       "|   ClaimNumber   | EvalResult | 6054 | 6055 | 6056 | 6057 | 6058 | 6060 | 6061 |\n",
       "+-----------------+------------+------+------+------+------+------+------+------+\n",
       "| PA0016225216-01 |     0      |  0   |  0   |  0   |  0   |  0   |  0   |  0   |\n",
       "+-----------------+------------+------+------+------+------+------+------+------+\n",
       "+------+------+------+------+------+------+------+------+------+------+------+-----+\n",
       "| 6062 | 6063 | 6064 | 6065 | 6066 | 6067 | 6068 | 6069 | 6070 | 6071 | 6072 | ... |\n",
       "+------+------+------+------+------+------+------+------+------+------+------+-----+\n",
       "|  0   |  0   |  0   |  1   |  0   |  0   |  0   |  0   |  0   |  0   |  0   | ... |\n",
       "+------+------+------+------+------+------+------+------+------+------+------+-----+\n",
       "[? rows x 59 columns]\n",
       "Note: Only the head of the SFrame is printed. This SFrame is lazily evaluated.\n",
       "You can use len(sf) to force materialization."
      ]
     },
     "execution_count": 151,
     "metadata": {},
     "output_type": "execute_result"
    }
   ],
   "source": [
    "testClaim = claimsDTE[claimsDTE['ClaimNumber'] == \"PA0016225216-01\"]\n",
    "testClaim"
   ]
  },
  {
   "cell_type": "code",
   "execution_count": 152,
   "metadata": {
    "collapsed": false
   },
   "outputs": [
    {
     "data": {
      "text/plain": [
       "dtype: array\n",
       "Rows: 1\n",
       "[array('d', [0.9945294357391183, 0.005470564260328903, 5.527302737004159e-13])]"
      ]
     },
     "execution_count": 152,
     "metadata": {},
     "output_type": "execute_result"
    }
   ],
   "source": [
    "DTE_model.predict(testClaim, output_type='probability_vector')"
   ]
  },
  {
   "cell_type": "code",
   "execution_count": 153,
   "metadata": {
    "collapsed": false
   },
   "outputs": [
    {
     "data": {
      "text/plain": [
       "dtype: int\n",
       "Rows: 1\n",
       "[0]"
      ]
     },
     "execution_count": 153,
     "metadata": {},
     "output_type": "execute_result"
    }
   ],
   "source": [
    "DTE_model.predict(testClaim, output_type='class')"
   ]
  },
  {
   "cell_type": "code",
   "execution_count": null,
   "metadata": {
    "collapsed": true
   },
   "outputs": [],
   "source": []
  }
 ],
 "metadata": {
  "kernelspec": {
   "display_name": "Python 2",
   "language": "python",
   "name": "python2"
  },
  "language_info": {
   "codemirror_mode": {
    "name": "ipython",
    "version": 2
   },
   "file_extension": ".py",
   "mimetype": "text/x-python",
   "name": "python",
   "nbconvert_exporter": "python",
   "pygments_lexer": "ipython2",
   "version": "2.7.11"
  }
 },
 "nbformat": 4,
 "nbformat_minor": 0
}
