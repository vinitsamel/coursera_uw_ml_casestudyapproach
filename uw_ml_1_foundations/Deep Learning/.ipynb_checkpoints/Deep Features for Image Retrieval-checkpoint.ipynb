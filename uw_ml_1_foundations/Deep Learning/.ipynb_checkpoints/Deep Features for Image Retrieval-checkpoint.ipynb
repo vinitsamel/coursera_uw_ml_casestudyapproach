{
 "cells": [
  {
   "cell_type": "markdown",
   "metadata": {},
   "source": [
    "#Building an image retrieval system with deep features\n",
    "\n",
    "\n",
    "#Fire up GraphLab Create"
   ]
  },
  {
   "cell_type": "code",
   "execution_count": 1,
   "metadata": {
    "collapsed": true
   },
   "outputs": [],
   "source": [
    "import graphlab"
   ]
  },
  {
   "cell_type": "markdown",
   "metadata": {},
   "source": [
    "#Load the CIFAR-10 dataset\n",
    "\n",
    "We will use a popular benchmark dataset in computer vision called CIFAR-10.  \n",
    "\n",
    "(We've reduced the data to just 4 categories = {'cat','bird','automobile','dog'}.)\n",
    "\n",
    "This dataset is already split into a training set and test set. In this simple retrieval example, there is no notion of \"testing\", so we will only use the training data."
   ]
  },
  {
   "cell_type": "code",
   "execution_count": 2,
   "metadata": {
    "collapsed": false
   },
   "outputs": [
    {
     "name": "stdout",
     "output_type": "stream",
     "text": [
      "This non-commercial license of GraphLab Create is assigned to vinitsamel@gmail.com and will expire on April 14, 2017. For commercial licensing options, visit https://dato.com/buy/.\n"
     ]
    },
    {
     "name": "stderr",
     "output_type": "stream",
     "text": [
      "2016-05-18 23:42:58,944 [INFO] graphlab.cython.cy_server, 176: GraphLab Create v1.9 started. Logging: /tmp/graphlab_server_1463640177.log\n"
     ]
    }
   ],
   "source": [
    "image_train = graphlab.SFrame('image_train_data/')\n",
    "image_test  = graphlab.SFrame('image_test_data/')"
   ]
  },
  {
   "cell_type": "markdown",
   "metadata": {},
   "source": [
    "#Computing deep features for our images\n",
    "\n",
    "The two lines below allow us to compute deep features.  This computation takes a little while, so we have already computed them and saved the results as a column in the data you loaded. \n",
    "\n",
    "(Note that if you would like to compute such deep features and have a GPU on your machine, you should use the GPU enabled GraphLab Create, which will be significantly faster for this task.)"
   ]
  },
  {
   "cell_type": "code",
   "execution_count": 3,
   "metadata": {
    "collapsed": true
   },
   "outputs": [],
   "source": [
    "#deep_learning_model = graphlab.load_model('http://s3.amazonaws.com/GraphLab-Datasets/deeplearning/imagenet_model_iter45')\n",
    "#image_train['deep_features'] = deep_learning_model.extract_features(image_train)"
   ]
  },
  {
   "cell_type": "code",
   "execution_count": 4,
   "metadata": {
    "collapsed": false
   },
   "outputs": [
    {
     "data": {
      "text/html": [
       "<div style=\"max-height:1000px;max-width:1500px;overflow:auto;\"><table frame=\"box\" rules=\"cols\">\n",
       "    <tr>\n",
       "        <th style=\"padding-left: 1em; padding-right: 1em; text-align: center\">id</th>\n",
       "        <th style=\"padding-left: 1em; padding-right: 1em; text-align: center\">image</th>\n",
       "        <th style=\"padding-left: 1em; padding-right: 1em; text-align: center\">label</th>\n",
       "        <th style=\"padding-left: 1em; padding-right: 1em; text-align: center\">deep_features</th>\n",
       "        <th style=\"padding-left: 1em; padding-right: 1em; text-align: center\">image_array</th>\n",
       "    </tr>\n",
       "    <tr>\n",
       "        <td style=\"padding-left: 1em; padding-right: 1em; text-align: center; vertical-align: top\">24</td>\n",
       "        <td style=\"padding-left: 1em; padding-right: 1em; text-align: center; vertical-align: top\">Height: 32 Width: 32</td>\n",
       "        <td style=\"padding-left: 1em; padding-right: 1em; text-align: center; vertical-align: top\">bird</td>\n",
       "        <td style=\"padding-left: 1em; padding-right: 1em; text-align: center; vertical-align: top\">[0.242871761322,<br>1.09545373917, 0.0, ...</td>\n",
       "        <td style=\"padding-left: 1em; padding-right: 1em; text-align: center; vertical-align: top\">[73.0, 77.0, 58.0, 71.0,<br>68.0, 50.0, 77.0, 69.0, ...</td>\n",
       "    </tr>\n",
       "    <tr>\n",
       "        <td style=\"padding-left: 1em; padding-right: 1em; text-align: center; vertical-align: top\">33</td>\n",
       "        <td style=\"padding-left: 1em; padding-right: 1em; text-align: center; vertical-align: top\">Height: 32 Width: 32</td>\n",
       "        <td style=\"padding-left: 1em; padding-right: 1em; text-align: center; vertical-align: top\">cat</td>\n",
       "        <td style=\"padding-left: 1em; padding-right: 1em; text-align: center; vertical-align: top\">[0.525087952614, 0.0,<br>0.0, 0.0, 0.0, 0.0, ...</td>\n",
       "        <td style=\"padding-left: 1em; padding-right: 1em; text-align: center; vertical-align: top\">[7.0, 5.0, 8.0, 7.0, 5.0,<br>8.0, 5.0, 4.0, 6.0, 7.0, ...</td>\n",
       "    </tr>\n",
       "    <tr>\n",
       "        <td style=\"padding-left: 1em; padding-right: 1em; text-align: center; vertical-align: top\">36</td>\n",
       "        <td style=\"padding-left: 1em; padding-right: 1em; text-align: center; vertical-align: top\">Height: 32 Width: 32</td>\n",
       "        <td style=\"padding-left: 1em; padding-right: 1em; text-align: center; vertical-align: top\">cat</td>\n",
       "        <td style=\"padding-left: 1em; padding-right: 1em; text-align: center; vertical-align: top\">[0.566015958786, 0.0,<br>0.0, 0.0, 0.0, 0.0, ...</td>\n",
       "        <td style=\"padding-left: 1em; padding-right: 1em; text-align: center; vertical-align: top\">[169.0, 122.0, 65.0,<br>131.0, 108.0, 75.0, ...</td>\n",
       "    </tr>\n",
       "    <tr>\n",
       "        <td style=\"padding-left: 1em; padding-right: 1em; text-align: center; vertical-align: top\">70</td>\n",
       "        <td style=\"padding-left: 1em; padding-right: 1em; text-align: center; vertical-align: top\">Height: 32 Width: 32</td>\n",
       "        <td style=\"padding-left: 1em; padding-right: 1em; text-align: center; vertical-align: top\">dog</td>\n",
       "        <td style=\"padding-left: 1em; padding-right: 1em; text-align: center; vertical-align: top\">[1.12979578972, 0.0, 0.0,<br>0.778194487095, 0.0, ...</td>\n",
       "        <td style=\"padding-left: 1em; padding-right: 1em; text-align: center; vertical-align: top\">[154.0, 179.0, 152.0,<br>159.0, 183.0, 157.0, ...</td>\n",
       "    </tr>\n",
       "    <tr>\n",
       "        <td style=\"padding-left: 1em; padding-right: 1em; text-align: center; vertical-align: top\">90</td>\n",
       "        <td style=\"padding-left: 1em; padding-right: 1em; text-align: center; vertical-align: top\">Height: 32 Width: 32</td>\n",
       "        <td style=\"padding-left: 1em; padding-right: 1em; text-align: center; vertical-align: top\">bird</td>\n",
       "        <td style=\"padding-left: 1em; padding-right: 1em; text-align: center; vertical-align: top\">[1.71786928177, 0.0, 0.0,<br>0.0, 0.0, 0.0, ...</td>\n",
       "        <td style=\"padding-left: 1em; padding-right: 1em; text-align: center; vertical-align: top\">[216.0, 195.0, 180.0,<br>201.0, 178.0, 160.0, ...</td>\n",
       "    </tr>\n",
       "    <tr>\n",
       "        <td style=\"padding-left: 1em; padding-right: 1em; text-align: center; vertical-align: top\">97</td>\n",
       "        <td style=\"padding-left: 1em; padding-right: 1em; text-align: center; vertical-align: top\">Height: 32 Width: 32</td>\n",
       "        <td style=\"padding-left: 1em; padding-right: 1em; text-align: center; vertical-align: top\">automobile</td>\n",
       "        <td style=\"padding-left: 1em; padding-right: 1em; text-align: center; vertical-align: top\">[1.57818555832, 0.0, 0.0,<br>0.0, 0.0, 0.0, ...</td>\n",
       "        <td style=\"padding-left: 1em; padding-right: 1em; text-align: center; vertical-align: top\">[33.0, 44.0, 27.0, 29.0,<br>44.0, 31.0, 32.0, 45.0, ...</td>\n",
       "    </tr>\n",
       "    <tr>\n",
       "        <td style=\"padding-left: 1em; padding-right: 1em; text-align: center; vertical-align: top\">107</td>\n",
       "        <td style=\"padding-left: 1em; padding-right: 1em; text-align: center; vertical-align: top\">Height: 32 Width: 32</td>\n",
       "        <td style=\"padding-left: 1em; padding-right: 1em; text-align: center; vertical-align: top\">dog</td>\n",
       "        <td style=\"padding-left: 1em; padding-right: 1em; text-align: center; vertical-align: top\">[0.0, 0.0,<br>0.220677852631, 0.0,  ...</td>\n",
       "        <td style=\"padding-left: 1em; padding-right: 1em; text-align: center; vertical-align: top\">[97.0, 51.0, 31.0, 104.0,<br>58.0, 38.0, 107.0, 61.0, ...</td>\n",
       "    </tr>\n",
       "    <tr>\n",
       "        <td style=\"padding-left: 1em; padding-right: 1em; text-align: center; vertical-align: top\">121</td>\n",
       "        <td style=\"padding-left: 1em; padding-right: 1em; text-align: center; vertical-align: top\">Height: 32 Width: 32</td>\n",
       "        <td style=\"padding-left: 1em; padding-right: 1em; text-align: center; vertical-align: top\">bird</td>\n",
       "        <td style=\"padding-left: 1em; padding-right: 1em; text-align: center; vertical-align: top\">[0.0, 0.23753464222, 0.0,<br>0.0, 0.0, 0.0, ...</td>\n",
       "        <td style=\"padding-left: 1em; padding-right: 1em; text-align: center; vertical-align: top\">[93.0, 96.0, 88.0, 102.0,<br>106.0, 97.0, 117.0, ...</td>\n",
       "    </tr>\n",
       "    <tr>\n",
       "        <td style=\"padding-left: 1em; padding-right: 1em; text-align: center; vertical-align: top\">136</td>\n",
       "        <td style=\"padding-left: 1em; padding-right: 1em; text-align: center; vertical-align: top\">Height: 32 Width: 32</td>\n",
       "        <td style=\"padding-left: 1em; padding-right: 1em; text-align: center; vertical-align: top\">automobile</td>\n",
       "        <td style=\"padding-left: 1em; padding-right: 1em; text-align: center; vertical-align: top\">[0.0, 0.0, 0.0, 0.0, 0.0,<br>0.0, 7.5737862587, 0.0, ...</td>\n",
       "        <td style=\"padding-left: 1em; padding-right: 1em; text-align: center; vertical-align: top\">[35.0, 59.0, 53.0, 36.0,<br>56.0, 56.0, 42.0, 62.0, ...</td>\n",
       "    </tr>\n",
       "    <tr>\n",
       "        <td style=\"padding-left: 1em; padding-right: 1em; text-align: center; vertical-align: top\">138</td>\n",
       "        <td style=\"padding-left: 1em; padding-right: 1em; text-align: center; vertical-align: top\">Height: 32 Width: 32</td>\n",
       "        <td style=\"padding-left: 1em; padding-right: 1em; text-align: center; vertical-align: top\">bird</td>\n",
       "        <td style=\"padding-left: 1em; padding-right: 1em; text-align: center; vertical-align: top\">[0.658935725689, 0.0,<br>0.0, 0.0, 0.0, 0.0, ...</td>\n",
       "        <td style=\"padding-left: 1em; padding-right: 1em; text-align: center; vertical-align: top\">[205.0, 193.0, 195.0,<br>200.0, 187.0, 193.0, ...</td>\n",
       "    </tr>\n",
       "</table>\n",
       "[10 rows x 5 columns]<br/>\n",
       "</div>"
      ],
      "text/plain": [
       "Columns:\n",
       "\tid\tint\n",
       "\timage\tImage\n",
       "\tlabel\tstr\n",
       "\tdeep_features\tarray\n",
       "\timage_array\tarray\n",
       "\n",
       "Rows: 10\n",
       "\n",
       "Data:\n",
       "+-----+----------------------+------------+-------------------------------+\n",
       "|  id |        image         |   label    |         deep_features         |\n",
       "+-----+----------------------+------------+-------------------------------+\n",
       "|  24 | Height: 32 Width: 32 |    bird    | [0.242871761322, 1.0954537... |\n",
       "|  33 | Height: 32 Width: 32 |    cat     | [0.525087952614, 0.0, 0.0,... |\n",
       "|  36 | Height: 32 Width: 32 |    cat     | [0.566015958786, 0.0, 0.0,... |\n",
       "|  70 | Height: 32 Width: 32 |    dog     | [1.12979578972, 0.0, 0.0, ... |\n",
       "|  90 | Height: 32 Width: 32 |    bird    | [1.71786928177, 0.0, 0.0, ... |\n",
       "|  97 | Height: 32 Width: 32 | automobile | [1.57818555832, 0.0, 0.0, ... |\n",
       "| 107 | Height: 32 Width: 32 |    dog     | [0.0, 0.0, 0.220677852631,... |\n",
       "| 121 | Height: 32 Width: 32 |    bird    | [0.0, 0.23753464222, 0.0, ... |\n",
       "| 136 | Height: 32 Width: 32 | automobile | [0.0, 0.0, 0.0, 0.0, 0.0, ... |\n",
       "| 138 | Height: 32 Width: 32 |    bird    | [0.658935725689, 0.0, 0.0,... |\n",
       "+-----+----------------------+------------+-------------------------------+\n",
       "+-------------------------------+\n",
       "|          image_array          |\n",
       "+-------------------------------+\n",
       "| [73.0, 77.0, 58.0, 71.0, 6... |\n",
       "| [7.0, 5.0, 8.0, 7.0, 5.0, ... |\n",
       "| [169.0, 122.0, 65.0, 131.0... |\n",
       "| [154.0, 179.0, 152.0, 159.... |\n",
       "| [216.0, 195.0, 180.0, 201.... |\n",
       "| [33.0, 44.0, 27.0, 29.0, 4... |\n",
       "| [97.0, 51.0, 31.0, 104.0, ... |\n",
       "| [93.0, 96.0, 88.0, 102.0, ... |\n",
       "| [35.0, 59.0, 53.0, 36.0, 5... |\n",
       "| [205.0, 193.0, 195.0, 200.... |\n",
       "+-------------------------------+\n",
       "[10 rows x 5 columns]"
      ]
     },
     "execution_count": 4,
     "metadata": {},
     "output_type": "execute_result"
    }
   ],
   "source": [
    "image_train.head()"
   ]
  },
  {
   "cell_type": "code",
   "execution_count": 5,
   "metadata": {
    "collapsed": false
   },
   "outputs": [
    {
     "data": {
      "text/plain": [
       "\n",
       "+------------------+-------+----------+\n",
       "|       item       | value | is exact |\n",
       "+------------------+-------+----------+\n",
       "|      Length      |  2005 |   Yes    |\n",
       "| # Missing Values |   0   |   Yes    |\n",
       "| # unique values  |   4   |    No    |\n",
       "+------------------+-------+----------+\n",
       "\n",
       "Most frequent items:\n",
       "+-------+------------+-----+-----+------+\n",
       "| value | automobile | cat | dog | bird |\n",
       "+-------+------------+-----+-----+------+\n",
       "| count |    509     | 509 | 509 | 478  |\n",
       "+-------+------------+-----+-----+------+\n"
      ]
     },
     "execution_count": 5,
     "metadata": {},
     "output_type": "execute_result"
    }
   ],
   "source": [
    "#Quiz 1\n",
    "image_train['label'].sketch_summary()"
   ]
  },
  {
   "cell_type": "markdown",
   "metadata": {},
   "source": [
    "#Train a nearest-neighbors model for retrieving images using deep features\n",
    "\n",
    "We will now build a simple image retrieval system that finds the nearest neighbors for any image."
   ]
  },
  {
   "cell_type": "code",
   "execution_count": 6,
   "metadata": {
    "collapsed": false
   },
   "outputs": [
    {
     "data": {
      "text/html": [
       "<pre>Starting brute force nearest neighbors model training.</pre>"
      ],
      "text/plain": [
       "Starting brute force nearest neighbors model training."
      ]
     },
     "metadata": {},
     "output_type": "display_data"
    },
    {
     "data": {
      "text/html": [
       "<pre>Starting brute force nearest neighbors model training.</pre>"
      ],
      "text/plain": [
       "Starting brute force nearest neighbors model training."
      ]
     },
     "metadata": {},
     "output_type": "display_data"
    },
    {
     "data": {
      "text/html": [
       "<pre>Starting brute force nearest neighbors model training.</pre>"
      ],
      "text/plain": [
       "Starting brute force nearest neighbors model training."
      ]
     },
     "metadata": {},
     "output_type": "display_data"
    },
    {
     "data": {
      "text/html": [
       "<pre>Starting brute force nearest neighbors model training.</pre>"
      ],
      "text/plain": [
       "Starting brute force nearest neighbors model training."
      ]
     },
     "metadata": {},
     "output_type": "display_data"
    }
   ],
   "source": [
    "dog_data = image_train[image_train['label'] == \"dog\"]\n",
    "#dog_data.head()\n",
    "cat_data = image_train[image_train['label'] == \"cat\"]\n",
    "bird_data = image_train[image_train['label'] == \"bird\"]\n",
    "auto_data = image_train[image_train['label'] == \"automobile\"]\n",
    "\n",
    "dog_model = graphlab.nearest_neighbors.create(dog_data,features=['deep_features'], label='id')\n",
    "cat_model  = graphlab.nearest_neighbors.create(cat_data,features=['deep_features'], label='id')\n",
    "bird_model = graphlab.nearest_neighbors.create(bird_data,features=['deep_features'], label='id')\n",
    "auto_model = graphlab.nearest_neighbors.create(auto_data,features=['deep_features'], label='id')\n",
    "\n",
    "dog_test = image_test[image_test['label'] == \"dog\"]\n",
    "#dog_data.head()\n",
    "cat_test = image_test[image_test['label'] == \"cat\"]\n",
    "bird_test = image_test[image_test['label'] == \"bird\"]\n",
    "auto_test = image_test[image_test['label'] == \"automobile\"]\n",
    "\n"
   ]
  },
  {
   "cell_type": "code",
   "execution_count": 7,
   "metadata": {
    "collapsed": false
   },
   "outputs": [
    {
     "data": {
      "text/html": [
       "<pre>Starting brute force nearest neighbors model training.</pre>"
      ],
      "text/plain": [
       "Starting brute force nearest neighbors model training."
      ]
     },
     "metadata": {},
     "output_type": "display_data"
    }
   ],
   "source": [
    "knn_model = graphlab.nearest_neighbors.create(image_train,features=['deep_features'],\n",
    "                                             label='id')"
   ]
  },
  {
   "cell_type": "markdown",
   "metadata": {},
   "source": [
    "#Use image retrieval model with deep features to find similar images\n",
    "\n",
    "Let's find similar images to this cat picture."
   ]
  },
  {
   "cell_type": "code",
   "execution_count": 8,
   "metadata": {
    "collapsed": false
   },
   "outputs": [
    {
     "data": {
      "application/javascript": [
       "$(\"head\").append($(\"<link/>\").attr({\n",
       "  rel:  \"stylesheet\",\n",
       "  type: \"text/css\",\n",
       "  href: \"//cdnjs.cloudflare.com/ajax/libs/font-awesome/4.1.0/css/font-awesome.min.css\"\n",
       "}));\n",
       "$(\"head\").append($(\"<link/>\").attr({\n",
       "  rel:  \"stylesheet\",\n",
       "  type: \"text/css\",\n",
       "  href: \"//dato.com/files/canvas/1.9/css/canvas.css\"\n",
       "}));\n",
       "\n",
       "            (function(){\n",
       "\n",
       "                var e = null;\n",
       "                if (typeof element == 'undefined') {\n",
       "                    var scripts = document.getElementsByTagName('script');\n",
       "                    var thisScriptTag = scripts[scripts.length-1];\n",
       "                    var parentDiv = thisScriptTag.parentNode;\n",
       "                    e = document.createElement('div');\n",
       "                    parentDiv.appendChild(e);\n",
       "                } else {\n",
       "                    e = element[0];\n",
       "                }\n",
       "\n",
       "                if (typeof requirejs !== 'undefined') {\n",
       "                    // disable load timeout; ipython_app.js is large and can take a while to load.\n",
       "                    requirejs.config({waitSeconds: 0});\n",
       "                }\n",
       "\n",
       "                require(['//dato.com/files/canvas/1.9/js/ipython_app.js'], function(IPythonApp){\n",
       "                    var app = new IPythonApp();\n",
       "                    app.attachView('sarray','Images', {\"ipython\": true, \"rows\": [{\"format\": \"raw\", \"value\": [46, 45, 50, 47, 45, 51, 45, 44, 49, 41, 40, 45, 35, 34, 39, 28, 27, 32, 22, 21, 25, 16, 15, 18, 12, 12, 14, 12, 11, 14, 10, 10, 13, 8, 8, 10, 5, 5, 7, 3, 2, 4, 2, 2, 3, 2, 2, 2, 3, 3, 3, 4, 4, 4, 3, 3, 3, 3, 3, 3, 4, 4, 4, 5, 5, 6, 4, 3, 7, 4, 3, 8, 4, 3, 8, 4, 3, 8, 4, 3, 8, 4, 3, 8, 4, 3, 8, 4, 3, 9, 4, 3, 11, 4, 3, 11, 40, 39, 44, 43, 42, 47, 43, 42, 47, 39, 38, 43, 35, 34, 39, 30, 29, 34, 34, 32, 34, 52, 49, 47, 54, 52, 48, 31, 29, 27, 11, 11, 9, 8, 8, 7, 5, 6, 5, 3, 4, 4, 2, 3, 3, 2, 2, 2, 2, 2, 2, 2, 2, 2, 3, 3, 3, 4, 4, 4, 5, 5, 5, 6, 6, 6, 5, 5, 7, 5, 4, 7, 5, 5, 7, 5, 5, 7, 4, 4, 6, 4, 4, 6, 4, 4, 6, 4, 3, 9, 4, 3, 12, 5, 3, 12, 38, 37, 42, 41, 40, 45, 42, 41, 46, 40, 39, 44, 36, 35, 40, 37, 36, 40, 62, 57, 58, 101, 91, 84, 119, 108, 101, 108, 100, 94, 59, 52, 49, 18, 14, 12, 9, 6, 6, 8, 6, 6, 5, 5, 5, 3, 3, 3, 2, 2, 2, 2, 2, 2, 4, 4, 4, 5, 5, 5, 7, 7, 6, 7, 7, 7, 6, 6, 6, 6, 6, 7, 8, 8, 8, 6, 6, 6, 4, 4, 4, 3, 3, 4, 3, 4, 4, 4, 4, 6, 3, 3, 7, 2, 2, 6, 38, 37, 42, 41, 40, 46, 43, 42, 47, 41, 40, 46, 38, 37, 42, 41, 40, 44, 72, 65, 64, 107, 91, 85, 123, 105, 97, 139, 123, 116, 135, 122, 117, 77, 66, 64, 21, 14, 13, 9, 5, 5, 7, 5, 7, 5, 5, 6, 4, 4, 5, 4, 5, 6, 5, 6, 7, 6, 6, 7, 8, 8, 9, 8, 8, 9, 8, 7, 7, 9, 9, 8, 9, 9, 9, 6, 7, 6, 5, 5, 4, 6, 5, 5, 7, 5, 4, 5, 3, 2, 7, 5, 2, 31, 29, 26, 36, 37, 42, 39, 39, 46, 40, 39, 48, 41, 40, 47, 38, 36, 41, 41, 39, 40, 72, 65, 63, 109, 95, 90, 129, 113, 105, 143, 126, 115, 154, 137, 125, 143, 130, 119, 84, 75, 66, 26, 21, 15, 12, 8, 6, 9, 6, 6, 2, 1, 1, 0, 0, 0, 0, 0, 0, 2, 3, 3, 7, 5, 6, 7, 4, 6, 8, 5, 7, 6, 8, 7, 3, 9, 6, 2, 9, 5, 3, 8, 4, 5, 4, 2, 13, 5, 5, 38, 26, 21, 87, 75, 64, 129, 119, 108, 34, 36, 41, 37, 37, 45, 39, 37, 47, 39, 38, 45, 37, 35, 40, 38, 35, 37, 65, 57, 54, 102, 88, 81, 124, 107, 96, 145, 126, 111, 162, 141, 123, 164, 143, 124, 154, 133, 114, 122, 102, 84, 106, 87, 70, 97, 80, 64, 77, 65, 50, 68, 60, 46, 61, 55, 42, 47, 41, 29, 46, 39, 29, 54, 44, 36, 52, 44, 37, 38, 34, 26, 23, 23, 14, 13, 15, 6, 16, 15, 8, 35, 29, 23, 73, 61, 56, 121, 106, 95, 160, 146, 133, 167, 157, 147, 35, 37, 41, 37, 37, 45, 39, 37, 47, 39, 37, 45, 38, 35, 40, 38, 35, 36, 62, 53, 48, 103, 86, 73, 132, 112, 95, 156, 134, 116, 173, 148, 128, 187, 159, 136, 194, 162, 137, 195, 161, 135, 192, 160, 132, 191, 163, 133, 197, 173, 144, 205, 186, 157, 186, 169, 141, 165, 147, 122, 170, 150, 126, 173, 150, 126, 169, 143, 116, 152, 127, 99, 128, 106, 78, 108, 86, 60, 108, 85, 61, 130, 105, 83, 155, 129, 108, 169, 148, 133, 178, 164, 153, 176, 167, 161, 35, 37, 41, 37, 36, 44, 39, 37, 47, 40, 39, 46, 41, 39, 44, 47, 44, 46, 83, 73, 65, 129, 109, 89, 153, 131, 108, 163, 141, 121, 160, 135, 116, 158, 130, 109, 183, 150, 127, 196, 160, 135, 204, 171, 145, 194, 166, 139, 205, 179, 150, 211, 187, 156, 187, 162, 130, 198, 170, 137, 199, 166, 134, 194, 158, 124, 199, 163, 125, 199, 164, 125, 196, 162, 124, 191, 157, 122, 180, 147, 114, 171, 140, 109, 175, 146, 117, 180, 160, 143, 187, 175, 167, 180, 172, 168, 37, 38, 43, 38, 39, 46, 39, 40, 48, 42, 40, 46, 50, 44, 44, 76, 66, 60, 108, 92, 78, 109, 85, 65, 96, 71, 52, 109, 85, 69, 141, 120, 104, 155, 134, 117, 180, 155, 136, 200, 169, 149, 210, 184, 162, 218, 196, 175, 229, 206, 185, 207, 183, 161, 167, 140, 117, 161, 130, 104, 166, 132, 104, 182, 147, 116, 196, 163, 129, 199, 167, 131, 198, 165, 131, 198, 165, 133, 197, 167, 137, 196, 169, 141, 193, 170, 145, 183, 169, 154, 182, 174, 166, 179, 172, 166, 38, 39, 44, 37, 39, 46, 37, 38, 43, 46, 41, 40, 74, 59, 48, 124, 100, 79, 139, 111, 86, 96, 66, 44, 73, 37, 20, 106, 67, 53, 149, 114, 100, 173, 147, 128, 191, 166, 145, 197, 168, 146, 208, 182, 157, 210, 187, 163, 191, 166, 146, 134, 107, 90, 82, 54, 38, 80, 52, 35, 105, 76, 55, 128, 97, 70, 174, 141, 110, 195, 160, 126, 193, 155, 120, 193, 155, 120, 194, 159, 126, 199, 168, 138, 198, 171, 145, 169, 149, 131, 154, 137, 124, 163, 145, 134, 42, 42, 49, 43, 43, 47, 48, 44, 42, 62, 51, 42, 85, 63, 46, 113, 82, 58, 137, 108, 80, 142, 114, 88, 122, 80, 63, 131, 74, 64, 138, 83, 73, 142, 99, 84, 169, 137, 116, 187, 160, 135, 190, 161, 131, 164, 133, 101, 160, 128, 97, 147, 114, 83, 144, 110, 78, 155, 120, 85, 176, 141, 103, 169, 134, 95, 184, 148, 111, 199, 161, 125, 195, 157, 120, 191, 153, 116, 196, 159, 123, 195, 160, 125, 190, 156, 124, 169, 135, 112, 140, 106, 89, 148, 113, 97, 42, 42, 50, 50, 48, 48, 71, 64, 56, 95, 81, 67, 98, 77, 58, 117, 90, 70, 140, 118, 100, 167, 153, 139, 182, 154, 150, 166, 123, 127, 188, 146, 152, 215, 186, 186, 220, 203, 196, 211, 197, 185, 202, 178, 155, 193, 161, 131, 184, 151, 119, 177, 144, 107, 170, 137, 97, 174, 140, 98, 183, 148, 106, 186, 151, 111, 187, 153, 116, 197, 163, 127, 205, 172, 137, 196, 163, 128, 192, 158, 122, 200, 165, 128, 198, 162, 124, 192, 159, 127, 191, 159, 131, 189, 158, 129, 53, 50, 59, 65, 61, 59, 90, 83, 72, 106, 96, 81, 119, 105, 92, 149, 133, 123, 158, 144, 138, 162, 152, 149, 169, 151, 154, 152, 128, 136, 171, 152, 160, 203, 194, 197, 216, 210, 209, 205, 195, 192, 201, 181, 171, 209, 184, 167, 213, 187, 164, 203, 177, 147, 191, 164, 129, 182, 154, 118, 185, 156, 121, 191, 162, 128, 198, 169, 135, 215, 188, 156, 234, 208, 177, 226, 201, 170, 196, 169, 136, 194, 162, 126, 203, 168, 130, 198, 164, 128, 197, 166, 132, 204, 175, 142, 58, 57, 63, 78, 72, 69, 104, 93, 83, 117, 104, 90, 130, 116, 104, 141, 127, 120, 140, 125, 120, 128, 110, 107, 117, 96, 96, 122, 102, 103, 139, 122, 123, 156, 143, 143, 182, 168, 167, 192, 174, 173, 191, 172, 164, 196, 177, 163, 218, 200, 183, 225, 208, 186, 218, 200, 177, 204, 186, 161, 188, 167, 140, 179, 155, 127, 181, 155, 124, 183, 157, 127, 197, 173, 144, 225, 201, 172, 222, 197, 168, 190, 163, 132, 180, 151, 119, 188, 156, 120, 196, 161, 125, 198, 163, 129, 72, 73, 76, 86, 78, 74, 99, 83, 73, 107, 86, 73, 112, 91, 78, 111, 93, 80, 106, 88, 81, 113, 95, 92, 143, 125, 124, 172, 155, 154, 180, 164, 164, 171, 154, 155, 156, 141, 142, 157, 142, 143, 167, 153, 144, 180, 168, 154, 194, 183, 170, 216, 207, 194, 231, 223, 207, 232, 220, 202, 210, 196, 174, 190, 171, 146, 186, 163, 135, 181, 156, 127, 170, 145, 115, 187, 161, 131, 218, 190, 161, 217, 189, 159, 197, 168, 138, 188, 156, 121, 189, 155, 117, 186, 152, 115, 55, 54, 55, 71, 62, 57, 87, 69, 58, 96, 75, 60, 96, 74, 59, 94, 74, 61, 93, 76, 67, 117, 103, 99, 154, 141, 139, 176, 165, 163, 200, 190, 190, 212, 204, 206, 196, 190, 193, 167, 162, 165, 150, 145, 142, 160, 156, 148, 164, 162, 155, 191, 189, 181, 226, 223, 213, 238, 232, 217, 221, 212, 193, 205, 190, 168, 193, 173, 148, 192, 169, 143, 190, 166, 138, 177, 150, 120, 181, 151, 119, 197, 164, 130, 209, 175, 139, 207, 173, 136, 200, 167, 129, 189, 156, 119, 48, 46, 46, 73, 62, 56, 87, 68, 56, 91, 68, 52, 94, 71, 55, 101, 79, 65, 113, 95, 84, 129, 115, 105, 141, 130, 122, 155, 146, 140, 182, 176, 172, 198, 195, 193, 206, 206, 206, 210, 211, 213, 204, 205, 203, 211, 212, 208, 206, 208, 204, 211, 213, 208, 239, 239, 230, 247, 242, 228, 230, 219, 201, 214, 198, 176, 192, 169, 144, 180, 155, 127, 184, 157, 127, 183, 154, 122, 174, 142, 109, 167, 133, 98, 171, 136, 100, 177, 144, 108, 193, 161, 124, 191, 160, 124, 51, 47, 48, 65, 53, 46, 78, 59, 45, 88, 63, 47, 92, 67, 51, 98, 75, 60, 111, 92, 77, 122, 106, 90, 127, 113, 99, 131, 121, 108, 145, 137, 128, 158, 155, 148, 162, 162, 157, 175, 177, 174, 192, 194, 191, 214, 215, 212, 219, 221, 217, 226, 227, 220, 237, 234, 224, 237, 229, 213, 226, 213, 192, 212, 193, 167, 193, 166, 136, 180, 150, 119, 180, 150, 118, 184, 154, 122, 191, 161, 128, 192, 162, 130, 190, 159, 127, 186, 156, 122, 194, 164, 129, 193, 163, 129, 52, 48, 51, 64, 54, 49, 82, 65, 53, 95, 72, 56, 97, 71, 56, 95, 69, 56, 99, 75, 62, 105, 87, 72, 112, 96, 82, 120, 106, 93, 124, 114, 102, 131, 123, 112, 141, 135, 126, 152, 148, 139, 170, 169, 161, 180, 180, 171, 192, 189, 177, 207, 200, 185, 215, 204, 186, 213, 200, 179, 204, 190, 168, 203, 188, 164, 205, 187, 160, 209, 189, 162, 209, 187, 160, 209, 187, 160, 211, 188, 160, 209, 184, 157, 204, 178, 151, 198, 172, 143, 195, 168, 138, 186, 159, 130, 55, 51, 56, 62, 53, 50, 78, 63, 51, 98, 76, 61, 108, 83, 66, 110, 82, 69, 106, 80, 66, 102, 79, 64, 108, 87, 71, 116, 97, 82, 119, 103, 88, 124, 111, 96, 132, 121, 106, 152, 142, 128, 169, 162, 147, 172, 165, 149, 187, 176, 158, 185, 172, 151, 194, 179, 156, 213, 200, 178, 215, 203, 184, 222, 212, 192, 229, 217, 194, 229, 216, 192, 224, 209, 184, 221, 203, 179, 219, 199, 173, 211, 188, 162, 203, 180, 154, 196, 171, 145, 193, 167, 140, 187, 160, 133, 54, 50, 53, 60, 52, 46, 68, 53, 39, 84, 63, 45, 102, 77, 58, 111, 84, 68, 110, 82, 66, 110, 84, 65, 120, 94, 74, 124, 101, 82, 126, 106, 87, 127, 110, 91, 122, 105, 87, 122, 106, 89, 122, 108, 90, 139, 124, 106, 148, 132, 111, 138, 121, 98, 160, 143, 121, 175, 161, 141, 182, 170, 153, 208, 198, 180, 222, 209, 187, 221, 206, 182, 210, 194, 170, 201, 182, 158, 200, 179, 153, 200, 178, 151, 200, 176, 150, 197, 171, 144, 197, 169, 141, 190, 161, 134, 52, 49, 50, 62, 54, 46, 68, 54, 38, 77, 56, 36, 91, 66, 45, 101, 74, 56, 103, 76, 59, 110, 84, 65, 126, 101, 82, 137, 114, 94, 139, 119, 100, 141, 123, 105, 138, 122, 104, 131, 116, 99, 129, 115, 98, 141, 126, 108, 135, 117, 96, 127, 107, 84, 147, 126, 103, 140, 119, 98, 149, 132, 112, 181, 167, 146, 183, 169, 147, 183, 169, 145, 190, 175, 150, 193, 175, 150, 197, 177, 151, 196, 173, 147, 199, 175, 149, 199, 172, 143, 194, 164, 132, 187, 157, 125, 54, 51, 50, 68, 59, 49, 78, 63, 45, 86, 64, 43, 94, 68, 47, 99, 72, 53, 102, 76, 59, 110, 87, 71, 128, 107, 90, 145, 126, 108, 151, 134, 116, 153, 137, 121, 156, 142, 125, 158, 145, 129, 161, 149, 135, 173, 160, 145, 173, 156, 138, 153, 133, 111, 157, 135, 111, 153, 129, 104, 158, 136, 111, 157, 137, 113, 164, 148, 124, 186, 171, 147, 205, 188, 163, 209, 190, 165, 207, 186, 160, 204, 181, 154, 196, 171, 144, 184, 156, 123, 188, 158, 120, 193, 162, 124, 57, 53, 50, 83, 71, 56, 92, 72, 50, 93, 66, 46, 93, 64, 46, 103, 75, 55, 113, 88, 68, 113, 92, 75, 122, 102, 85, 138, 119, 99, 154, 137, 115, 179, 163, 141, 187, 171, 151, 177, 162, 145, 164, 148, 133, 174, 158, 142, 190, 176, 160, 190, 177, 158, 194, 180, 158, 179, 163, 136, 174, 156, 125, 169, 148, 117, 177, 154, 126, 178, 155, 127, 182, 157, 129, 189, 163, 135, 194, 167, 137, 190, 162, 132, 180, 151, 120, 191, 158, 124, 202, 166, 130, 196, 159, 122, 50, 45, 41, 77, 64, 46, 87, 65, 42, 97, 67, 47, 107, 75, 57, 113, 84, 62, 115, 87, 63, 120, 92, 70, 137, 110, 87, 159, 135, 110, 177, 157, 131, 193, 176, 152, 202, 187, 167, 196, 181, 165, 185, 172, 154, 184, 170, 151, 188, 175, 156, 208, 195, 175, 193, 179, 156, 196, 177, 150, 199, 175, 144, 198, 171, 137, 192, 162, 129, 186, 155, 122, 181, 149, 116, 177, 144, 110, 174, 140, 105, 180, 145, 110, 192, 157, 121, 202, 163, 126, 201, 160, 122, 196, 154, 116, 47, 40, 35, 87, 73, 54, 104, 80, 56, 113, 82, 61, 119, 86, 66, 122, 91, 67, 129, 97, 70, 138, 103, 75, 142, 108, 80, 150, 120, 90, 169, 144, 115, 190, 170, 143, 198, 181, 159, 199, 183, 165, 204, 190, 168, 211, 197, 174, 207, 193, 170, 194, 178, 154, 185, 166, 141, 203, 178, 149, 198, 167, 134, 199, 165, 130, 202, 167, 131, 197, 161, 124, 192, 154, 117, 195, 157, 118, 202, 163, 123, 208, 168, 127, 205, 164, 123, 190, 148, 107, 179, 137, 95, 180, 138, 96, 67, 59, 52, 106, 89, 69, 117, 91, 66, 117, 84, 62, 120, 85, 64, 131, 98, 73, 136, 103, 74, 138, 101, 73, 141, 105, 75, 153, 119, 87, 167, 137, 103, 181, 154, 122, 187, 161, 133, 196, 171, 145, 211, 188, 163, 201, 180, 156, 187, 167, 143, 205, 186, 160, 194, 173, 144, 190, 165, 132, 195, 165, 129, 201, 168, 130, 208, 172, 135, 211, 175, 138, 208, 170, 133, 198, 159, 121, 187, 147, 108, 187, 146, 106, 196, 155, 114, 196, 157, 116, 197, 159, 118, 200, 163, 123, 71, 63, 54, 113, 97, 77, 130, 105, 81, 134, 103, 81, 144, 113, 91, 151, 122, 97, 150, 122, 94, 152, 121, 93, 161, 129, 99, 173, 142, 110, 182, 151, 117, 188, 157, 124, 187, 157, 125, 183, 153, 123, 189, 161, 135, 193, 167, 143, 188, 164, 138, 213, 189, 163, 206, 182, 153, 196, 172, 139, 199, 173, 136, 211, 181, 144, 217, 183, 148, 217, 181, 147, 210, 174, 138, 197, 161, 123, 195, 158, 119, 200, 163, 121, 202, 164, 123, 201, 165, 125, 205, 171, 132, 219, 186, 148, 60, 56, 42, 101, 88, 70, 119, 97, 76, 135, 109, 85, 148, 124, 98, 147, 126, 99, 153, 132, 105, 166, 142, 116, 174, 149, 122, 180, 155, 128, 185, 159, 133, 193, 167, 141, 206, 180, 154, 191, 165, 139, 185, 163, 138, 208, 187, 163, 186, 165, 140, 221, 199, 173, 222, 199, 172, 193, 169, 141, 207, 182, 153, 227, 200, 170, 227, 195, 165, 226, 192, 160, 224, 190, 155, 221, 188, 150, 214, 181, 141, 213, 181, 138, 221, 189, 144, 217, 186, 145, 212, 181, 144, 208, 177, 141, 60, 55, 41, 83, 69, 52, 94, 72, 49, 111, 83, 56, 120, 90, 61, 132, 103, 73, 153, 126, 96, 163, 136, 109, 164, 137, 111, 175, 148, 122, 188, 161, 135, 195, 168, 142, 202, 176, 150, 189, 162, 136, 184, 157, 130, 199, 171, 143, 166, 137, 108, 189, 160, 130, 232, 202, 170, 219, 187, 156, 176, 144, 112, 196, 164, 130, 221, 188, 153, 223, 190, 154, 219, 186, 148, 214, 181, 141, 211, 179, 137, 209, 177, 133, 211, 179, 134, 205, 171, 130, 191, 155, 118, 175, 140, 103, 52, 46, 36, 77, 66, 52, 87, 70, 51, 92, 71, 48, 95, 71, 47, 110, 84, 60, 135, 108, 83, 151, 122, 95, 152, 122, 96, 149, 119, 92, 151, 121, 95, 170, 140, 113, 188, 158, 132, 192, 162, 136, 182, 150, 121, 172, 138, 108, 169, 135, 104, 162, 127, 95, 176, 140, 106, 194, 157, 122, 180, 143, 108, 154, 117, 82, 173, 137, 102, 188, 153, 117, 193, 158, 121, 180, 146, 108, 168, 133, 95, 169, 134, 95, 173, 139, 99, 175, 139, 102, 171, 132, 97, 154, 116, 81, 41, 38, 36, 52, 49, 43, 49, 45, 36, 35, 30, 21, 35, 27, 19, 37, 28, 22, 46, 35, 29, 70, 57, 49, 75, 62, 53, 73, 60, 52, 79, 66, 58, 84, 70, 61, 88, 75, 65, 89, 75, 67, 90, 75, 65, 81, 65, 53, 84, 68, 57, 82, 66, 54, 76, 58, 46, 78, 59, 44, 81, 62, 48, 83, 63, 49, 78, 60, 48, 78, 59, 48, 69, 51, 40, 58, 40, 30, 50, 32, 22, 60, 42, 31, 86, 68, 55, 95, 77, 64, 87, 69, 59, 87, 69, 58], \"height\": 32, \"channels\": 3, \"width\": 32, \"type\": \"image\", \"id\": 4558195024}], \"selected_variable\": {\"name\": [\"<SArray>\"], \"dtype\": \"Image\", \"view_component\": \"Images\", \"view_file\": \"sarray\", \"descriptives\": {\"rows\": 1}, \"type\": \"SArray\", \"view_components\": [\"Images\"]}}, e);\n",
       "                });\n",
       "            })();\n",
       "        "
      ]
     },
     "metadata": {},
     "output_type": "display_data"
    }
   ],
   "source": [
    "graphlab.canvas.set_target('ipynb')\n",
    "cat = image_train[18:19]\n",
    "cat['image'].show()"
   ]
  },
  {
   "cell_type": "code",
   "execution_count": 9,
   "metadata": {
    "collapsed": false
   },
   "outputs": [
    {
     "data": {
      "text/html": [
       "<pre>Starting pairwise querying.</pre>"
      ],
      "text/plain": [
       "Starting pairwise querying."
      ]
     },
     "metadata": {},
     "output_type": "display_data"
    },
    {
     "data": {
      "text/html": [
       "<pre>+--------------+---------+-------------+--------------+</pre>"
      ],
      "text/plain": [
       "+--------------+---------+-------------+--------------+"
      ]
     },
     "metadata": {},
     "output_type": "display_data"
    },
    {
     "data": {
      "text/html": [
       "<pre>| Query points | # Pairs | % Complete. | Elapsed Time |</pre>"
      ],
      "text/plain": [
       "| Query points | # Pairs | % Complete. | Elapsed Time |"
      ]
     },
     "metadata": {},
     "output_type": "display_data"
    },
    {
     "data": {
      "text/html": [
       "<pre>+--------------+---------+-------------+--------------+</pre>"
      ],
      "text/plain": [
       "+--------------+---------+-------------+--------------+"
      ]
     },
     "metadata": {},
     "output_type": "display_data"
    },
    {
     "data": {
      "text/html": [
       "<pre>| 0            | 1       | 0.0498753   | 14.404ms     |</pre>"
      ],
      "text/plain": [
       "| 0            | 1       | 0.0498753   | 14.404ms     |"
      ]
     },
     "metadata": {},
     "output_type": "display_data"
    },
    {
     "data": {
      "text/html": [
       "<pre>| Done         |         | 100         | 137.305ms    |</pre>"
      ],
      "text/plain": [
       "| Done         |         | 100         | 137.305ms    |"
      ]
     },
     "metadata": {},
     "output_type": "display_data"
    },
    {
     "data": {
      "text/html": [
       "<pre>+--------------+---------+-------------+--------------+</pre>"
      ],
      "text/plain": [
       "+--------------+---------+-------------+--------------+"
      ]
     },
     "metadata": {},
     "output_type": "display_data"
    },
    {
     "data": {
      "text/html": [
       "<div style=\"max-height:1000px;max-width:1500px;overflow:auto;\"><table frame=\"box\" rules=\"cols\">\n",
       "    <tr>\n",
       "        <th style=\"padding-left: 1em; padding-right: 1em; text-align: center\">query_label</th>\n",
       "        <th style=\"padding-left: 1em; padding-right: 1em; text-align: center\">reference_label</th>\n",
       "        <th style=\"padding-left: 1em; padding-right: 1em; text-align: center\">distance</th>\n",
       "        <th style=\"padding-left: 1em; padding-right: 1em; text-align: center\">rank</th>\n",
       "    </tr>\n",
       "    <tr>\n",
       "        <td style=\"padding-left: 1em; padding-right: 1em; text-align: center; vertical-align: top\">0</td>\n",
       "        <td style=\"padding-left: 1em; padding-right: 1em; text-align: center; vertical-align: top\">384</td>\n",
       "        <td style=\"padding-left: 1em; padding-right: 1em; text-align: center; vertical-align: top\">0.0</td>\n",
       "        <td style=\"padding-left: 1em; padding-right: 1em; text-align: center; vertical-align: top\">1</td>\n",
       "    </tr>\n",
       "    <tr>\n",
       "        <td style=\"padding-left: 1em; padding-right: 1em; text-align: center; vertical-align: top\">0</td>\n",
       "        <td style=\"padding-left: 1em; padding-right: 1em; text-align: center; vertical-align: top\">6910</td>\n",
       "        <td style=\"padding-left: 1em; padding-right: 1em; text-align: center; vertical-align: top\">36.9403137951</td>\n",
       "        <td style=\"padding-left: 1em; padding-right: 1em; text-align: center; vertical-align: top\">2</td>\n",
       "    </tr>\n",
       "    <tr>\n",
       "        <td style=\"padding-left: 1em; padding-right: 1em; text-align: center; vertical-align: top\">0</td>\n",
       "        <td style=\"padding-left: 1em; padding-right: 1em; text-align: center; vertical-align: top\">39777</td>\n",
       "        <td style=\"padding-left: 1em; padding-right: 1em; text-align: center; vertical-align: top\">38.4634888975</td>\n",
       "        <td style=\"padding-left: 1em; padding-right: 1em; text-align: center; vertical-align: top\">3</td>\n",
       "    </tr>\n",
       "    <tr>\n",
       "        <td style=\"padding-left: 1em; padding-right: 1em; text-align: center; vertical-align: top\">0</td>\n",
       "        <td style=\"padding-left: 1em; padding-right: 1em; text-align: center; vertical-align: top\">36870</td>\n",
       "        <td style=\"padding-left: 1em; padding-right: 1em; text-align: center; vertical-align: top\">39.7559623119</td>\n",
       "        <td style=\"padding-left: 1em; padding-right: 1em; text-align: center; vertical-align: top\">4</td>\n",
       "    </tr>\n",
       "    <tr>\n",
       "        <td style=\"padding-left: 1em; padding-right: 1em; text-align: center; vertical-align: top\">0</td>\n",
       "        <td style=\"padding-left: 1em; padding-right: 1em; text-align: center; vertical-align: top\">41734</td>\n",
       "        <td style=\"padding-left: 1em; padding-right: 1em; text-align: center; vertical-align: top\">39.7866014148</td>\n",
       "        <td style=\"padding-left: 1em; padding-right: 1em; text-align: center; vertical-align: top\">5</td>\n",
       "    </tr>\n",
       "</table>\n",
       "[5 rows x 4 columns]<br/>\n",
       "</div>"
      ],
      "text/plain": [
       "Columns:\n",
       "\tquery_label\tint\n",
       "\treference_label\tint\n",
       "\tdistance\tfloat\n",
       "\trank\tint\n",
       "\n",
       "Rows: 5\n",
       "\n",
       "Data:\n",
       "+-------------+-----------------+---------------+------+\n",
       "| query_label | reference_label |    distance   | rank |\n",
       "+-------------+-----------------+---------------+------+\n",
       "|      0      |       384       |      0.0      |  1   |\n",
       "|      0      |       6910      | 36.9403137951 |  2   |\n",
       "|      0      |      39777      | 38.4634888975 |  3   |\n",
       "|      0      |      36870      | 39.7559623119 |  4   |\n",
       "|      0      |      41734      | 39.7866014148 |  5   |\n",
       "+-------------+-----------------+---------------+------+\n",
       "[5 rows x 4 columns]"
      ]
     },
     "execution_count": 9,
     "metadata": {},
     "output_type": "execute_result"
    }
   ],
   "source": [
    "knn_model.query(cat)"
   ]
  },
  {
   "cell_type": "markdown",
   "metadata": {},
   "source": [
    "We are going to create a simple function to view the nearest neighbors to save typing:"
   ]
  },
  {
   "cell_type": "code",
   "execution_count": 30,
   "metadata": {
    "collapsed": true
   },
   "outputs": [],
   "source": [
    "def get_images_from_ids(query_result):\n",
    "    return image_train.filter_by(query_result['reference_label'],'id')"
   ]
  },
  {
   "cell_type": "code",
   "execution_count": 32,
   "metadata": {
    "collapsed": false,
    "scrolled": true
   },
   "outputs": [
    {
     "data": {
      "text/html": [
       "<pre>Starting pairwise querying.</pre>"
      ],
      "text/plain": [
       "Starting pairwise querying."
      ]
     },
     "metadata": {},
     "output_type": "display_data"
    },
    {
     "data": {
      "text/html": [
       "<pre>+--------------+---------+-------------+--------------+</pre>"
      ],
      "text/plain": [
       "+--------------+---------+-------------+--------------+"
      ]
     },
     "metadata": {},
     "output_type": "display_data"
    },
    {
     "data": {
      "text/html": [
       "<pre>| Query points | # Pairs | % Complete. | Elapsed Time |</pre>"
      ],
      "text/plain": [
       "| Query points | # Pairs | % Complete. | Elapsed Time |"
      ]
     },
     "metadata": {},
     "output_type": "display_data"
    },
    {
     "data": {
      "text/html": [
       "<pre>+--------------+---------+-------------+--------------+</pre>"
      ],
      "text/plain": [
       "+--------------+---------+-------------+--------------+"
      ]
     },
     "metadata": {},
     "output_type": "display_data"
    },
    {
     "data": {
      "text/html": [
       "<pre>| 0            | 1       | 0.196464    | 10.879ms     |</pre>"
      ],
      "text/plain": [
       "| 0            | 1       | 0.196464    | 10.879ms     |"
      ]
     },
     "metadata": {},
     "output_type": "display_data"
    },
    {
     "data": {
      "text/html": [
       "<pre>| Done         |         | 100         | 52.01ms      |</pre>"
      ],
      "text/plain": [
       "| Done         |         | 100         | 52.01ms      |"
      ]
     },
     "metadata": {},
     "output_type": "display_data"
    },
    {
     "data": {
      "text/html": [
       "<pre>+--------------+---------+-------------+--------------+</pre>"
      ],
      "text/plain": [
       "+--------------+---------+-------------+--------------+"
      ]
     },
     "metadata": {},
     "output_type": "display_data"
    },
    {
     "data": {
      "application/javascript": [
       "$(\"head\").append($(\"<link/>\").attr({\n",
       "  rel:  \"stylesheet\",\n",
       "  type: \"text/css\",\n",
       "  href: \"//cdnjs.cloudflare.com/ajax/libs/font-awesome/4.1.0/css/font-awesome.min.css\"\n",
       "}));\n",
       "$(\"head\").append($(\"<link/>\").attr({\n",
       "  rel:  \"stylesheet\",\n",
       "  type: \"text/css\",\n",
       "  href: \"//dato.com/files/canvas/1.9/css/canvas.css\"\n",
       "}));\n",
       "\n",
       "            (function(){\n",
       "\n",
       "                var e = null;\n",
       "                if (typeof element == 'undefined') {\n",
       "                    var scripts = document.getElementsByTagName('script');\n",
       "                    var thisScriptTag = scripts[scripts.length-1];\n",
       "                    var parentDiv = thisScriptTag.parentNode;\n",
       "                    e = document.createElement('div');\n",
       "                    parentDiv.appendChild(e);\n",
       "                } else {\n",
       "                    e = element[0];\n",
       "                }\n",
       "\n",
       "                if (typeof requirejs !== 'undefined') {\n",
       "                    // disable load timeout; ipython_app.js is large and can take a while to load.\n",
       "                    requirejs.config({waitSeconds: 0});\n",
       "                }\n",
       "\n",
       "                require(['//dato.com/files/canvas/1.9/js/ipython_app.js'], function(IPythonApp){\n",
       "                    var app = new IPythonApp();\n",
       "                    app.attachView('sarray','Images', {\"ipython\": true, \"rows\": [{\"format\": \"raw\", \"value\": [45, 65, 92, 72, 95, 110, 106, 132, 129, 106, 132, 129, 109, 134, 131, 111, 137, 134, 111, 139, 135, 115, 145, 142, 91, 112, 107, 85, 100, 96, 92, 113, 110, 84, 102, 99, 116, 141, 138, 122, 148, 145, 122, 148, 145, 123, 148, 145, 122, 148, 145, 122, 148, 145, 122, 148, 145, 122, 148, 145, 122, 148, 145, 123, 148, 144, 123, 147, 144, 123, 147, 143, 122, 150, 146, 108, 104, 113, 93, 45, 73, 72, 38, 64, 41, 23, 43, 23, 18, 24, 36, 31, 20, 52, 44, 29, 46, 67, 96, 76, 100, 113, 110, 136, 133, 109, 135, 133, 111, 138, 135, 111, 139, 136, 109, 136, 133, 116, 146, 142, 77, 92, 89, 75, 80, 77, 104, 124, 118, 105, 125, 121, 125, 151, 148, 124, 151, 148, 125, 151, 148, 126, 152, 149, 126, 152, 149, 126, 152, 149, 126, 152, 149, 125, 151, 149, 126, 152, 148, 127, 152, 148, 126, 151, 147, 126, 151, 147, 124, 155, 150, 104, 102, 111, 75, 34, 63, 75, 41, 67, 73, 46, 73, 37, 24, 40, 19, 13, 21, 44, 36, 35, 48, 68, 97, 79, 103, 115, 110, 137, 133, 110, 136, 133, 112, 140, 137, 113, 142, 139, 102, 128, 126, 99, 126, 124, 78, 85, 81, 94, 94, 87, 95, 109, 104, 100, 118, 115, 127, 154, 151, 126, 152, 149, 127, 152, 149, 127, 153, 149, 127, 153, 150, 127, 153, 150, 127, 153, 150, 127, 152, 149, 127, 152, 149, 127, 152, 149, 127, 152, 148, 127, 151, 148, 125, 154, 149, 107, 110, 116, 91, 62, 83, 101, 71, 95, 99, 75, 99, 67, 50, 70, 41, 33, 51, 57, 48, 52, 51, 72, 99, 83, 109, 118, 111, 139, 135, 111, 140, 136, 114, 143, 140, 120, 147, 146, 108, 134, 133, 90, 116, 113, 92, 92, 84, 112, 103, 91, 93, 98, 93, 106, 121, 120, 127, 154, 150, 128, 155, 151, 130, 154, 151, 130, 155, 152, 131, 156, 153, 131, 156, 153, 130, 155, 152, 130, 155, 152, 129, 154, 151, 130, 154, 152, 129, 154, 151, 129, 154, 151, 126, 151, 147, 123, 134, 134, 124, 121, 126, 125, 121, 128, 123, 118, 127, 106, 103, 113, 94, 94, 104, 100, 99, 104, 53, 75, 99, 87, 114, 119, 112, 141, 137, 113, 142, 138, 115, 145, 141, 114, 142, 141, 105, 132, 131, 85, 109, 106, 84, 79, 70, 127, 115, 100, 115, 101, 91, 106, 86, 88, 112, 114, 113, 128, 153, 149, 133, 157, 156, 134, 156, 154, 134, 158, 155, 134, 157, 155, 133, 157, 154, 132, 157, 154, 132, 156, 154, 133, 157, 155, 131, 157, 154, 132, 155, 155, 129, 153, 151, 128, 147, 145, 128, 142, 140, 126, 140, 139, 125, 137, 138, 119, 131, 131, 117, 129, 129, 122, 133, 133, 53, 76, 101, 90, 118, 124, 112, 143, 138, 113, 144, 139, 114, 145, 142, 108, 137, 135, 101, 130, 128, 83, 106, 104, 73, 65, 58, 127, 116, 102, 139, 125, 113, 115, 62, 66, 110, 64, 73, 128, 145, 144, 137, 163, 162, 137, 160, 157, 139, 161, 159, 138, 161, 158, 137, 161, 158, 135, 160, 157, 134, 159, 156, 127, 147, 142, 112, 125, 117, 124, 141, 136, 127, 148, 145, 122, 143, 138, 122, 140, 134, 123, 143, 139, 120, 146, 144, 117, 144, 141, 117, 142, 139, 117, 143, 139, 52, 75, 102, 95, 123, 131, 113, 143, 139, 113, 144, 141, 115, 145, 143, 105, 134, 132, 101, 131, 129, 85, 109, 108, 65, 58, 53, 111, 101, 93, 141, 134, 124, 122, 91, 86, 115, 69, 76, 131, 146, 145, 136, 163, 161, 136, 162, 158, 137, 164, 160, 138, 164, 160, 137, 163, 161, 137, 162, 160, 113, 127, 121, 96, 92, 83, 83, 73, 64, 91, 88, 80, 113, 120, 111, 100, 103, 98, 97, 96, 87, 115, 123, 115, 117, 140, 136, 112, 138, 133, 114, 140, 135, 114, 142, 139, 46, 69, 95, 99, 127, 135, 115, 145, 142, 114, 143, 141, 115, 145, 143, 104, 134, 132, 100, 131, 129, 87, 112, 111, 64, 58, 53, 95, 83, 75, 121, 113, 102, 108, 96, 82, 115, 97, 92, 153, 159, 158, 160, 173, 172, 153, 166, 165, 151, 165, 165, 141, 157, 156, 136, 157, 154, 123, 139, 136, 71, 65, 59, 71, 57, 48, 84, 72, 63, 69, 59, 53, 108, 104, 99, 145, 142, 142, 121, 113, 108, 105, 100, 92, 98, 99, 91, 90, 91, 84, 85, 85, 80, 92, 96, 89, 39, 61, 87, 95, 124, 131, 117, 147, 144, 114, 144, 142, 116, 146, 144, 114, 144, 142, 113, 143, 142, 97, 123, 122, 64, 59, 55, 83, 72, 62, 108, 100, 88, 106, 94, 82, 93, 80, 72, 122, 117, 110, 170, 166, 162, 188, 186, 184, 187, 187, 184, 165, 164, 161, 163, 162, 160, 116, 114, 111, 66, 50, 41, 74, 58, 47, 73, 61, 52, 70, 60, 53, 79, 71, 64, 146, 143, 136, 195, 197, 194, 144, 142, 140, 101, 92, 87, 98, 88, 80, 64, 53, 47, 83, 70, 59, 43, 64, 89, 94, 123, 130, 116, 147, 144, 114, 144, 142, 117, 146, 144, 117, 148, 146, 118, 148, 145, 83, 102, 99, 55, 49, 44, 78, 67, 58, 87, 79, 70, 87, 76, 67, 85, 75, 66, 79, 68, 59, 93, 84, 76, 164, 161, 156, 198, 197, 194, 186, 184, 180, 164, 160, 156, 110, 104, 98, 94, 78, 62, 101, 83, 65, 91, 75, 64, 81, 70, 61, 89, 78, 66, 140, 133, 120, 209, 211, 206, 194, 195, 194, 139, 133, 129, 120, 111, 102, 86, 75, 67, 104, 87, 70, 45, 65, 89, 93, 118, 125, 115, 142, 138, 115, 144, 141, 119, 149, 146, 118, 150, 147, 87, 106, 104, 37, 37, 36, 52, 44, 39, 79, 70, 63, 93, 85, 78, 94, 86, 78, 101, 91, 80, 91, 81, 71, 84, 73, 63, 123, 116, 108, 171, 170, 166, 153, 151, 146, 128, 125, 119, 89, 84, 78, 77, 63, 50, 102, 83, 65, 108, 93, 78, 100, 89, 77, 91, 79, 66, 138, 131, 120, 213, 212, 206, 215, 215, 212, 184, 181, 176, 149, 140, 128, 135, 121, 106, 131, 112, 89, 48, 61, 82, 90, 94, 92, 101, 107, 96, 97, 107, 99, 102, 119, 112, 93, 108, 103, 57, 57, 54, 47, 39, 36, 72, 65, 60, 89, 84, 79, 111, 103, 95, 118, 117, 104, 107, 109, 88, 120, 111, 97, 111, 101, 89, 109, 99, 87, 131, 127, 121, 95, 90, 83, 89, 81, 74, 92, 84, 75, 66, 57, 49, 75, 61, 51, 92, 79, 68, 110, 100, 90, 110, 100, 91, 162, 159, 152, 203, 205, 199, 202, 203, 198, 196, 195, 192, 179, 173, 166, 165, 154, 140, 137, 121, 103, 48, 55, 68, 89, 82, 75, 110, 101, 92, 103, 94, 86, 84, 78, 71, 66, 59, 52, 66, 57, 49, 69, 60, 54, 102, 97, 94, 137, 139, 137, 150, 142, 136, 132, 142, 117, 93, 135, 97, 119, 112, 100, 107, 95, 84, 130, 116, 102, 155, 151, 144, 115, 110, 100, 106, 98, 89, 120, 111, 99, 121, 113, 102, 115, 106, 95, 124, 116, 105, 150, 147, 140, 144, 142, 136, 163, 162, 154, 149, 146, 136, 144, 140, 131, 182, 182, 177, 219, 221, 220, 204, 201, 197, 147, 138, 132, 52, 61, 65, 73, 66, 61, 125, 120, 113, 127, 124, 121, 104, 97, 92, 81, 71, 63, 79, 72, 64, 80, 74, 67, 123, 121, 117, 193, 198, 196, 193, 190, 186, 132, 130, 111, 101, 113, 87, 119, 111, 100, 125, 113, 99, 171, 158, 142, 185, 184, 177, 154, 150, 143, 130, 120, 107, 135, 126, 112, 158, 156, 147, 168, 164, 154, 180, 178, 169, 182, 183, 176, 145, 142, 131, 132, 125, 111, 121, 110, 95, 128, 120, 104, 195, 195, 187, 243, 245, 242, 236, 238, 238, 172, 166, 164, 79, 97, 95, 50, 44, 41, 109, 98, 86, 136, 126, 116, 120, 112, 102, 86, 78, 69, 74, 67, 61, 83, 75, 69, 130, 120, 112, 182, 181, 177, 211, 213, 212, 170, 165, 160, 131, 119, 111, 135, 128, 117, 156, 145, 130, 194, 186, 174, 198, 199, 194, 179, 179, 174, 144, 136, 126, 129, 116, 99, 159, 154, 142, 183, 183, 177, 190, 191, 185, 156, 152, 141, 125, 116, 101, 111, 100, 85, 127, 113, 96, 158, 150, 131, 222, 222, 216, 247, 247, 245, 241, 244, 245, 186, 178, 172, 106, 135, 133, 54, 63, 63, 58, 50, 46, 116, 103, 96, 114, 104, 96, 82, 72, 63, 71, 63, 57, 104, 100, 95, 140, 137, 121, 149, 140, 127, 182, 180, 176, 198, 196, 193, 192, 188, 184, 175, 170, 164, 167, 159, 148, 198, 196, 188, 193, 194, 188, 162, 161, 155, 149, 140, 132, 135, 120, 104, 157, 147, 131, 192, 191, 183, 159, 155, 146, 107, 96, 84, 97, 85, 71, 92, 79, 65, 120, 106, 87, 179, 171, 154, 241, 241, 237, 249, 249, 247, 243, 245, 248, 185, 174, 163, 114, 146, 145, 99, 124, 122, 50, 55, 54, 59, 50, 47, 87, 75, 66, 71, 62, 52, 81, 67, 61, 91, 100, 80, 72, 135, 93, 88, 83, 64, 146, 137, 135, 199, 186, 185, 203, 185, 181, 217, 213, 210, 207, 205, 201, 188, 184, 176, 155, 145, 133, 105, 91, 82, 132, 117, 102, 161, 154, 142, 169, 166, 156, 169, 166, 156, 115, 104, 90, 72, 59, 50, 71, 59, 51, 88, 77, 63, 114, 101, 82, 180, 172, 157, 244, 244, 240, 243, 244, 243, 215, 213, 213, 152, 135, 121, 113, 143, 141, 118, 148, 146, 95, 119, 116, 47, 54, 52, 54, 48, 44, 63, 55, 46, 85, 72, 62, 109, 105, 85, 88, 115, 85, 110, 99, 85, 152, 145, 143, 193, 177, 176, 206, 178, 173, 215, 208, 204, 197, 198, 194, 157, 147, 133, 108, 89, 74, 93, 72, 56, 124, 104, 81, 156, 147, 135, 169, 167, 159, 117, 109, 99, 77, 63, 51, 62, 50, 43, 73, 63, 54, 93, 82, 69, 110, 98, 81, 169, 163, 150, 237, 240, 237, 226, 227, 229, 147, 134, 127, 116, 93, 71, 114, 143, 141, 116, 144, 143, 118, 148, 145, 89, 113, 109, 55, 57, 55, 65, 55, 47, 80, 70, 60, 110, 102, 90, 114, 105, 95, 127, 118, 109, 173, 172, 169, 208, 203, 203, 201, 178, 177, 194, 174, 173, 169, 165, 157, 129, 115, 95, 91, 69, 52, 97, 75, 57, 110, 86, 62, 114, 95, 76, 123, 111, 94, 90, 77, 64, 66, 51, 42, 56, 43, 37, 73, 63, 52, 104, 94, 80, 113, 102, 87, 161, 157, 146, 211, 214, 214, 175, 173, 172, 110, 91, 77, 112, 87, 60, 112, 141, 139, 113, 142, 140, 117, 146, 145, 113, 144, 141, 66, 75, 74, 57, 47, 41, 77, 66, 57, 95, 84, 74, 107, 97, 87, 141, 134, 124, 174, 172, 169, 206, 210, 210, 193, 181, 181, 188, 167, 168, 153, 142, 135, 104, 84, 65, 80, 59, 42, 95, 72, 53, 105, 81, 58, 97, 75, 53, 92, 74, 56, 86, 71, 58, 73, 59, 51, 66, 54, 46, 74, 63, 53, 103, 93, 81, 109, 99, 89, 135, 131, 121, 148, 148, 143, 130, 125, 119, 102, 85, 72, 104, 79, 56, 108, 137, 135, 109, 138, 136, 112, 140, 138, 114, 143, 140, 70, 84, 83, 42, 35, 32, 82, 69, 59, 100, 87, 75, 128, 118, 106, 168, 161, 150, 176, 176, 170, 183, 183, 181, 179, 171, 170, 173, 165, 163, 120, 108, 97, 90, 69, 51, 74, 53, 39, 89, 66, 48, 106, 83, 58, 96, 74, 52, 81, 64, 48, 76, 63, 53, 74, 61, 51, 81, 69, 59, 89, 78, 66, 94, 85, 73, 100, 92, 83, 120, 115, 106, 136, 134, 124, 121, 116, 109, 91, 76, 69, 85, 64, 48, 102, 131, 130, 104, 133, 132, 106, 136, 134, 110, 143, 140, 83, 106, 104, 37, 36, 35, 64, 52, 46, 100, 85, 74, 149, 136, 123, 181, 175, 164, 190, 190, 184, 194, 195, 191, 180, 179, 174, 126, 120, 111, 93, 78, 63, 95, 76, 57, 73, 53, 40, 83, 61, 45, 100, 78, 55, 93, 71, 50, 79, 62, 46, 67, 54, 46, 73, 61, 51, 90, 80, 67, 100, 90, 77, 104, 95, 81, 130, 124, 109, 131, 126, 115, 125, 121, 113, 113, 106, 98, 79, 64, 57, 78, 58, 43, 97, 93, 100, 94, 104, 107, 94, 111, 111, 96, 118, 117, 91, 115, 114, 44, 53, 53, 49, 45, 45, 98, 91, 85, 159, 154, 146, 202, 203, 196, 209, 211, 206, 210, 213, 208, 164, 161, 153, 93, 80, 66, 96, 80, 63, 104, 88, 69, 75, 56, 43, 81, 61, 47, 99, 79, 58, 98, 76, 54, 87, 70, 53, 68, 55, 48, 45, 34, 31, 59, 51, 43, 86, 77, 66, 120, 111, 97, 147, 143, 127, 144, 138, 126, 101, 91, 85, 100, 91, 82, 88, 75, 63, 80, 58, 43, 124, 76, 96, 115, 66, 87, 115, 69, 89, 104, 69, 85, 80, 56, 68, 61, 45, 53, 53, 43, 47, 58, 52, 53, 107, 106, 107, 184, 185, 184, 202, 204, 200, 196, 198, 192, 131, 122, 114, 86, 70, 56, 97, 83, 68, 104, 90, 72, 78, 59, 47, 81, 63, 51, 99, 83, 65, 105, 87, 66, 88, 72, 57, 69, 58, 51, 48, 35, 31, 42, 30, 26, 58, 47, 40, 105, 96, 86, 119, 112, 104, 135, 129, 117, 127, 120, 110, 89, 79, 72, 96, 85, 74, 74, 55, 43, 118, 60, 81, 142, 83, 106, 152, 96, 120, 153, 99, 122, 143, 91, 113, 131, 80, 100, 123, 62, 81, 113, 42, 65, 100, 38, 60, 130, 102, 112, 170, 170, 171, 163, 164, 162, 110, 100, 92, 82, 67, 54, 94, 81, 68, 98, 85, 72, 77, 61, 50, 82, 65, 54, 100, 86, 70, 103, 86, 67, 68, 53, 44, 54, 45, 40, 86, 77, 63, 85, 74, 62, 94, 85, 74, 80, 70, 64, 79, 68, 61, 139, 132, 117, 125, 120, 110, 91, 83, 77, 90, 79, 71, 71, 56, 47, 88, 91, 92, 124, 118, 121, 129, 94, 106, 140, 94, 110, 149, 143, 147, 152, 157, 159, 159, 158, 160, 155, 130, 138, 166, 102, 124, 164, 95, 121, 167, 156, 167, 163, 165, 172, 131, 132, 133, 86, 83, 78, 86, 77, 68, 89, 78, 68, 80, 68, 60, 77, 62, 53, 89, 75, 61, 102, 89, 76, 62, 52, 45, 61, 49, 42, 75, 64, 57, 76, 68, 60, 91, 85, 72, 96, 89, 76, 102, 94, 80, 118, 110, 96, 82, 73, 69, 91, 82, 76, 82, 71, 65, 66, 52, 46, 108, 120, 124, 135, 148, 151, 147, 158, 159, 142, 150, 150, 132, 140, 138, 133, 142, 138, 151, 163, 157, 163, 173, 169, 159, 150, 154, 160, 120, 136, 154, 141, 151, 165, 170, 177, 151, 156, 163, 127, 132, 136, 96, 94, 92, 80, 73, 67, 80, 71, 64, 80, 71, 65, 111, 107, 103, 151, 153, 153, 136, 140, 143, 115, 115, 112, 89, 85, 82, 67, 59, 55, 65, 54, 50, 64, 55, 51, 69, 62, 58, 67, 58, 54, 68, 59, 54, 91, 84, 77, 65, 56, 53, 53, 40, 36, 44, 42, 47, 84, 88, 95, 134, 143, 149, 163, 173, 176, 160, 172, 171, 159, 168, 167, 164, 169, 166, 174, 180, 178, 178, 184, 185, 181, 189, 188, 154, 156, 158, 150, 154, 161, 149, 155, 162, 136, 143, 147, 120, 123, 126, 95, 95, 96, 93, 95, 96, 122, 127, 131, 165, 174, 180, 174, 184, 193, 175, 184, 191, 178, 187, 191, 166, 173, 178, 136, 141, 142, 124, 123, 122, 107, 104, 100, 85, 79, 76, 70, 63, 58, 82, 74, 67, 81, 73, 68, 54, 46, 45, 46, 33, 31, 30, 32, 32, 21, 16, 20, 59, 57, 65, 117, 123, 127, 163, 173, 175, 207, 215, 217, 223, 231, 231, 215, 224, 223, 217, 226, 227, 213, 225, 225, 166, 174, 176, 144, 151, 156, 142, 150, 157, 125, 131, 138, 107, 110, 117, 96, 100, 105, 101, 109, 118, 131, 140, 148, 146, 155, 163, 133, 142, 151, 141, 149, 158, 152, 160, 167, 160, 167, 176, 163, 170, 177, 161, 168, 173, 149, 154, 158, 129, 132, 136, 112, 114, 117, 110, 109, 111, 90, 87, 88, 60, 56, 58, 55, 48, 46, 72, 91, 91, 43, 47, 49, 19, 13, 17, 37, 32, 36, 99, 98, 101, 180, 182, 185, 213, 222, 224, 193, 198, 202, 161, 166, 171, 138, 143, 147, 122, 126, 133, 134, 141, 149, 149, 158, 167, 128, 138, 146, 97, 107, 115, 83, 89, 97, 64, 67, 74, 128, 133, 132, 123, 125, 128, 72, 64, 72, 78, 76, 82, 85, 88, 93, 89, 91, 95, 95, 96, 103, 122, 126, 134, 122, 129, 138, 129, 137, 150, 129, 137, 152, 120, 126, 141, 102, 107, 119, 94, 98, 107, 109, 113, 116, 88, 113, 116, 83, 103, 104, 55, 64, 65, 35, 29, 30, 66, 47, 41, 100, 86, 86, 125, 130, 136, 87, 87, 94, 65, 65, 71, 68, 69, 74, 75, 77, 83, 79, 85, 89, 84, 94, 97, 80, 97, 97, 77, 95, 96, 76, 82, 89, 70, 70, 73, 140, 143, 142, 99, 99, 101, 89, 78, 80, 115, 111, 111, 121, 124, 121, 116, 116, 112, 104, 106, 105, 128, 136, 138, 137, 146, 154, 144, 154, 168, 147, 158, 176, 138, 148, 168, 125, 137, 151, 135, 146, 153, 145, 155, 159, 86, 110, 113, 89, 113, 114, 83, 105, 106, 70, 64, 60, 81, 52, 36, 94, 73, 67, 80, 79, 87, 31, 29, 34, 57, 61, 64, 66, 71, 74, 68, 76, 78, 66, 75, 77, 61, 70, 72, 58, 70, 68, 52, 63, 62, 53, 54, 61, 62, 64, 71, 79, 80, 86, 111, 116, 116, 148, 154, 151, 154, 160, 157, 173, 178, 173, 184, 188, 183, 148, 149, 148, 99, 97, 98, 93, 92, 96, 93, 92, 101, 113, 120, 132, 134, 145, 154, 158, 169, 176, 166, 177, 183, 157, 170, 178], \"height\": 32, \"channels\": 3, \"width\": 32, \"type\": \"image\", \"id\": 4558288336}, {\"format\": \"raw\", \"value\": [215, 219, 231, 215, 219, 232, 216, 219, 233, 214, 217, 230, 213, 216, 230, 209, 215, 226, 208, 217, 221, 206, 215, 219, 201, 208, 217, 197, 203, 218, 194, 200, 221, 199, 204, 221, 142, 128, 131, 76, 46, 46, 81, 55, 57, 147, 136, 139, 160, 149, 154, 152, 141, 144, 156, 147, 150, 159, 148, 154, 160, 153, 157, 164, 156, 160, 160, 154, 158, 158, 151, 156, 159, 149, 157, 159, 150, 156, 157, 147, 154, 156, 145, 153, 152, 142, 149, 147, 137, 143, 141, 131, 136, 142, 131, 136, 215, 219, 231, 215, 219, 232, 215, 219, 232, 213, 217, 229, 212, 216, 229, 212, 214, 217, 206, 215, 217, 203, 211, 219, 197, 205, 218, 194, 201, 218, 196, 201, 218, 178, 180, 192, 92, 56, 55, 77, 50, 49, 112, 98, 100, 173, 162, 169, 162, 153, 157, 160, 152, 154, 164, 157, 159, 164, 155, 160, 165, 158, 163, 165, 155, 162, 167, 160, 166, 164, 155, 162, 160, 148, 155, 153, 142, 149, 160, 150, 159, 162, 154, 162, 157, 151, 156, 152, 143, 148, 139, 129, 133, 135, 124, 128, 215, 219, 231, 215, 219, 231, 214, 218, 230, 214, 218, 229, 214, 217, 227, 216, 211, 207, 207, 213, 215, 200, 207, 218, 195, 202, 220, 193, 201, 216, 196, 202, 216, 125, 101, 101, 79, 49, 48, 88, 67, 67, 157, 147, 152, 168, 160, 166, 164, 155, 158, 170, 163, 168, 169, 164, 166, 169, 160, 165, 169, 162, 167, 167, 159, 167, 166, 156, 164, 166, 155, 163, 163, 153, 158, 160, 150, 157, 160, 151, 158, 159, 150, 156, 157, 148, 155, 155, 145, 152, 152, 141, 147, 143, 131, 135, 216, 220, 232, 215, 219, 231, 214, 218, 230, 214, 218, 230, 214, 217, 227, 216, 213, 207, 205, 210, 216, 199, 203, 219, 196, 202, 219, 194, 204, 220, 164, 155, 162, 89, 54, 48, 77, 52, 52, 126, 110, 113, 173, 162, 168, 167, 159, 163, 170, 162, 166, 172, 163, 168, 171, 164, 168, 171, 163, 168, 171, 162, 169, 169, 161, 167, 165, 153, 160, 165, 154, 160, 163, 153, 158, 166, 155, 162, 165, 154, 160, 155, 144, 149, 156, 144, 151, 153, 143, 151, 151, 140, 148, 143, 131, 137, 217, 221, 233, 215, 219, 231, 215, 219, 231, 215, 219, 231, 217, 219, 229, 221, 222, 219, 199, 203, 211, 195, 202, 217, 198, 202, 220, 190, 193, 206, 109, 80, 77, 78, 50, 49, 94, 72, 74, 163, 154, 155, 166, 157, 158, 169, 158, 158, 173, 163, 167, 170, 158, 161, 172, 161, 168, 173, 166, 170, 173, 163, 170, 171, 161, 164, 169, 155, 160, 170, 158, 162, 162, 151, 157, 162, 151, 157, 167, 156, 164, 164, 153, 160, 158, 147, 153, 157, 146, 151, 149, 138, 144, 143, 132, 137, 217, 221, 233, 215, 219, 231, 214, 218, 230, 213, 217, 229, 222, 224, 232, 228, 227, 233, 192, 196, 211, 196, 202, 220, 196, 209, 225, 150, 128, 133, 80, 48, 46, 76, 51, 56, 144, 129, 134, 167, 158, 161, 165, 155, 156, 173, 161, 163, 175, 164, 168, 173, 162, 168, 175, 167, 171, 175, 165, 167, 174, 162, 169, 168, 157, 159, 156, 145, 146, 171, 159, 162, 168, 157, 163, 167, 156, 163, 167, 155, 165, 168, 157, 165, 159, 147, 155, 151, 140, 144, 145, 133, 137, 149, 137, 141, 217, 221, 233, 216, 220, 232, 214, 218, 230, 215, 219, 231, 166, 167, 174, 200, 198, 206, 194, 201, 218, 194, 200, 219, 177, 173, 184, 93, 65, 61, 75, 53, 53, 120, 100, 97, 172, 162, 166, 169, 158, 161, 167, 154, 156, 177, 166, 169, 181, 171, 175, 174, 166, 173, 175, 166, 172, 171, 160, 164, 173, 163, 171, 136, 125, 129, 101, 91, 88, 155, 141, 141, 175, 164, 169, 174, 162, 170, 167, 156, 165, 165, 154, 162, 161, 150, 157, 150, 138, 143, 148, 136, 140, 147, 135, 139, 217, 221, 233, 216, 220, 232, 215, 219, 231, 217, 221, 234, 113, 108, 113, 140, 130, 127, 163, 161, 169, 144, 143, 149, 153, 139, 139, 139, 122, 116, 132, 114, 102, 164, 147, 139, 161, 150, 142, 150, 138, 130, 135, 122, 116, 152, 138, 134, 149, 132, 127, 175, 162, 161, 180, 168, 175, 176, 164, 170, 177, 171, 180, 136, 126, 130, 87, 76, 68, 137, 121, 119, 178, 168, 173, 173, 162, 169, 168, 157, 164, 163, 152, 158, 158, 146, 151, 160, 147, 155, 163, 150, 158, 160, 147, 154, 218, 220, 233, 216, 219, 232, 215, 219, 232, 208, 212, 224, 92, 82, 85, 96, 78, 69, 111, 99, 93, 129, 116, 110, 167, 156, 155, 179, 168, 171, 171, 161, 158, 157, 137, 124, 120, 103, 92, 117, 98, 86, 102, 86, 81, 127, 108, 96, 147, 122, 108, 139, 122, 116, 168, 157, 155, 155, 145, 145, 200, 199, 207, 157, 149, 147, 116, 102, 91, 150, 137, 137, 176, 166, 170, 173, 162, 168, 169, 156, 164, 159, 147, 153, 159, 146, 150, 164, 151, 158, 166, 153, 161, 159, 145, 153, 217, 219, 232, 216, 218, 231, 217, 218, 229, 193, 195, 207, 95, 79, 74, 110, 88, 80, 154, 138, 132, 181, 165, 159, 207, 200, 205, 205, 207, 219, 199, 200, 209, 159, 138, 131, 143, 118, 101, 137, 110, 93, 115, 98, 91, 118, 103, 92, 184, 166, 159, 125, 113, 114, 149, 132, 126, 117, 101, 102, 213, 214, 226, 172, 170, 179, 133, 121, 123, 157, 143, 143, 147, 131, 129, 174, 158, 166, 169, 156, 165, 162, 149, 157, 168, 156, 164, 166, 154, 162, 162, 151, 158, 158, 146, 154, 218, 220, 233, 216, 218, 232, 216, 220, 234, 174, 176, 187, 90, 73, 70, 148, 125, 109, 194, 169, 157, 215, 204, 208, 220, 221, 230, 220, 223, 231, 218, 216, 224, 174, 154, 152, 162, 140, 127, 127, 100, 84, 146, 120, 103, 147, 124, 116, 169, 145, 133, 138, 122, 113, 148, 134, 124, 123, 103, 97, 154, 143, 141, 153, 143, 144, 133, 124, 127, 151, 136, 137, 140, 119, 111, 156, 139, 134, 175, 164, 169, 175, 160, 169, 170, 156, 165, 164, 151, 158, 156, 144, 150, 158, 146, 152, 218, 220, 233, 214, 218, 231, 216, 219, 233, 173, 164, 169, 134, 106, 90, 184, 152, 131, 205, 184, 171, 218, 214, 222, 221, 222, 232, 225, 226, 235, 218, 220, 231, 187, 172, 169, 156, 136, 127, 140, 116, 102, 147, 115, 98, 126, 99, 84, 171, 135, 105, 105, 81, 71, 132, 112, 105, 95, 80, 75, 130, 118, 114, 140, 127, 123, 128, 115, 114, 140, 125, 124, 159, 143, 139, 126, 113, 112, 165, 156, 163, 159, 144, 150, 163, 147, 148, 161, 145, 149, 161, 145, 149, 163, 148, 151, 217, 219, 232, 214, 218, 230, 218, 216, 229, 152, 133, 128, 169, 146, 138, 194, 172, 157, 201, 173, 151, 210, 197, 193, 215, 213, 223, 216, 218, 226, 203, 201, 209, 157, 129, 111, 145, 112, 92, 141, 114, 99, 133, 104, 90, 114, 84, 72, 183, 145, 108, 135, 106, 86, 143, 110, 95, 110, 95, 93, 200, 199, 207, 153, 147, 148, 129, 112, 111, 119, 102, 100, 144, 131, 127, 152, 145, 156, 188, 186, 198, 108, 92, 95, 99, 83, 78, 160, 140, 141, 176, 157, 168, 153, 134, 136, 218, 220, 233, 217, 219, 232, 209, 210, 222, 141, 114, 104, 212, 201, 202, 212, 206, 208, 184, 150, 123, 193, 164, 138, 202, 187, 180, 209, 207, 215, 200, 193, 196, 146, 111, 92, 141, 107, 88, 120, 97, 84, 86, 68, 60, 117, 87, 74, 163, 126, 95, 140, 103, 84, 139, 102, 78, 169, 141, 129, 218, 219, 228, 131, 123, 125, 104, 88, 81, 98, 83, 76, 122, 105, 97, 143, 138, 161, 209, 208, 226, 154, 141, 139, 99, 80, 73, 153, 127, 129, 156, 139, 144, 135, 116, 116, 219, 221, 234, 216, 218, 232, 204, 204, 219, 154, 126, 110, 213, 204, 206, 217, 214, 217, 170, 136, 110, 157, 118, 88, 170, 135, 108, 197, 174, 168, 170, 142, 125, 143, 103, 83, 122, 90, 75, 98, 76, 68, 68, 55, 55, 76, 59, 56, 118, 84, 71, 111, 79, 63, 107, 76, 63, 158, 121, 101, 196, 192, 200, 115, 101, 104, 106, 90, 83, 103, 87, 77, 128, 107, 97, 111, 97, 127, 206, 205, 220, 206, 209, 220, 157, 142, 127, 113, 91, 76, 121, 105, 101, 164, 149, 152, 220, 221, 234, 215, 218, 232, 208, 209, 223, 159, 136, 126, 213, 211, 218, 204, 202, 208, 140, 115, 102, 132, 104, 88, 148, 112, 93, 160, 124, 97, 136, 92, 70, 122, 86, 69, 97, 73, 60, 101, 74, 64, 84, 63, 60, 67, 53, 52, 82, 62, 57, 92, 71, 60, 82, 59, 53, 145, 116, 103, 125, 116, 120, 105, 91, 87, 92, 77, 76, 94, 76, 73, 119, 96, 84, 131, 113, 124, 207, 209, 223, 217, 219, 236, 157, 150, 150, 127, 115, 114, 138, 122, 119, 173, 160, 166, 219, 221, 234, 218, 223, 235, 173, 164, 171, 129, 109, 105, 219, 218, 228, 186, 179, 188, 102, 86, 85, 96, 82, 77, 108, 88, 76, 136, 106, 91, 129, 93, 74, 105, 73, 61, 79, 60, 55, 76, 57, 54, 73, 55, 54, 74, 55, 53, 71, 57, 55, 88, 70, 68, 84, 66, 63, 79, 66, 70, 76, 65, 70, 99, 87, 86, 67, 53, 55, 102, 84, 78, 118, 94, 83, 150, 132, 131, 211, 204, 220, 213, 184, 201, 202, 191, 208, 177, 176, 188, 146, 130, 133, 170, 157, 160, 219, 221, 233, 211, 210, 220, 116, 88, 81, 132, 117, 117, 226, 229, 238, 171, 156, 160, 104, 84, 77, 96, 80, 77, 95, 83, 77, 105, 87, 80, 119, 94, 77, 95, 70, 60, 72, 56, 54, 68, 54, 55, 75, 56, 53, 77, 60, 55, 78, 65, 63, 95, 79, 77, 79, 65, 65, 51, 40, 52, 84, 74, 81, 94, 83, 86, 74, 60, 60, 127, 109, 101, 125, 102, 92, 140, 120, 118, 207, 199, 211, 216, 198, 214, 195, 188, 197, 183, 180, 187, 146, 132, 139, 169, 153, 163, 222, 227, 240, 167, 132, 134, 121, 81, 62, 101, 85, 78, 172, 167, 178, 163, 155, 154, 127, 115, 110, 130, 116, 114, 125, 113, 112, 111, 95, 90, 117, 98, 88, 79, 63, 58, 63, 51, 52, 71, 56, 55, 88, 69, 62, 90, 72, 69, 90, 75, 73, 101, 87, 79, 70, 58, 61, 55, 45, 56, 109, 100, 107, 68, 56, 59, 86, 72, 72, 133, 116, 110, 130, 109, 101, 113, 94, 92, 210, 210, 217, 221, 228, 244, 177, 167, 158, 122, 107, 95, 140, 123, 124, 168, 151, 161, 201, 189, 197, 125, 74, 57, 137, 92, 70, 99, 73, 63, 69, 58, 67, 117, 113, 124, 138, 134, 143, 123, 113, 115, 124, 112, 112, 152, 136, 134, 114, 97, 90, 76, 60, 57, 64, 52, 54, 82, 68, 66, 96, 80, 73, 104, 90, 85, 77, 66, 65, 68, 56, 58, 65, 55, 62, 63, 53, 64, 83, 74, 81, 78, 66, 67, 117, 104, 103, 120, 105, 102, 90, 71, 67, 113, 97, 98, 222, 223, 233, 211, 207, 217, 150, 131, 121, 127, 101, 90, 145, 122, 128, 165, 147, 150, 149, 103, 96, 116, 73, 57, 133, 95, 73, 122, 85, 68, 65, 55, 58, 73, 68, 72, 122, 118, 130, 121, 114, 121, 107, 95, 98, 136, 121, 117, 102, 87, 81, 75, 59, 57, 77, 64, 66, 92, 79, 77, 87, 74, 70, 100, 89, 86, 79, 69, 66, 66, 50, 55, 51, 39, 48, 63, 53, 60, 89, 78, 82, 104, 92, 93, 94, 83, 81, 93, 80, 81, 127, 110, 113, 162, 149, 155, 199, 193, 203, 141, 122, 124, 104, 83, 79, 151, 126, 128, 168, 146, 155, 160, 140, 144, 118, 60, 49, 113, 84, 73, 131, 92, 70, 126, 97, 72, 90, 77, 71, 70, 62, 64, 74, 67, 71, 91, 85, 89, 87, 77, 78, 103, 90, 86, 78, 66, 65, 74, 61, 61, 88, 75, 76, 98, 85, 83, 93, 82, 83, 87, 76, 78, 87, 73, 70, 83, 64, 58, 52, 39, 44, 60, 49, 53, 81, 69, 71, 93, 80, 80, 117, 104, 102, 164, 150, 155, 188, 172, 179, 188, 174, 182, 171, 157, 162, 134, 117, 120, 143, 124, 126, 172, 153, 156, 169, 151, 157, 167, 147, 154, 100, 62, 57, 106, 83, 73, 111, 83, 67, 118, 97, 89, 167, 154, 161, 153, 145, 150, 118, 109, 114, 78, 69, 74, 87, 78, 80, 86, 76, 76, 77, 65, 65, 76, 62, 60, 87, 72, 71, 125, 112, 111, 158, 149, 153, 174, 164, 169, 158, 145, 152, 119, 105, 106, 75, 62, 65, 86, 75, 79, 131, 117, 121, 169, 155, 157, 174, 158, 161, 180, 164, 168, 182, 165, 170, 185, 169, 172, 189, 174, 177, 190, 174, 181, 186, 169, 179, 178, 159, 165, 174, 158, 161, 178, 161, 167, 90, 71, 67, 84, 66, 64, 92, 73, 70, 163, 145, 150, 187, 175, 181, 191, 181, 188, 191, 179, 189, 181, 170, 178, 174, 165, 171, 159, 148, 153, 128, 117, 121, 139, 128, 129, 163, 151, 155, 189, 177, 183, 191, 179, 185, 191, 178, 186, 193, 180, 191, 191, 180, 188, 171, 160, 163, 175, 162, 165, 187, 170, 174, 188, 171, 177, 185, 168, 174, 186, 170, 175, 186, 169, 175, 187, 171, 175, 186, 169, 174, 186, 170, 176, 185, 170, 177, 180, 161, 167, 176, 159, 163, 176, 159, 166, 75, 61, 60, 70, 60, 54, 138, 124, 124, 195, 182, 186, 195, 183, 184, 195, 183, 187, 191, 179, 184, 186, 174, 175, 189, 177, 179, 195, 184, 188, 194, 183, 188, 194, 182, 185, 196, 184, 190, 195, 183, 191, 195, 182, 189, 191, 179, 184, 189, 178, 184, 191, 179, 185, 193, 180, 183, 186, 169, 172, 183, 165, 169, 186, 168, 174, 190, 173, 179, 188, 172, 177, 188, 171, 176, 192, 175, 181, 193, 177, 182, 191, 175, 181, 188, 173, 179, 181, 163, 167, 181, 164, 168, 182, 165, 173, 65, 57, 56, 126, 114, 115, 191, 176, 178, 195, 183, 184, 201, 187, 193, 202, 188, 197, 200, 186, 192, 192, 175, 177, 189, 172, 176, 196, 181, 188, 193, 179, 185, 193, 178, 182, 195, 180, 187, 199, 186, 194, 197, 185, 191, 193, 182, 188, 191, 178, 183, 190, 175, 180, 190, 173, 177, 187, 168, 172, 182, 165, 168, 183, 165, 168, 184, 167, 170, 186, 170, 173, 184, 168, 172, 186, 170, 176, 188, 173, 179, 186, 171, 176, 185, 168, 173, 180, 161, 165, 184, 167, 171, 185, 168, 177, 87, 78, 82, 186, 171, 175, 202, 186, 189, 203, 192, 196, 201, 188, 194, 199, 184, 191, 200, 188, 192, 203, 191, 194, 195, 180, 184, 199, 185, 192, 199, 186, 193, 198, 186, 193, 200, 186, 192, 199, 187, 193, 199, 188, 192, 195, 183, 187, 193, 176, 181, 191, 173, 178, 192, 174, 180, 188, 171, 175, 184, 168, 171, 180, 163, 166, 182, 163, 165, 187, 171, 172, 187, 170, 172, 186, 169, 174, 185, 169, 176, 186, 170, 176, 185, 168, 174, 182, 163, 167, 187, 170, 177, 185, 169, 178, 150, 139, 143, 195, 180, 182, 196, 182, 181, 203, 190, 191, 204, 189, 193, 204, 186, 191, 195, 178, 179, 198, 185, 186, 198, 183, 187, 203, 189, 196, 202, 190, 196, 199, 188, 194, 202, 188, 195, 196, 183, 189, 197, 184, 188, 191, 177, 181, 193, 176, 182, 194, 180, 185, 195, 180, 186, 195, 180, 184, 192, 177, 181, 186, 168, 171, 183, 164, 166, 186, 169, 172, 190, 172, 175, 191, 173, 176, 186, 170, 175, 187, 170, 176, 185, 168, 174, 186, 167, 171, 189, 171, 178, 189, 173, 181, 190, 177, 181, 200, 183, 186, 202, 187, 188, 204, 189, 194, 203, 190, 195, 203, 190, 193, 199, 183, 182, 197, 182, 181, 203, 189, 192, 204, 191, 197, 199, 186, 191, 196, 182, 186, 203, 189, 195, 198, 183, 188, 196, 181, 185, 195, 179, 184, 196, 182, 186, 198, 186, 190, 199, 184, 190, 193, 178, 183, 190, 175, 178, 187, 169, 170, 190, 171, 173, 190, 174, 178, 190, 172, 176, 184, 167, 169, 185, 169, 174, 189, 172, 178, 186, 168, 174, 187, 168, 171, 185, 166, 171, 191, 173, 180, 200, 186, 189, 201, 185, 187, 201, 184, 188, 206, 191, 198, 204, 192, 197, 203, 191, 195, 199, 185, 185, 197, 180, 179, 202, 188, 191, 204, 191, 196, 202, 187, 190, 195, 180, 181, 198, 184, 190, 198, 183, 187, 199, 184, 186, 194, 179, 181, 192, 180, 181, 193, 178, 181, 193, 176, 181, 190, 172, 176, 184, 167, 169, 185, 167, 167, 187, 170, 170, 190, 175, 178, 191, 172, 177, 192, 174, 179, 193, 176, 182, 193, 176, 182, 186, 168, 174, 181, 162, 164, 177, 157, 160, 183, 164, 168, 204, 190, 194, 198, 182, 182, 195, 177, 175, 203, 188, 188, 203, 189, 191, 203, 186, 190, 201, 181, 184, 195, 177, 174, 203, 189, 191, 204, 191, 197, 202, 188, 191, 193, 178, 178, 192, 177, 181, 197, 182, 186, 199, 185, 187, 192, 176, 176, 184, 168, 168, 189, 171, 172, 188, 168, 170, 187, 168, 169, 185, 166, 166, 185, 166, 166, 186, 169, 169, 190, 173, 176, 192, 174, 179, 195, 179, 185, 195, 179, 186, 194, 178, 184, 187, 169, 175, 182, 163, 165, 177, 158, 160, 187, 169, 173, 206, 192, 195, 203, 187, 187, 195, 176, 172, 196, 175, 172, 198, 182, 180, 195, 178, 175, 193, 172, 169, 191, 171, 166, 198, 182, 181, 201, 187, 194, 199, 185, 190, 190, 173, 174, 190, 175, 175, 194, 179, 185, 193, 179, 182, 186, 168, 167, 187, 167, 167, 187, 167, 168, 187, 167, 169, 186, 166, 164, 186, 166, 165, 183, 163, 163, 188, 169, 169, 191, 172, 174, 193, 177, 183, 196, 182, 188, 193, 178, 185, 192, 176, 184, 187, 170, 176, 188, 170, 173, 192, 173, 177, 194, 178, 187], \"height\": 32, \"channels\": 3, \"width\": 32, \"type\": \"image\", \"id\": 4558290896}, {\"format\": \"raw\", \"value\": [228, 222, 236, 224, 213, 222, 212, 206, 207, 209, 202, 202, 210, 198, 199, 212, 199, 196, 203, 187, 181, 134, 116, 104, 137, 111, 87, 165, 132, 98, 170, 137, 99, 166, 132, 99, 181, 137, 124, 209, 189, 185, 199, 194, 195, 197, 188, 189, 199, 188, 186, 196, 186, 184, 193, 183, 181, 191, 181, 179, 185, 180, 176, 190, 171, 172, 173, 134, 142, 183, 148, 154, 179, 148, 152, 174, 139, 145, 174, 145, 149, 161, 141, 143, 159, 146, 143, 141, 129, 123, 87, 73, 71, 50, 43, 44, 233, 228, 241, 224, 213, 223, 215, 209, 211, 212, 205, 205, 212, 200, 201, 217, 204, 201, 182, 167, 161, 108, 90, 77, 145, 120, 94, 170, 137, 101, 176, 143, 103, 173, 143, 108, 162, 138, 114, 160, 150, 133, 186, 180, 172, 204, 192, 190, 200, 188, 187, 197, 187, 185, 194, 184, 182, 192, 182, 180, 188, 180, 177, 189, 173, 173, 193, 170, 172, 184, 170, 169, 178, 169, 167, 176, 162, 161, 171, 157, 156, 166, 151, 150, 162, 148, 147, 125, 113, 110, 58, 42, 40, 62, 52, 48, 234, 229, 242, 224, 213, 222, 218, 212, 213, 217, 210, 210, 216, 205, 205, 222, 208, 206, 186, 171, 165, 108, 90, 76, 148, 123, 94, 173, 141, 102, 184, 151, 108, 173, 146, 106, 150, 132, 101, 99, 88, 60, 104, 95, 77, 179, 166, 160, 205, 194, 191, 200, 190, 188, 197, 187, 185, 195, 185, 183, 193, 183, 181, 191, 179, 177, 188, 175, 174, 182, 175, 172, 176, 174, 169, 172, 167, 163, 171, 162, 159, 167, 156, 154, 164, 151, 150, 144, 134, 132, 82, 65, 61, 99, 85, 73, 237, 231, 245, 226, 215, 224, 220, 214, 215, 221, 214, 214, 220, 208, 209, 225, 211, 209, 178, 162, 157, 97, 79, 65, 147, 123, 92, 175, 143, 102, 188, 155, 109, 164, 136, 95, 145, 120, 89, 132, 112, 77, 72, 58, 32, 95, 84, 73, 173, 163, 160, 206, 195, 194, 200, 190, 188, 198, 189, 187, 196, 186, 184, 193, 182, 180, 188, 178, 176, 187, 176, 174, 184, 173, 171, 179, 169, 166, 175, 164, 162, 170, 160, 157, 164, 154, 153, 161, 151, 152, 107, 90, 85, 112, 97, 79, 242, 238, 250, 231, 221, 230, 227, 220, 222, 224, 216, 216, 222, 212, 212, 223, 212, 210, 132, 118, 112, 87, 69, 52, 152, 128, 95, 175, 145, 103, 186, 156, 109, 178, 151, 106, 172, 142, 108, 166, 138, 105, 118, 98, 68, 66, 52, 37, 99, 89, 80, 191, 181, 174, 205, 196, 191, 201, 191, 189, 199, 189, 187, 195, 185, 184, 191, 181, 180, 191, 176, 176, 190, 173, 174, 186, 170, 171, 179, 166, 167, 173, 163, 161, 166, 158, 156, 166, 156, 157, 110, 92, 86, 118, 101, 80, 242, 239, 249, 232, 227, 234, 232, 224, 229, 227, 216, 216, 223, 215, 214, 215, 211, 208, 108, 99, 89, 103, 84, 62, 155, 130, 97, 166, 140, 103, 175, 149, 107, 173, 148, 103, 156, 131, 98, 141, 116, 93, 138, 115, 84, 96, 74, 53, 72, 59, 40, 150, 140, 122, 210, 198, 189, 203, 191, 188, 201, 188, 187, 198, 185, 185, 195, 183, 182, 193, 180, 180, 189, 175, 177, 183, 171, 175, 178, 168, 169, 174, 164, 163, 169, 159, 159, 170, 157, 157, 111, 91, 84, 112, 94, 73, 239, 237, 248, 230, 225, 233, 233, 224, 231, 227, 217, 217, 224, 217, 215, 206, 201, 196, 94, 83, 70, 118, 98, 73, 150, 125, 92, 148, 124, 92, 138, 113, 83, 117, 93, 63, 83, 63, 40, 73, 53, 37, 98, 79, 47, 92, 73, 47, 111, 97, 76, 143, 131, 112, 190, 177, 166, 205, 192, 187, 202, 188, 184, 201, 187, 182, 195, 181, 177, 183, 170, 165, 184, 171, 168, 184, 173, 172, 178, 166, 166, 175, 163, 163, 171, 159, 159, 171, 157, 158, 114, 93, 86, 110, 92, 71, 238, 235, 248, 221, 215, 226, 223, 214, 223, 227, 217, 219, 224, 218, 215, 202, 196, 190, 97, 81, 65, 130, 107, 79, 150, 126, 94, 148, 124, 97, 132, 107, 86, 94, 71, 52, 72, 55, 38, 69, 52, 38, 98, 85, 50, 111, 97, 66, 155, 142, 121, 150, 136, 118, 123, 108, 94, 141, 127, 116, 141, 126, 116, 138, 124, 113, 123, 108, 97, 107, 93, 82, 136, 122, 112, 167, 154, 146, 179, 166, 159, 176, 163, 160, 172, 159, 159, 171, 157, 157, 115, 95, 87, 111, 93, 71, 233, 230, 246, 214, 208, 221, 214, 205, 217, 228, 218, 222, 224, 218, 215, 203, 194, 186, 107, 86, 66, 135, 109, 79, 149, 127, 97, 140, 118, 91, 135, 112, 91, 99, 78, 55, 86, 68, 45, 89, 71, 53, 124, 109, 71, 138, 122, 90, 173, 157, 137, 148, 132, 114, 78, 61, 44, 62, 45, 29, 71, 54, 37, 82, 65, 47, 72, 55, 37, 72, 55, 37, 84, 69, 51, 112, 99, 82, 163, 149, 137, 176, 161, 156, 172, 158, 157, 169, 155, 156, 116, 95, 88, 113, 94, 73, 225, 221, 240, 213, 207, 222, 210, 200, 214, 226, 217, 222, 224, 218, 216, 196, 185, 176, 130, 106, 82, 118, 90, 59, 124, 104, 76, 123, 104, 74, 130, 111, 79, 116, 97, 60, 110, 89, 52, 118, 95, 68, 136, 115, 75, 150, 128, 98, 163, 143, 126, 132, 114, 96, 77, 59, 40, 66, 48, 28, 85, 67, 44, 86, 69, 45, 85, 68, 44, 95, 78, 54, 94, 78, 54, 86, 72, 49, 100, 85, 69, 141, 124, 117, 169, 153, 152, 168, 154, 154, 113, 92, 85, 111, 93, 71, 220, 217, 236, 207, 203, 218, 203, 197, 211, 220, 216, 222, 222, 217, 214, 173, 157, 143, 146, 115, 85, 135, 100, 67, 105, 80, 56, 110, 90, 67, 118, 102, 74, 125, 108, 71, 131, 109, 73, 132, 109, 85, 140, 120, 87, 167, 149, 111, 158, 141, 111, 123, 105, 80, 76, 58, 37, 84, 65, 47, 102, 83, 60, 91, 72, 46, 91, 73, 46, 112, 94, 67, 97, 81, 55, 80, 67, 43, 76, 62, 43, 92, 78, 63, 141, 126, 116, 174, 154, 152, 113, 90, 84, 105, 88, 67, 210, 207, 225, 199, 197, 211, 200, 198, 209, 215, 215, 221, 214, 209, 204, 156, 136, 115, 151, 116, 79, 152, 112, 76, 102, 71, 49, 109, 90, 73, 119, 105, 86, 116, 99, 72, 132, 113, 85, 122, 102, 87, 133, 117, 93, 162, 150, 104, 174, 160, 118, 129, 112, 81, 82, 64, 41, 92, 73, 58, 102, 82, 61, 98, 77, 50, 105, 85, 58, 114, 93, 66, 101, 84, 59, 75, 62, 39, 80, 67, 44, 87, 74, 51, 111, 96, 76, 171, 146, 140, 115, 93, 87, 104, 87, 66, 206, 204, 220, 211, 209, 221, 209, 208, 217, 219, 217, 219, 214, 205, 197, 151, 129, 107, 155, 121, 84, 152, 114, 77, 88, 60, 36, 105, 88, 70, 137, 124, 107, 150, 135, 111, 129, 114, 89, 123, 106, 89, 137, 121, 97, 138, 124, 83, 140, 125, 87, 114, 97, 67, 86, 68, 44, 94, 76, 58, 97, 77, 54, 102, 82, 54, 114, 94, 67, 123, 103, 76, 103, 85, 59, 87, 72, 48, 97, 82, 58, 107, 92, 68, 105, 88, 67, 148, 126, 117, 117, 96, 88, 104, 89, 69, 207, 205, 218, 215, 213, 222, 224, 223, 230, 227, 221, 220, 181, 167, 155, 142, 118, 94, 160, 125, 89, 160, 124, 86, 94, 69, 40, 99, 85, 65, 165, 155, 139, 187, 175, 156, 161, 152, 130, 132, 120, 101, 156, 141, 115, 158, 142, 107, 129, 112, 80, 97, 80, 52, 98, 81, 56, 99, 81, 58, 93, 74, 49, 101, 81, 54, 127, 108, 81, 130, 110, 83, 119, 100, 73, 122, 105, 79, 122, 105, 80, 127, 110, 84, 109, 91, 68, 118, 100, 85, 108, 91, 79, 103, 91, 72, 200, 199, 210, 203, 202, 209, 204, 203, 207, 204, 194, 189, 134, 115, 99, 136, 110, 84, 164, 129, 93, 163, 129, 89, 113, 91, 57, 86, 75, 53, 162, 154, 139, 197, 187, 171, 196, 192, 172, 193, 186, 164, 194, 180, 153, 158, 140, 109, 121, 103, 75, 93, 76, 50, 106, 89, 63, 106, 89, 63, 104, 85, 58, 113, 93, 66, 128, 108, 81, 119, 99, 72, 122, 102, 75, 138, 118, 90, 145, 125, 97, 134, 114, 86, 121, 102, 75, 97, 81, 62, 82, 67, 53, 105, 95, 76, 188, 186, 195, 193, 191, 197, 191, 190, 193, 172, 160, 152, 123, 101, 83, 136, 108, 82, 162, 128, 93, 157, 126, 86, 131, 112, 76, 77, 68, 45, 101, 93, 80, 184, 176, 164, 203, 201, 184, 214, 209, 185, 208, 195, 167, 175, 157, 130, 102, 83, 59, 89, 72, 48, 105, 88, 62, 107, 90, 62, 119, 100, 72, 123, 103, 76, 123, 103, 76, 106, 86, 59, 117, 97, 69, 142, 121, 92, 150, 130, 101, 125, 105, 76, 113, 93, 66, 91, 76, 55, 75, 63, 48, 107, 99, 81, 200, 194, 199, 198, 192, 196, 210, 204, 208, 160, 144, 138, 122, 99, 82, 136, 111, 86, 157, 128, 96, 144, 120, 85, 115, 102, 73, 90, 78, 60, 60, 48, 41, 81, 69, 64, 127, 120, 102, 173, 165, 142, 155, 145, 118, 122, 110, 82, 100, 85, 59, 93, 78, 52, 98, 83, 56, 101, 86, 59, 125, 109, 78, 136, 119, 86, 126, 109, 79, 115, 97, 70, 124, 106, 78, 129, 111, 81, 139, 123, 94, 114, 99, 72, 94, 81, 56, 91, 78, 59, 86, 76, 59, 99, 92, 76, 212, 203, 206, 209, 199, 203, 218, 209, 212, 167, 154, 151, 113, 96, 84, 118, 100, 82, 133, 112, 87, 117, 100, 75, 100, 88, 69, 97, 85, 70, 78, 65, 56, 87, 73, 65, 131, 118, 97, 149, 136, 111, 126, 113, 85, 117, 104, 74, 113, 100, 72, 88, 75, 49, 94, 81, 54, 107, 94, 67, 133, 119, 87, 149, 133, 100, 127, 111, 81, 113, 97, 71, 123, 106, 79, 122, 106, 76, 127, 113, 85, 109, 98, 72, 82, 72, 49, 89, 77, 60, 91, 82, 65, 95, 89, 75, 214, 205, 206, 210, 201, 202, 189, 180, 181, 143, 137, 134, 105, 98, 90, 104, 95, 83, 103, 91, 75, 103, 90, 76, 101, 90, 81, 100, 90, 76, 91, 82, 64, 130, 119, 99, 158, 141, 117, 165, 149, 122, 151, 134, 104, 138, 122, 90, 98, 86, 59, 72, 62, 36, 93, 82, 56, 117, 106, 81, 134, 122, 91, 150, 136, 104, 120, 106, 77, 112, 97, 72, 124, 109, 83, 127, 112, 84, 128, 116, 89, 123, 114, 90, 91, 84, 63, 83, 74, 57, 92, 85, 70, 93, 89, 77, 190, 182, 180, 156, 148, 146, 127, 119, 117, 111, 108, 103, 109, 107, 100, 108, 104, 95, 113, 105, 96, 112, 103, 96, 107, 99, 91, 107, 100, 86, 90, 84, 64, 97, 90, 66, 117, 104, 81, 123, 109, 84, 130, 117, 88, 119, 106, 76, 91, 80, 54, 84, 75, 51, 98, 89, 65, 111, 101, 77, 130, 120, 91, 138, 127, 97, 111, 100, 73, 116, 104, 82, 125, 112, 88, 123, 111, 84, 134, 124, 100, 118, 112, 90, 102, 96, 77, 88, 82, 66, 91, 86, 73, 91, 88, 78, 124, 117, 112, 116, 108, 104, 117, 109, 105, 120, 116, 107, 118, 116, 105, 122, 115, 106, 125, 115, 108, 125, 116, 108, 120, 115, 104, 116, 112, 97, 101, 98, 79, 89, 85, 65, 105, 98, 80, 111, 104, 84, 111, 105, 82, 105, 99, 73, 109, 102, 79, 112, 105, 82, 120, 113, 90, 123, 116, 93, 126, 118, 91, 131, 122, 93, 123, 113, 88, 127, 117, 96, 144, 133, 111, 123, 112, 87, 114, 106, 84, 100, 96, 75, 94, 90, 72, 97, 92, 78, 94, 91, 80, 91, 91, 83, 115, 108, 104, 122, 116, 111, 124, 118, 112, 121, 116, 106, 123, 118, 106, 131, 122, 113, 133, 122, 115, 137, 129, 119, 137, 133, 118, 135, 131, 116, 132, 129, 113, 132, 129, 114, 135, 132, 118, 137, 134, 119, 139, 137, 118, 137, 135, 114, 135, 130, 109, 135, 129, 108, 137, 131, 110, 135, 129, 108, 135, 129, 105, 134, 127, 102, 127, 119, 97, 140, 132, 113, 142, 133, 114, 102, 95, 73, 94, 89, 69, 95, 92, 73, 103, 100, 84, 104, 100, 89, 100, 97, 88, 97, 97, 90, 126, 121, 121, 124, 120, 116, 123, 119, 113, 123, 118, 110, 129, 122, 113, 134, 127, 118, 135, 128, 120, 140, 133, 123, 139, 133, 120, 139, 133, 120, 140, 134, 122, 139, 133, 120, 142, 137, 121, 140, 135, 119, 138, 133, 116, 138, 133, 116, 139, 134, 114, 140, 135, 115, 140, 135, 115, 134, 129, 109, 141, 136, 117, 138, 132, 115, 134, 128, 111, 134, 128, 111, 122, 117, 101, 99, 96, 81, 96, 93, 78, 99, 97, 82, 109, 106, 94, 107, 104, 98, 102, 99, 94, 103, 100, 95, 131, 127, 127, 128, 124, 121, 124, 122, 115, 130, 125, 117, 136, 129, 121, 129, 122, 114, 130, 123, 115, 138, 131, 122, 137, 131, 119, 134, 128, 116, 134, 128, 116, 146, 140, 127, 149, 143, 127, 149, 143, 127, 142, 136, 120, 135, 129, 113, 140, 135, 117, 143, 138, 119, 144, 139, 120, 143, 138, 119, 144, 138, 122, 133, 127, 113, 132, 126, 112, 136, 130, 116, 125, 121, 107, 120, 118, 105, 124, 122, 109, 121, 119, 106, 115, 113, 101, 112, 109, 104, 110, 107, 102, 107, 104, 99, 133, 129, 130, 133, 129, 126, 130, 127, 121, 124, 118, 111, 131, 124, 116, 132, 125, 117, 132, 124, 117, 135, 128, 119, 141, 135, 123, 150, 144, 132, 148, 142, 130, 153, 147, 135, 151, 145, 130, 150, 144, 128, 147, 141, 125, 147, 141, 125, 142, 136, 120, 139, 134, 118, 143, 137, 122, 148, 142, 126, 146, 140, 126, 134, 128, 115, 124, 118, 106, 126, 120, 107, 127, 123, 111, 127, 124, 113, 127, 125, 114, 125, 123, 112, 125, 122, 112, 120, 117, 111, 121, 118, 113, 118, 115, 110, 136, 132, 132, 137, 133, 130, 129, 126, 120, 124, 118, 111, 132, 125, 116, 135, 128, 120, 138, 131, 123, 139, 132, 122, 145, 138, 127, 152, 146, 134, 146, 140, 128, 142, 136, 123, 140, 134, 119, 136, 130, 114, 140, 134, 118, 139, 133, 118, 133, 127, 114, 130, 124, 111, 133, 127, 114, 139, 134, 121, 139, 133, 122, 134, 127, 117, 133, 127, 116, 134, 127, 116, 132, 127, 118, 135, 132, 124, 134, 131, 124, 136, 133, 125, 130, 127, 119, 123, 120, 115, 122, 119, 114, 119, 116, 111, 130, 126, 127, 143, 139, 136, 136, 133, 127, 135, 130, 122, 137, 130, 122, 142, 135, 127, 145, 138, 130, 143, 137, 127, 138, 132, 120, 136, 130, 118, 133, 127, 115, 134, 128, 115, 134, 128, 112, 130, 124, 108, 128, 122, 107, 129, 123, 108, 127, 121, 109, 132, 125, 114, 133, 127, 116, 134, 128, 116, 140, 133, 124, 140, 133, 124, 140, 133, 124, 134, 127, 119, 134, 128, 121, 138, 135, 129, 138, 135, 129, 140, 137, 131, 131, 128, 122, 130, 127, 122, 129, 126, 121, 117, 115, 110, 116, 114, 112, 142, 140, 136, 146, 145, 140, 141, 137, 129, 149, 142, 133, 147, 140, 131, 143, 135, 126, 138, 130, 121, 134, 128, 117, 130, 123, 112, 130, 124, 113, 130, 124, 113, 131, 127, 114, 132, 128, 115, 136, 132, 118, 133, 129, 115, 134, 130, 118, 135, 131, 120, 137, 133, 122, 140, 136, 125, 147, 142, 133, 142, 137, 130, 135, 130, 123, 137, 132, 125, 137, 133, 126, 136, 133, 126, 136, 133, 126, 133, 130, 123, 127, 125, 118, 126, 127, 122, 132, 133, 129, 130, 131, 126, 107, 108, 103, 127, 128, 123, 138, 139, 135, 141, 137, 130, 143, 137, 127, 134, 128, 118, 132, 125, 115, 131, 124, 114, 134, 128, 118, 137, 130, 121, 141, 135, 125, 134, 128, 118, 135, 132, 121, 148, 146, 134, 142, 140, 128, 139, 137, 126, 150, 148, 137, 154, 152, 140, 150, 148, 136, 151, 148, 137, 152, 149, 141, 146, 143, 137, 136, 133, 127, 133, 130, 123, 136, 133, 126, 138, 135, 128, 137, 135, 127, 137, 134, 127, 140, 139, 133, 138, 141, 140, 142, 146, 145, 139, 143, 143, 108, 108, 107, 119, 119, 117, 125, 125, 123, 134, 132, 126, 134, 130, 122, 131, 127, 119, 132, 128, 120, 133, 129, 121, 139, 135, 126, 145, 141, 133, 148, 144, 136, 146, 142, 134, 152, 149, 140, 156, 153, 144, 150, 148, 139, 151, 148, 139, 155, 152, 143, 158, 155, 147, 155, 152, 144, 151, 149, 140, 146, 143, 137, 144, 141, 137, 141, 138, 133, 142, 138, 134, 144, 142, 137, 147, 146, 142, 143, 143, 138, 139, 139, 134, 146, 146, 144, 146, 149, 154, 144, 147, 153, 134, 137, 143, 119, 119, 119, 122, 122, 122, 124, 124, 124, 137, 136, 133, 135, 133, 127, 138, 137, 131, 142, 141, 135, 144, 142, 137, 146, 144, 138, 139, 138, 132, 147, 146, 140, 151, 149, 143, 156, 153, 147, 153, 150, 144, 151, 148, 143, 151, 148, 143, 151, 148, 142, 149, 145, 140, 146, 143, 137, 146, 143, 137, 149, 145, 142, 148, 144, 143, 146, 142, 140, 153, 149, 147, 150, 148, 147, 147, 147, 148, 140, 140, 141, 136, 136, 137, 151, 151, 154, 147, 149, 158, 130, 133, 142, 110, 113, 122, 130, 129, 132, 130, 129, 132, 125, 125, 127, 138, 138, 136, 136, 136, 132, 141, 142, 138, 150, 151, 147, 156, 156, 152, 158, 158, 154, 143, 143, 139, 136, 136, 132, 144, 143, 140, 148, 144, 141, 152, 148, 145, 161, 158, 155, 170, 166, 163, 168, 164, 161, 159, 156, 153, 158, 154, 152, 157, 153, 151, 158, 154, 154, 164, 160, 161, 153, 149, 149, 144, 140, 140, 139, 137, 140, 133, 134, 139, 126, 127, 132, 128, 129, 134, 138, 140, 145, 103, 107, 111, 60, 63, 67, 43, 47, 51], \"height\": 32, \"channels\": 3, \"width\": 32, \"type\": \"image\", \"id\": 4558290832}, {\"format\": \"raw\", \"value\": [217, 220, 205, 221, 227, 218, 195, 209, 205, 156, 176, 170, 150, 163, 149, 128, 138, 125, 124, 129, 121, 164, 165, 157, 228, 228, 224, 235, 239, 239, 214, 225, 223, 176, 196, 195, 196, 223, 228, 204, 228, 240, 216, 229, 237, 217, 217, 215, 235, 232, 228, 236, 239, 238, 236, 237, 239, 234, 236, 241, 216, 227, 234, 193, 214, 223, 182, 209, 218, 180, 209, 213, 189, 223, 229, 200, 233, 242, 212, 235, 238, 224, 236, 232, 227, 231, 230, 226, 230, 229, 226, 230, 229, 222, 227, 226, 222, 235, 221, 228, 241, 232, 188, 206, 204, 133, 155, 150, 140, 155, 131, 128, 136, 123, 148, 151, 151, 136, 140, 134, 188, 191, 186, 234, 237, 240, 211, 220, 220, 146, 162, 160, 181, 203, 202, 203, 220, 224, 170, 179, 182, 162, 164, 161, 233, 232, 227, 245, 246, 244, 242, 242, 246, 238, 242, 249, 227, 240, 250, 213, 236, 250, 202, 231, 247, 199, 230, 241, 203, 236, 247, 209, 239, 251, 220, 240, 246, 228, 238, 239, 230, 234, 233, 229, 233, 232, 229, 233, 232, 227, 231, 230, 207, 220, 198, 221, 233, 216, 187, 201, 196, 129, 148, 143, 111, 129, 106, 121, 130, 120, 145, 146, 150, 120, 125, 120, 109, 115, 108, 143, 146, 150, 145, 151, 152, 121, 131, 129, 129, 143, 138, 131, 140, 136, 130, 136, 135, 151, 159, 159, 221, 229, 230, 231, 239, 241, 231, 239, 240, 229, 241, 243, 223, 243, 249, 214, 243, 253, 206, 238, 250, 210, 236, 247, 217, 240, 250, 220, 239, 247, 228, 236, 240, 233, 236, 235, 231, 235, 234, 230, 234, 233, 229, 233, 232, 228, 232, 231, 166, 178, 147, 185, 198, 176, 179, 194, 189, 133, 155, 160, 124, 146, 140, 126, 137, 132, 118, 119, 117, 109, 112, 106, 76, 82, 75, 73, 77, 75, 76, 80, 81, 73, 78, 77, 75, 80, 75, 105, 107, 98, 151, 156, 152, 159, 176, 183, 163, 188, 200, 168, 193, 205, 175, 199, 204, 180, 206, 210, 183, 212, 219, 183, 217, 225, 177, 212, 221, 169, 195, 206, 180, 200, 209, 192, 204, 209, 209, 213, 213, 231, 230, 228, 231, 235, 234, 229, 233, 232, 229, 233, 232, 228, 232, 231, 132, 151, 120, 134, 156, 137, 146, 174, 176, 162, 195, 214, 175, 203, 219, 136, 149, 151, 111, 112, 103, 114, 113, 104, 84, 88, 80, 62, 67, 59, 77, 79, 78, 72, 73, 74, 73, 72, 69, 119, 116, 106, 154, 160, 157, 157, 185, 198, 148, 189, 213, 146, 188, 212, 149, 188, 208, 153, 190, 208, 155, 191, 209, 158, 193, 211, 159, 194, 212, 152, 187, 204, 159, 186, 200, 181, 199, 207, 200, 210, 214, 223, 229, 230, 231, 236, 235, 229, 233, 232, 228, 232, 231, 227, 231, 230, 119, 143, 123, 127, 159, 156, 159, 199, 213, 173, 218, 241, 160, 193, 213, 103, 117, 119, 88, 89, 82, 98, 95, 92, 88, 85, 81, 70, 72, 64, 80, 80, 75, 81, 79, 76, 84, 82, 78, 129, 126, 116, 152, 158, 155, 147, 172, 188, 126, 163, 188, 111, 147, 169, 104, 137, 155, 99, 129, 147, 98, 125, 146, 102, 127, 150, 122, 146, 170, 141, 172, 189, 142, 168, 179, 153, 173, 178, 190, 213, 218, 209, 231, 235, 219, 229, 227, 227, 235, 231, 226, 233, 229, 225, 230, 227, 139, 168, 168, 169, 208, 227, 165, 213, 238, 151, 200, 224, 129, 163, 175, 91, 102, 100, 89, 91, 88, 95, 94, 95, 89, 83, 81, 80, 79, 73, 76, 74, 67, 83, 81, 74, 99, 99, 93, 113, 113, 102, 121, 127, 123, 100, 117, 130, 63, 84, 101, 58, 77, 87, 68, 85, 91, 48, 65, 73, 38, 53, 65, 41, 54, 70, 41, 55, 73, 63, 81, 91, 88, 102, 104, 81, 94, 94, 97, 122, 127, 182, 211, 217, 214, 232, 233, 212, 227, 225, 222, 234, 229, 222, 231, 224, 168, 206, 226, 158, 202, 232, 141, 188, 220, 138, 184, 210, 117, 145, 155, 95, 102, 97, 92, 95, 87, 104, 107, 101, 96, 95, 86, 87, 86, 80, 66, 65, 60, 80, 79, 73, 100, 99, 93, 113, 112, 102, 116, 121, 115, 69, 81, 88, 16, 29, 38, 32, 40, 42, 50, 61, 63, 53, 66, 72, 42, 55, 60, 40, 53, 59, 30, 43, 50, 27, 38, 43, 56, 61, 62, 77, 82, 80, 57, 71, 75, 87, 109, 117, 184, 207, 217, 208, 228, 233, 208, 225, 224, 216, 229, 222, 153, 201, 228, 135, 185, 215, 128, 178, 204, 124, 168, 190, 99, 121, 130, 89, 92, 85, 105, 108, 98, 103, 111, 100, 95, 97, 84, 101, 98, 90, 100, 100, 96, 102, 102, 98, 104, 101, 94, 122, 121, 109, 122, 126, 117, 85, 91, 91, 15, 20, 19, 56, 56, 50, 56, 60, 58, 47, 55, 56, 49, 58, 57, 57, 68, 65, 42, 53, 50, 19, 23, 23, 30, 29, 28, 53, 53, 50, 59, 63, 65, 47, 59, 68, 94, 118, 134, 185, 210, 222, 208, 231, 235, 191, 209, 206, 135, 189, 213, 122, 177, 200, 119, 171, 193, 115, 158, 178, 100, 119, 128, 108, 109, 102, 103, 104, 94, 92, 98, 88, 94, 94, 80, 112, 108, 99, 162, 164, 161, 132, 134, 131, 99, 95, 88, 122, 120, 107, 118, 121, 109, 76, 77, 71, 20, 19, 14, 69, 66, 56, 80, 80, 74, 60, 63, 60, 45, 50, 46, 54, 63, 56, 58, 68, 61, 30, 32, 28, 21, 20, 17, 29, 29, 27, 39, 39, 40, 54, 59, 66, 43, 62, 74, 121, 148, 162, 202, 231, 241, 199, 222, 225, 128, 182, 207, 113, 168, 193, 108, 161, 190, 102, 146, 176, 98, 119, 131, 108, 109, 103, 98, 97, 90, 83, 86, 79, 98, 94, 83, 107, 102, 93, 200, 204, 201, 151, 156, 154, 103, 99, 91, 108, 104, 89, 116, 117, 102, 72, 71, 62, 22, 22, 14, 48, 48, 38, 79, 76, 68, 64, 62, 55, 48, 50, 45, 32, 38, 34, 48, 57, 53, 52, 58, 53, 28, 33, 30, 21, 26, 26, 26, 28, 31, 43, 45, 47, 36, 47, 49, 89, 113, 124, 180, 211, 227, 210, 237, 250, 123, 173, 204, 112, 162, 195, 108, 155, 194, 104, 144, 184, 115, 136, 153, 104, 108, 108, 127, 126, 121, 133, 133, 127, 123, 117, 106, 118, 113, 103, 207, 209, 209, 202, 205, 207, 137, 135, 130, 112, 110, 96, 118, 116, 102, 72, 71, 61, 24, 25, 18, 34, 36, 29, 70, 67, 57, 68, 63, 53, 54, 54, 46, 34, 38, 35, 30, 37, 37, 55, 62, 59, 50, 58, 56, 23, 30, 31, 23, 28, 30, 29, 32, 31, 47, 52, 48, 96, 115, 122, 149, 178, 194, 194, 224, 242, 95, 138, 170, 89, 130, 162, 89, 126, 161, 87, 119, 154, 110, 132, 153, 129, 139, 148, 142, 143, 140, 168, 167, 157, 136, 132, 119, 135, 131, 122, 156, 154, 157, 224, 224, 231, 200, 203, 203, 130, 130, 122, 106, 103, 93, 63, 62, 53, 28, 29, 22, 32, 33, 27, 70, 65, 55, 78, 72, 60, 55, 55, 43, 39, 42, 35, 24, 29, 28, 39, 45, 43, 66, 72, 70, 30, 35, 34, 24, 30, 29, 24, 29, 26, 54, 60, 56, 100, 113, 117, 113, 136, 148, 180, 208, 228, 46, 83, 107, 35, 69, 93, 36, 65, 90, 30, 58, 84, 64, 89, 113, 159, 175, 188, 153, 160, 161, 166, 168, 161, 150, 151, 142, 147, 147, 142, 122, 123, 129, 211, 213, 222, 220, 225, 227, 142, 144, 138, 105, 101, 94, 71, 70, 64, 41, 42, 36, 29, 29, 24, 62, 58, 50, 90, 85, 72, 68, 67, 55, 48, 51, 43, 31, 35, 34, 27, 31, 30, 67, 70, 69, 41, 45, 43, 21, 25, 24, 23, 27, 25, 62, 68, 65, 74, 86, 88, 80, 99, 110, 123, 148, 166, 123, 160, 181, 99, 134, 155, 82, 116, 137, 71, 105, 128, 94, 125, 151, 176, 198, 216, 193, 206, 212, 182, 190, 190, 172, 179, 178, 135, 142, 143, 134, 140, 147, 195, 201, 209, 199, 205, 207, 135, 135, 131, 92, 89, 82, 80, 78, 73, 54, 54, 50, 30, 30, 26, 40, 37, 31, 85, 81, 71, 91, 90, 78, 70, 71, 64, 43, 45, 43, 21, 23, 21, 52, 55, 52, 56, 58, 56, 26, 28, 26, 34, 38, 35, 57, 65, 62, 51, 62, 64, 71, 87, 95, 74, 94, 107, 166, 206, 231, 154, 193, 218, 140, 181, 205, 117, 158, 183, 125, 160, 187, 171, 197, 217, 214, 229, 240, 204, 216, 221, 194, 206, 209, 173, 185, 190, 166, 176, 182, 175, 181, 185, 142, 146, 145, 104, 103, 99, 79, 76, 71, 71, 69, 65, 56, 55, 53, 38, 37, 36, 32, 29, 27, 57, 55, 48, 96, 95, 86, 95, 95, 89, 59, 59, 57, 24, 25, 22, 40, 41, 38, 58, 60, 56, 37, 39, 35, 48, 52, 49, 45, 54, 52, 42, 53, 54, 64, 76, 81, 85, 98, 106, 134, 167, 192, 140, 175, 199, 144, 181, 204, 138, 177, 201, 143, 180, 205, 168, 196, 214, 215, 232, 242, 218, 230, 238, 210, 223, 230, 202, 216, 223, 189, 200, 203, 126, 131, 129, 87, 86, 81, 86, 82, 77, 79, 75, 72, 68, 67, 64, 53, 53, 51, 38, 38, 38, 34, 33, 33, 32, 31, 26, 57, 57, 49, 96, 94, 89, 83, 82, 79, 34, 35, 30, 29, 30, 25, 49, 50, 45, 51, 52, 47, 72, 76, 72, 47, 57, 57, 51, 61, 62, 71, 80, 83, 100, 108, 112, 113, 134, 154, 110, 133, 152, 115, 139, 156, 134, 161, 179, 129, 163, 187, 141, 168, 186, 198, 215, 225, 224, 236, 245, 221, 233, 242, 214, 228, 235, 141, 149, 150, 64, 65, 60, 69, 65, 56, 79, 74, 68, 81, 77, 74, 73, 71, 69, 54, 53, 53, 36, 36, 37, 39, 39, 41, 41, 41, 38, 30, 29, 23, 64, 61, 56, 94, 91, 88, 54, 55, 50, 28, 29, 24, 40, 41, 36, 67, 68, 62, 108, 111, 107, 68, 78, 79, 53, 63, 63, 78, 85, 85, 115, 119, 120, 178, 205, 226, 158, 182, 201, 137, 148, 158, 183, 190, 198, 171, 199, 223, 166, 193, 211, 178, 196, 206, 217, 232, 244, 220, 231, 244, 179, 185, 193, 95, 96, 96, 73, 70, 64, 71, 69, 59, 73, 72, 65, 78, 77, 75, 78, 77, 77, 52, 52, 52, 33, 33, 36, 35, 36, 41, 49, 50, 54, 33, 32, 31, 48, 45, 41, 77, 73, 69, 74, 73, 72, 43, 43, 41, 39, 39, 35, 74, 74, 68, 131, 135, 130, 95, 107, 107, 39, 48, 44, 49, 55, 50, 109, 115, 111, 187, 221, 246, 179, 210, 233, 171, 188, 202, 192, 201, 211, 181, 206, 228, 180, 202, 218, 166, 182, 189, 207, 220, 231, 203, 212, 224, 126, 130, 134, 97, 96, 93, 73, 71, 63, 55, 55, 46, 53, 54, 48, 58, 58, 56, 58, 58, 58, 27, 27, 28, 37, 37, 40, 42, 44, 48, 35, 38, 41, 36, 36, 35, 50, 48, 44, 69, 67, 60, 80, 80, 78, 65, 65, 64, 44, 44, 40, 80, 81, 74, 117, 121, 115, 105, 114, 112, 66, 72, 67, 47, 52, 47, 101, 110, 107, 168, 209, 233, 163, 203, 230, 167, 199, 222, 167, 193, 212, 178, 202, 222, 176, 193, 204, 138, 147, 152, 171, 179, 186, 189, 198, 203, 109, 115, 112, 78, 79, 71, 60, 59, 50, 70, 71, 63, 62, 63, 58, 35, 36, 33, 51, 52, 51, 33, 34, 35, 44, 44, 47, 50, 52, 53, 42, 45, 43, 40, 41, 37, 52, 53, 47, 68, 69, 61, 82, 84, 81, 82, 85, 81, 39, 41, 36, 50, 52, 46, 51, 54, 49, 49, 51, 48, 45, 47, 43, 28, 34, 33, 70, 83, 88, 153, 197, 225, 146, 191, 222, 146, 189, 221, 151, 188, 217, 199, 223, 240, 207, 218, 226, 136, 138, 141, 90, 94, 98, 147, 156, 159, 109, 118, 112, 78, 80, 71, 127, 127, 118, 166, 168, 162, 130, 133, 128, 45, 47, 44, 49, 51, 50, 58, 60, 60, 36, 37, 39, 50, 51, 51, 40, 42, 39, 32, 35, 31, 58, 62, 56, 71, 75, 69, 70, 75, 72, 71, 77, 75, 18, 24, 21, 8, 13, 11, 8, 12, 11, 10, 12, 11, 12, 15, 15, 5, 14, 19, 51, 69, 82, 142, 184, 216, 136, 179, 213, 134, 177, 214, 139, 179, 214, 190, 216, 234, 211, 221, 228, 158, 158, 160, 36, 40, 44, 65, 76, 80, 120, 129, 129, 107, 111, 106, 168, 169, 163, 167, 170, 165, 148, 153, 148, 85, 90, 86, 33, 37, 35, 49, 53, 53, 40, 43, 45, 45, 47, 47, 40, 42, 42, 30, 33, 33, 68, 74, 72, 64, 72, 69, 39, 47, 47, 33, 41, 43, 7, 15, 19, 6, 13, 18, 6, 14, 20, 12, 19, 27, 14, 23, 31, 17, 31, 44, 85, 108, 129, 132, 172, 208, 129, 167, 203, 127, 165, 204, 126, 164, 201, 123, 151, 171, 108, 119, 129, 90, 89, 94, 24, 30, 35, 25, 38, 45, 64, 73, 81, 78, 82, 84, 143, 144, 141, 136, 140, 135, 128, 134, 129, 89, 94, 90, 49, 53, 52, 44, 48, 48, 45, 49, 51, 36, 38, 41, 35, 36, 40, 42, 46, 49, 62, 69, 72, 33, 42, 46, 22, 31, 36, 18, 27, 34, 12, 20, 30, 15, 23, 35, 16, 27, 41, 22, 37, 54, 27, 42, 58, 41, 60, 79, 116, 143, 168, 123, 161, 200, 120, 157, 194, 117, 154, 193, 116, 152, 190, 92, 122, 148, 67, 87, 103, 58, 68, 78, 34, 45, 52, 43, 55, 66, 37, 46, 58, 27, 33, 41, 75, 79, 80, 83, 88, 86, 77, 83, 81, 68, 72, 72, 51, 55, 57, 36, 42, 44, 29, 35, 40, 26, 31, 39, 22, 26, 36, 31, 38, 47, 38, 48, 57, 26, 38, 47, 28, 38, 52, 28, 39, 53, 21, 33, 49, 29, 41, 57, 31, 45, 65, 34, 52, 75, 39, 58, 81, 58, 82, 104, 128, 157, 181, 113, 152, 192, 109, 147, 186, 107, 145, 184, 106, 143, 182, 106, 139, 174, 98, 127, 152, 70, 92, 108, 70, 86, 98, 75, 86, 100, 36, 47, 59, 26, 36, 45, 28, 37, 41, 21, 29, 30, 20, 26, 28, 26, 30, 36, 24, 30, 37, 18, 26, 33, 15, 25, 34, 17, 26, 41, 19, 29, 45, 21, 32, 47, 31, 44, 59, 34, 49, 64, 34, 47, 67, 30, 44, 65, 29, 45, 65, 48, 66, 85, 50, 69, 90, 41, 60, 85, 49, 72, 96, 84, 113, 135, 142, 175, 196, 104, 143, 182, 101, 139, 178, 99, 137, 176, 97, 134, 174, 95, 132, 170, 87, 120, 149, 72, 98, 118, 90, 109, 126, 81, 96, 112, 36, 49, 62, 35, 46, 57, 43, 53, 61, 28, 38, 43, 24, 34, 41, 19, 29, 41, 17, 28, 41, 18, 32, 45, 20, 35, 50, 24, 36, 57, 25, 37, 59, 29, 43, 64, 33, 49, 70, 34, 51, 72, 35, 51, 74, 31, 48, 71, 34, 53, 75, 49, 69, 91, 49, 71, 94, 42, 68, 94, 74, 104, 128, 120, 154, 177, 140, 178, 200, 95, 134, 174, 93, 131, 170, 92, 130, 169, 89, 127, 167, 85, 124, 166, 82, 118, 151, 82, 111, 135, 88, 110, 131, 80, 98, 117, 46, 62, 77, 32, 46, 60, 45, 57, 70, 46, 57, 67, 35, 48, 61, 26, 41, 59, 22, 39, 57, 22, 40, 60, 23, 42, 64, 27, 44, 70, 30, 44, 72, 31, 48, 75, 34, 54, 80, 35, 55, 81, 33, 53, 79, 32, 53, 79, 35, 57, 83, 40, 64, 89, 39, 66, 92, 52, 86, 113, 105, 141, 167, 127, 166, 191, 129, 169, 194, 89, 127, 167, 87, 125, 164, 86, 124, 163, 83, 121, 162, 78, 117, 161, 78, 114, 149, 81, 111, 136, 84, 107, 130, 83, 102, 123, 61, 79, 96, 34, 50, 67, 37, 52, 68, 49, 62, 78, 43, 58, 77, 29, 48, 69, 25, 45, 68, 26, 48, 71, 27, 50, 75, 31, 51, 79, 31, 50, 80, 33, 54, 83, 36, 60, 87, 32, 57, 84, 32, 56, 85, 34, 59, 88, 34, 60, 89, 38, 66, 94, 43, 74, 103, 79, 116, 145, 113, 152, 180, 118, 157, 185, 120, 160, 188, 82, 121, 161, 80, 118, 157, 80, 118, 157, 78, 116, 157, 75, 112, 155, 75, 109, 143, 75, 103, 127, 76, 97, 119, 81, 99, 120, 75, 95, 113, 45, 63, 82, 31, 47, 67, 35, 50, 71, 36, 52, 75, 32, 50, 73, 31, 51, 75, 29, 50, 76, 31, 54, 80, 34, 57, 84, 35, 59, 87, 36, 62, 89, 35, 62, 88, 30, 59, 86, 36, 63, 94, 38, 65, 97, 36, 65, 97, 37, 68, 99, 57, 92, 122, 97, 135, 166, 109, 146, 178, 112, 149, 180, 114, 150, 182, 75, 114, 154, 74, 112, 151, 74, 112, 151, 74, 111, 152, 71, 108, 150, 71, 103, 136, 69, 95, 120, 64, 84, 107, 59, 79, 101, 59, 81, 101, 51, 71, 92, 37, 55, 77, 33, 50, 74, 33, 50, 74, 34, 52, 76, 34, 53, 78, 32, 53, 79, 32, 55, 83, 37, 61, 89, 40, 66, 93, 37, 64, 91, 35, 63, 90, 35, 64, 91, 37, 66, 97, 36, 66, 98, 38, 69, 101, 49, 82, 114, 79, 114, 146, 101, 137, 168, 105, 141, 172, 106, 142, 173, 108, 142, 174, 69, 109, 148, 68, 106, 144, 68, 105, 144, 69, 105, 145, 65, 103, 142, 63, 94, 127, 60, 84, 111, 50, 72, 98, 42, 65, 90, 43, 66, 88, 47, 68, 91, 49, 69, 92, 45, 63, 87, 37, 56, 80, 34, 54, 79, 31, 53, 80, 31, 56, 84, 35, 61, 89, 39, 66, 96, 42, 69, 98, 45, 73, 102, 44, 72, 101, 38, 67, 96, 37, 69, 97, 40, 73, 101, 55, 88, 118, 76, 108, 140, 91, 125, 156, 97, 132, 162, 98, 133, 163, 99, 134, 164, 99, 134, 164], \"height\": 32, \"channels\": 3, \"width\": 32, \"type\": \"image\", \"id\": 4558289616}, {\"format\": \"raw\", \"value\": [51, 42, 26, 56, 47, 31, 59, 50, 34, 60, 50, 34, 63, 53, 37, 64, 55, 38, 64, 56, 37, 68, 60, 41, 71, 63, 45, 72, 64, 45, 73, 64, 46, 75, 67, 49, 77, 69, 50, 79, 70, 52, 79, 71, 53, 78, 70, 52, 71, 61, 42, 35, 21, 11, 25, 10, 4, 59, 48, 32, 118, 115, 93, 122, 123, 106, 76, 69, 51, 79, 70, 51, 78, 70, 51, 76, 68, 50, 78, 70, 52, 76, 69, 50, 70, 63, 44, 64, 58, 39, 59, 52, 35, 52, 42, 31, 57, 48, 32, 61, 52, 35, 63, 54, 38, 65, 57, 39, 65, 56, 39, 67, 58, 40, 69, 61, 43, 72, 64, 45, 76, 68, 49, 77, 69, 50, 80, 71, 53, 82, 73, 56, 82, 73, 55, 85, 76, 58, 86, 77, 60, 84, 75, 58, 80, 72, 54, 50, 37, 26, 25, 10, 3, 63, 54, 37, 119, 117, 100, 122, 119, 99, 83, 73, 55, 82, 73, 54, 79, 71, 52, 79, 70, 51, 79, 71, 52, 77, 69, 50, 70, 63, 44, 65, 56, 38, 61, 49, 32, 63, 45, 28, 61, 53, 36, 64, 56, 38, 66, 58, 41, 68, 60, 43, 70, 62, 45, 73, 65, 47, 75, 67, 49, 75, 67, 48, 78, 71, 52, 83, 75, 57, 86, 77, 60, 86, 77, 60, 85, 76, 59, 88, 80, 62, 87, 79, 62, 89, 80, 63, 89, 81, 63, 66, 55, 41, 28, 14, 7, 57, 48, 32, 112, 108, 88, 140, 134, 106, 86, 77, 57, 87, 78, 61, 81, 73, 55, 75, 62, 44, 69, 51, 35, 60, 44, 28, 64, 46, 27, 74, 51, 31, 81, 56, 36, 92, 66, 42, 65, 57, 40, 67, 60, 42, 67, 60, 41, 70, 63, 45, 76, 68, 51, 76, 69, 50, 76, 69, 50, 77, 70, 51, 82, 75, 56, 86, 79, 62, 89, 80, 63, 88, 79, 62, 90, 82, 64, 91, 84, 66, 91, 84, 66, 94, 86, 68, 94, 88, 69, 79, 72, 55, 34, 21, 12, 56, 46, 33, 118, 112, 88, 150, 137, 100, 92, 82, 65, 89, 81, 65, 86, 65, 51, 80, 53, 36, 80, 54, 34, 78, 51, 33, 92, 65, 45, 103, 76, 56, 110, 83, 63, 111, 85, 66, 68, 61, 44, 70, 64, 45, 71, 64, 45, 74, 67, 49, 77, 71, 53, 79, 72, 54, 79, 72, 54, 81, 74, 56, 88, 81, 63, 91, 84, 68, 90, 83, 66, 92, 85, 67, 96, 88, 70, 97, 90, 72, 98, 90, 73, 98, 91, 73, 97, 91, 73, 89, 82, 64, 44, 33, 19, 57, 47, 34, 122, 115, 89, 145, 137, 105, 93, 89, 70, 86, 79, 62, 93, 71, 56, 111, 82, 65, 112, 87, 73, 116, 88, 72, 116, 93, 73, 112, 91, 73, 105, 84, 65, 99, 78, 59, 71, 65, 48, 72, 67, 48, 74, 69, 50, 77, 72, 53, 81, 75, 57, 84, 77, 59, 85, 78, 60, 84, 77, 59, 90, 83, 67, 91, 83, 68, 93, 86, 69, 95, 88, 70, 98, 91, 73, 99, 92, 74, 101, 94, 76, 100, 92, 74, 97, 90, 72, 98, 90, 71, 58, 48, 32, 37, 26, 15, 106, 100, 80, 122, 123, 103, 83, 84, 71, 105, 93, 62, 111, 96, 69, 93, 85, 70, 100, 82, 55, 98, 81, 64, 94, 79, 64, 94, 79, 63, 89, 73, 56, 81, 65, 47, 73, 67, 51, 76, 71, 54, 79, 73, 56, 80, 74, 57, 83, 76, 60, 86, 79, 62, 86, 79, 61, 90, 83, 66, 92, 86, 70, 98, 90, 74, 99, 92, 74, 99, 92, 74, 102, 94, 76, 103, 96, 77, 101, 95, 76, 102, 94, 75, 103, 96, 77, 102, 95, 76, 65, 54, 38, 19, 8, 2, 62, 57, 42, 111, 105, 71, 98, 95, 72, 92, 82, 45, 110, 99, 62, 91, 90, 72, 108, 96, 60, 107, 100, 76, 96, 88, 70, 88, 78, 61, 75, 65, 51, 75, 67, 50, 77, 71, 55, 78, 72, 56, 82, 75, 59, 85, 78, 62, 87, 80, 65, 89, 82, 65, 90, 83, 65, 96, 89, 72, 98, 91, 73, 104, 97, 78, 106, 99, 80, 104, 97, 78, 107, 100, 81, 106, 99, 80, 105, 98, 79, 107, 100, 81, 109, 102, 83, 108, 101, 82, 74, 63, 48, 18, 6, 2, 41, 34, 25, 123, 116, 87, 142, 137, 106, 107, 101, 77, 73, 63, 45, 62, 56, 45, 84, 76, 59, 112, 100, 72, 117, 111, 88, 87, 76, 55, 72, 64, 51, 69, 68, 58, 79, 73, 57, 81, 75, 59, 84, 77, 61, 88, 81, 65, 88, 81, 66, 93, 86, 69, 81, 74, 59, 77, 70, 58, 94, 87, 70, 94, 87, 69, 101, 94, 76, 101, 94, 75, 104, 97, 78, 108, 100, 81, 109, 101, 82, 113, 106, 87, 110, 103, 84, 110, 103, 84, 90, 80, 63, 27, 15, 8, 29, 20, 12, 101, 94, 65, 147, 144, 115, 134, 129, 102, 102, 96, 79, 70, 66, 55, 70, 59, 49, 97, 81, 61, 114, 103, 65, 105, 95, 62, 102, 102, 84, 114, 113, 90, 83, 77, 61, 87, 81, 65, 89, 82, 66, 90, 83, 67, 91, 84, 67, 98, 91, 73, 76, 70, 56, 28, 24, 20, 40, 34, 25, 50, 42, 28, 75, 66, 49, 97, 89, 69, 107, 99, 79, 115, 107, 88, 112, 104, 85, 114, 107, 86, 115, 108, 87, 116, 110, 89, 103, 94, 76, 37, 25, 15, 23, 15, 11, 88, 84, 64, 111, 106, 86, 96, 91, 74, 103, 92, 58, 99, 94, 65, 108, 105, 86, 111, 104, 83, 123, 113, 76, 132, 128, 100, 132, 127, 97, 135, 115, 61, 86, 80, 64, 90, 84, 68, 92, 85, 69, 90, 84, 67, 91, 84, 68, 96, 89, 71, 93, 88, 69, 35, 31, 23, 27, 19, 8, 52, 41, 23, 67, 56, 36, 79, 67, 47, 84, 74, 56, 101, 93, 74, 114, 107, 88, 117, 111, 90, 118, 112, 90, 113, 108, 86, 110, 104, 83, 60, 48, 35, 38, 30, 20, 104, 104, 85, 92, 87, 68, 37, 26, 19, 35, 18, 6, 50, 40, 29, 86, 73, 44, 73, 65, 39, 103, 101, 85, 94, 85, 74, 66, 50, 36, 75, 52, 26, 87, 81, 65, 88, 81, 65, 90, 84, 67, 90, 83, 67, 93, 86, 71, 102, 95, 78, 87, 82, 65, 30, 23, 15, 50, 39, 21, 85, 71, 45, 93, 79, 55, 86, 74, 54, 80, 69, 51, 81, 71, 53, 105, 96, 75, 121, 114, 91, 121, 115, 93, 121, 115, 93, 115, 109, 87, 56, 45, 33, 63, 53, 34, 115, 107, 83, 161, 161, 148, 131, 127, 119, 61, 51, 39, 56, 48, 35, 63, 51, 36, 68, 60, 47, 79, 69, 56, 90, 69, 54, 93, 69, 54, 114, 86, 69, 88, 82, 66, 91, 84, 69, 93, 86, 71, 97, 90, 74, 98, 91, 76, 104, 97, 81, 75, 69, 55, 23, 15, 9, 56, 44, 26, 91, 76, 50, 102, 87, 60, 94, 79, 57, 88, 75, 56, 86, 74, 55, 110, 96, 71, 125, 113, 85, 127, 120, 98, 126, 121, 100, 116, 109, 88, 52, 41, 28, 52, 42, 30, 128, 121, 90, 214, 214, 201, 205, 206, 196, 124, 118, 98, 117, 112, 90, 118, 112, 92, 117, 111, 91, 111, 106, 86, 115, 105, 86, 118, 105, 86, 119, 105, 86, 90, 84, 68, 94, 87, 72, 98, 90, 76, 102, 95, 78, 102, 95, 80, 109, 103, 87, 74, 68, 55, 21, 15, 8, 52, 43, 27, 88, 75, 53, 81, 69, 48, 68, 59, 43, 72, 62, 45, 78, 65, 45, 110, 95, 68, 134, 118, 88, 131, 121, 99, 128, 124, 103, 125, 119, 98, 85, 75, 57, 66, 57, 39, 85, 80, 59, 175, 173, 162, 180, 179, 168, 122, 117, 97, 126, 120, 99, 125, 120, 98, 121, 115, 93, 122, 116, 94, 121, 114, 95, 118, 111, 93, 115, 109, 89, 94, 88, 72, 97, 91, 75, 103, 96, 80, 106, 100, 82, 107, 101, 84, 114, 108, 92, 81, 76, 61, 25, 20, 11, 38, 33, 21, 72, 61, 45, 73, 64, 47, 65, 59, 44, 77, 66, 46, 82, 70, 48, 91, 79, 56, 124, 109, 84, 149, 142, 123, 138, 136, 120, 115, 109, 87, 109, 95, 68, 76, 69, 47, 66, 61, 44, 121, 110, 86, 140, 133, 115, 126, 118, 96, 125, 119, 97, 126, 121, 98, 127, 122, 100, 125, 120, 98, 124, 119, 98, 122, 116, 97, 123, 117, 97, 101, 95, 79, 104, 98, 82, 104, 98, 83, 108, 102, 87, 113, 108, 91, 120, 116, 96, 93, 87, 68, 33, 27, 16, 35, 31, 21, 63, 55, 41, 78, 69, 51, 95, 83, 61, 89, 76, 52, 82, 72, 53, 81, 72, 54, 98, 86, 65, 140, 135, 118, 140, 135, 117, 138, 122, 86, 150, 127, 84, 94, 84, 54, 89, 85, 70, 106, 99, 72, 123, 117, 95, 124, 117, 96, 126, 120, 98, 136, 129, 107, 133, 127, 105, 130, 124, 103, 130, 126, 105, 130, 126, 106, 128, 123, 103, 101, 95, 79, 110, 104, 89, 108, 102, 88, 110, 104, 90, 115, 110, 93, 120, 116, 96, 106, 100, 81, 45, 38, 26, 40, 34, 20, 63, 54, 37, 76, 66, 47, 87, 74, 53, 108, 93, 67, 85, 75, 58, 74, 65, 50, 95, 82, 62, 107, 96, 73, 119, 106, 78, 171, 146, 99, 162, 133, 87, 103, 82, 55, 132, 128, 107, 141, 140, 123, 133, 126, 111, 125, 112, 88, 118, 105, 77, 120, 111, 91, 126, 119, 98, 128, 122, 100, 131, 126, 105, 133, 129, 108, 128, 124, 104, 108, 102, 85, 110, 104, 88, 109, 103, 88, 111, 105, 89, 117, 111, 95, 120, 115, 97, 116, 111, 93, 66, 57, 41, 43, 34, 20, 54, 44, 30, 71, 60, 44, 84, 71, 52, 98, 84, 59, 83, 72, 53, 83, 72, 53, 111, 95, 65, 108, 93, 63, 112, 101, 75, 143, 122, 85, 118, 92, 64, 96, 74, 51, 131, 120, 104, 152, 144, 124, 156, 150, 135, 124, 110, 87, 112, 90, 63, 102, 89, 71, 128, 117, 100, 140, 134, 114, 135, 128, 106, 133, 128, 108, 128, 124, 104, 106, 100, 84, 108, 102, 86, 110, 104, 88, 116, 110, 93, 124, 119, 102, 123, 119, 103, 123, 119, 102, 94, 88, 72, 38, 33, 22, 35, 29, 21, 72, 61, 42, 103, 88, 62, 90, 77, 54, 76, 67, 48, 95, 84, 62, 128, 109, 73, 109, 91, 59, 94, 86, 64, 106, 89, 71, 105, 85, 68, 155, 146, 129, 188, 178, 167, 197, 192, 177, 172, 161, 144, 136, 122, 101, 125, 107, 83, 109, 90, 78, 138, 121, 107, 157, 151, 134, 135, 130, 108, 137, 132, 111, 135, 131, 111, 108, 102, 86, 109, 104, 88, 114, 109, 92, 122, 116, 98, 124, 120, 103, 121, 117, 100, 123, 119, 102, 120, 116, 99, 57, 53, 41, 42, 33, 21, 80, 65, 41, 100, 84, 56, 91, 77, 54, 84, 73, 50, 110, 96, 67, 142, 119, 81, 112, 92, 60, 96, 86, 63, 98, 73, 53, 97, 77, 61, 194, 194, 185, 220, 217, 211, 206, 201, 197, 164, 151, 133, 136, 112, 80, 126, 97, 62, 95, 70, 52, 142, 119, 100, 165, 156, 139, 141, 137, 114, 140, 135, 115, 138, 133, 113, 113, 107, 92, 113, 107, 91, 119, 114, 96, 122, 117, 100, 124, 120, 104, 124, 120, 103, 123, 118, 102, 126, 122, 104, 93, 89, 74, 52, 42, 26, 84, 66, 38, 87, 71, 48, 90, 77, 54, 111, 95, 66, 126, 107, 73, 144, 120, 77, 114, 95, 61, 101, 87, 63, 104, 82, 58, 112, 96, 77, 129, 126, 118, 179, 174, 166, 192, 184, 171, 145, 132, 108, 126, 101, 71, 118, 85, 48, 119, 92, 61, 150, 131, 109, 151, 145, 129, 142, 138, 118, 143, 138, 118, 141, 136, 116, 114, 110, 94, 116, 111, 94, 119, 113, 96, 119, 115, 99, 127, 123, 107, 128, 124, 107, 124, 120, 103, 129, 125, 108, 126, 122, 105, 81, 73, 55, 76, 59, 32, 76, 61, 37, 88, 73, 46, 104, 85, 53, 120, 98, 61, 134, 111, 70, 98, 83, 57, 97, 85, 65, 104, 95, 77, 126, 120, 101, 119, 113, 100, 139, 131, 113, 174, 166, 147, 149, 134, 110, 155, 133, 103, 126, 113, 91, 129, 117, 98, 143, 135, 115, 138, 134, 110, 145, 139, 119, 147, 142, 122, 140, 136, 116, 123, 120, 104, 124, 121, 104, 124, 119, 103, 125, 120, 104, 128, 123, 106, 129, 126, 108, 138, 134, 117, 140, 136, 119, 137, 133, 114, 130, 124, 105, 91, 80, 57, 75, 58, 33, 96, 75, 45, 106, 84, 50, 124, 99, 60, 113, 91, 58, 81, 71, 51, 90, 83, 67, 98, 91, 75, 129, 122, 103, 133, 125, 107, 125, 107, 79, 110, 98, 81, 95, 86, 69, 144, 131, 105, 151, 144, 118, 151, 147, 126, 156, 151, 131, 144, 140, 119, 148, 143, 123, 150, 145, 125, 145, 141, 121, 123, 119, 102, 123, 119, 102, 126, 121, 104, 123, 119, 102, 127, 124, 106, 134, 131, 113, 137, 133, 116, 141, 136, 120, 144, 139, 120, 150, 145, 126, 135, 129, 109, 104, 94, 71, 98, 82, 55, 103, 79, 46, 109, 84, 49, 93, 75, 50, 75, 66, 48, 82, 76, 61, 99, 91, 74, 131, 124, 103, 114, 105, 85, 106, 89, 63, 73, 64, 53, 66, 61, 48, 105, 97, 77, 155, 147, 122, 166, 160, 138, 159, 153, 133, 152, 147, 127, 153, 148, 128, 150, 145, 125, 146, 141, 122, 125, 122, 105, 126, 122, 104, 129, 125, 107, 128, 125, 108, 134, 131, 112, 136, 132, 113, 136, 133, 113, 138, 134, 115, 146, 141, 122, 150, 145, 126, 151, 147, 127, 145, 142, 121, 128, 122, 100, 108, 97, 73, 92, 78, 53, 74, 61, 38, 58, 50, 36, 62, 56, 44, 85, 79, 63, 125, 119, 99, 96, 88, 70, 74, 65, 49, 50, 46, 40, 57, 51, 40, 82, 72, 51, 116, 105, 83, 144, 136, 118, 149, 143, 124, 155, 150, 128, 158, 153, 133, 156, 151, 131, 150, 146, 126, 129, 124, 108, 127, 123, 106, 132, 129, 112, 138, 134, 116, 141, 136, 117, 144, 139, 119, 144, 140, 120, 147, 142, 122, 150, 145, 127, 154, 149, 130, 156, 151, 132, 158, 154, 134, 161, 157, 137, 154, 149, 128, 140, 132, 109, 126, 117, 95, 94, 88, 68, 54, 48, 35, 68, 64, 52, 114, 110, 90, 84, 76, 59, 55, 48, 38, 49, 42, 32, 73, 63, 45, 92, 77, 53, 91, 72, 44, 80, 65, 44, 110, 100, 82, 161, 156, 135, 162, 157, 137, 159, 154, 134, 156, 152, 131, 128, 124, 107, 127, 123, 106, 132, 128, 111, 138, 134, 116, 143, 139, 120, 145, 142, 121, 145, 142, 123, 154, 150, 131, 152, 146, 128, 155, 150, 132, 158, 153, 134, 161, 157, 137, 165, 161, 142, 169, 164, 144, 168, 162, 142, 170, 164, 144, 163, 158, 136, 119, 113, 93, 83, 78, 63, 92, 83, 63, 88, 77, 56, 73, 65, 52, 67, 54, 38, 104, 86, 57, 112, 92, 60, 122, 97, 57, 96, 78, 46, 112, 99, 75, 163, 157, 137, 164, 160, 141, 158, 154, 135, 151, 147, 128, 126, 123, 106, 129, 126, 109, 136, 132, 113, 138, 138, 115, 142, 139, 121, 145, 143, 123, 140, 138, 118, 146, 142, 123, 152, 147, 128, 160, 155, 136, 164, 159, 140, 160, 155, 136, 166, 161, 142, 168, 163, 144, 165, 160, 141, 165, 160, 141, 167, 161, 143, 165, 161, 141, 114, 106, 87, 78, 61, 37, 89, 71, 47, 84, 76, 59, 59, 45, 28, 109, 91, 57, 122, 106, 71, 145, 127, 94, 160, 150, 125, 166, 161, 136, 160, 157, 134, 162, 158, 138, 149, 144, 124, 150, 145, 125, 126, 123, 106, 130, 127, 110, 137, 132, 117, 131, 132, 115, 140, 138, 120, 150, 146, 128, 150, 148, 128, 153, 149, 129, 160, 155, 136, 158, 153, 134, 161, 156, 137, 160, 155, 136, 164, 159, 140, 166, 161, 142, 169, 164, 145, 170, 165, 146, 172, 167, 148, 142, 137, 123, 81, 69, 53, 79, 61, 34, 95, 76, 47, 95, 85, 60, 98, 90, 68, 145, 138, 113, 161, 156, 132, 165, 160, 138, 164, 161, 139, 171, 166, 143, 170, 164, 144, 156, 150, 131, 151, 145, 126, 158, 153, 132, 127, 125, 107, 126, 119, 106, 145, 125, 138, 120, 144, 144, 147, 156, 143, 161, 160, 143, 154, 151, 132, 155, 151, 132, 158, 152, 134, 158, 153, 135, 160, 155, 136, 161, 155, 136, 165, 160, 141, 170, 165, 146, 171, 166, 147, 170, 166, 147, 172, 166, 147, 128, 119, 102, 71, 58, 40, 109, 96, 71, 140, 129, 103, 155, 148, 126, 168, 163, 142, 171, 165, 145, 164, 159, 138, 169, 165, 143, 169, 164, 144, 168, 163, 142, 165, 160, 139, 156, 152, 133, 158, 154, 134, 160, 157, 136, 132, 130, 112, 128, 121, 108, 140, 128, 141, 151, 169, 170, 159, 169, 161, 163, 164, 152, 158, 158, 143, 159, 158, 138, 158, 153, 133, 160, 154, 136, 158, 152, 133, 163, 156, 138, 170, 164, 146, 171, 166, 147, 168, 163, 144, 170, 166, 146, 171, 165, 145, 155, 147, 125, 137, 129, 106, 155, 150, 130, 173, 168, 147, 176, 170, 150, 171, 165, 146, 171, 165, 145, 169, 164, 142, 171, 166, 144, 168, 163, 144, 164, 159, 140, 162, 158, 136, 159, 154, 133, 163, 158, 137, 161, 156, 136, 131, 129, 111, 129, 121, 111, 145, 141, 102, 176, 187, 101, 156, 165, 116, 157, 160, 147, 181, 190, 179, 178, 181, 163, 161, 156, 136, 163, 157, 137, 159, 153, 133, 164, 159, 139, 173, 168, 148, 172, 167, 147, 165, 160, 140, 171, 165, 146, 174, 169, 149, 173, 168, 148, 172, 169, 151, 163, 161, 143, 170, 165, 146, 175, 169, 150, 168, 162, 143, 170, 165, 145, 175, 170, 150, 172, 167, 147, 169, 164, 144, 165, 160, 139, 166, 161, 139, 164, 159, 138, 164, 160, 138, 164, 160, 140], \"height\": 32, \"channels\": 3, \"width\": 32, \"type\": \"image\", \"id\": 4558290704}], \"selected_variable\": {\"name\": [\"<SArray>\"], \"dtype\": \"Image\", \"view_component\": \"Images\", \"view_file\": \"sarray\", \"descriptives\": {\"rows\": 5}, \"type\": \"SArray\", \"view_components\": [\"Images\"]}}, e);\n",
       "                });\n",
       "            })();\n",
       "        "
      ]
     },
     "metadata": {},
     "output_type": "display_data"
    }
   ],
   "source": [
    "#Quiz 2\n",
    "cattest = image_test[0:1]\n",
    "get_images_from_ids(cat_model.query(cattest))['image'].show()"
   ]
  },
  {
   "cell_type": "code",
   "execution_count": 11,
   "metadata": {
    "collapsed": false
   },
   "outputs": [
    {
     "data": {
      "text/html": [
       "<pre>Starting pairwise querying.</pre>"
      ],
      "text/plain": [
       "Starting pairwise querying."
      ]
     },
     "metadata": {},
     "output_type": "display_data"
    },
    {
     "data": {
      "text/html": [
       "<pre>+--------------+---------+-------------+--------------+</pre>"
      ],
      "text/plain": [
       "+--------------+---------+-------------+--------------+"
      ]
     },
     "metadata": {},
     "output_type": "display_data"
    },
    {
     "data": {
      "text/html": [
       "<pre>| Query points | # Pairs | % Complete. | Elapsed Time |</pre>"
      ],
      "text/plain": [
       "| Query points | # Pairs | % Complete. | Elapsed Time |"
      ]
     },
     "metadata": {},
     "output_type": "display_data"
    },
    {
     "data": {
      "text/html": [
       "<pre>+--------------+---------+-------------+--------------+</pre>"
      ],
      "text/plain": [
       "+--------------+---------+-------------+--------------+"
      ]
     },
     "metadata": {},
     "output_type": "display_data"
    },
    {
     "data": {
      "text/html": [
       "<pre>| 0            | 1       | 0.196464    | 11.107ms     |</pre>"
      ],
      "text/plain": [
       "| 0            | 1       | 0.196464    | 11.107ms     |"
      ]
     },
     "metadata": {},
     "output_type": "display_data"
    },
    {
     "data": {
      "text/html": [
       "<pre>| Done         |         | 100         | 53.253ms     |</pre>"
      ],
      "text/plain": [
       "| Done         |         | 100         | 53.253ms     |"
      ]
     },
     "metadata": {},
     "output_type": "display_data"
    },
    {
     "data": {
      "text/html": [
       "<pre>+--------------+---------+-------------+--------------+</pre>"
      ],
      "text/plain": [
       "+--------------+---------+-------------+--------------+"
      ]
     },
     "metadata": {},
     "output_type": "display_data"
    },
    {
     "data": {
      "text/html": [
       "<div style=\"max-height:1000px;max-width:1500px;overflow:auto;\"><table frame=\"box\" rules=\"cols\">\n",
       "    <tr>\n",
       "        <th style=\"padding-left: 1em; padding-right: 1em; text-align: center\">query_label</th>\n",
       "        <th style=\"padding-left: 1em; padding-right: 1em; text-align: center\">reference_label</th>\n",
       "        <th style=\"padding-left: 1em; padding-right: 1em; text-align: center\">distance</th>\n",
       "        <th style=\"padding-left: 1em; padding-right: 1em; text-align: center\">rank</th>\n",
       "    </tr>\n",
       "    <tr>\n",
       "        <td style=\"padding-left: 1em; padding-right: 1em; text-align: center; vertical-align: top\">0</td>\n",
       "        <td style=\"padding-left: 1em; padding-right: 1em; text-align: center; vertical-align: top\">16976</td>\n",
       "        <td style=\"padding-left: 1em; padding-right: 1em; text-align: center; vertical-align: top\">37.4642628784</td>\n",
       "        <td style=\"padding-left: 1em; padding-right: 1em; text-align: center; vertical-align: top\">1</td>\n",
       "    </tr>\n",
       "    <tr>\n",
       "        <td style=\"padding-left: 1em; padding-right: 1em; text-align: center; vertical-align: top\">0</td>\n",
       "        <td style=\"padding-left: 1em; padding-right: 1em; text-align: center; vertical-align: top\">13387</td>\n",
       "        <td style=\"padding-left: 1em; padding-right: 1em; text-align: center; vertical-align: top\">37.5666832169</td>\n",
       "        <td style=\"padding-left: 1em; padding-right: 1em; text-align: center; vertical-align: top\">2</td>\n",
       "    </tr>\n",
       "    <tr>\n",
       "        <td style=\"padding-left: 1em; padding-right: 1em; text-align: center; vertical-align: top\">0</td>\n",
       "        <td style=\"padding-left: 1em; padding-right: 1em; text-align: center; vertical-align: top\">35867</td>\n",
       "        <td style=\"padding-left: 1em; padding-right: 1em; text-align: center; vertical-align: top\">37.6047267079</td>\n",
       "        <td style=\"padding-left: 1em; padding-right: 1em; text-align: center; vertical-align: top\">3</td>\n",
       "    </tr>\n",
       "    <tr>\n",
       "        <td style=\"padding-left: 1em; padding-right: 1em; text-align: center; vertical-align: top\">0</td>\n",
       "        <td style=\"padding-left: 1em; padding-right: 1em; text-align: center; vertical-align: top\">44603</td>\n",
       "        <td style=\"padding-left: 1em; padding-right: 1em; text-align: center; vertical-align: top\">37.7065585153</td>\n",
       "        <td style=\"padding-left: 1em; padding-right: 1em; text-align: center; vertical-align: top\">4</td>\n",
       "    </tr>\n",
       "    <tr>\n",
       "        <td style=\"padding-left: 1em; padding-right: 1em; text-align: center; vertical-align: top\">0</td>\n",
       "        <td style=\"padding-left: 1em; padding-right: 1em; text-align: center; vertical-align: top\">6094</td>\n",
       "        <td style=\"padding-left: 1em; padding-right: 1em; text-align: center; vertical-align: top\">38.5113254907</td>\n",
       "        <td style=\"padding-left: 1em; padding-right: 1em; text-align: center; vertical-align: top\">5</td>\n",
       "    </tr>\n",
       "</table>\n",
       "[5 rows x 4 columns]<br/>\n",
       "</div>"
      ],
      "text/plain": [
       "Columns:\n",
       "\tquery_label\tint\n",
       "\treference_label\tint\n",
       "\tdistance\tfloat\n",
       "\trank\tint\n",
       "\n",
       "Rows: 5\n",
       "\n",
       "Data:\n",
       "+-------------+-----------------+---------------+------+\n",
       "| query_label | reference_label |    distance   | rank |\n",
       "+-------------+-----------------+---------------+------+\n",
       "|      0      |      16976      | 37.4642628784 |  1   |\n",
       "|      0      |      13387      | 37.5666832169 |  2   |\n",
       "|      0      |      35867      | 37.6047267079 |  3   |\n",
       "|      0      |      44603      | 37.7065585153 |  4   |\n",
       "|      0      |       6094      | 38.5113254907 |  5   |\n",
       "+-------------+-----------------+---------------+------+\n",
       "[5 rows x 4 columns]"
      ]
     },
     "execution_count": 11,
     "metadata": {},
     "output_type": "execute_result"
    }
   ],
   "source": [
    "get_images_from_ids(dog_model.query(cattest))['image'].show()"
   ]
  },
  {
   "cell_type": "code",
   "execution_count": 12,
   "metadata": {
    "collapsed": false
   },
   "outputs": [
    {
     "data": {
      "text/html": [
       "<pre>Starting pairwise querying.</pre>"
      ],
      "text/plain": [
       "Starting pairwise querying."
      ]
     },
     "metadata": {},
     "output_type": "display_data"
    },
    {
     "data": {
      "text/html": [
       "<pre>+--------------+---------+-------------+--------------+</pre>"
      ],
      "text/plain": [
       "+--------------+---------+-------------+--------------+"
      ]
     },
     "metadata": {},
     "output_type": "display_data"
    },
    {
     "data": {
      "text/html": [
       "<pre>| Query points | # Pairs | % Complete. | Elapsed Time |</pre>"
      ],
      "text/plain": [
       "| Query points | # Pairs | % Complete. | Elapsed Time |"
      ]
     },
     "metadata": {},
     "output_type": "display_data"
    },
    {
     "data": {
      "text/html": [
       "<pre>+--------------+---------+-------------+--------------+</pre>"
      ],
      "text/plain": [
       "+--------------+---------+-------------+--------------+"
      ]
     },
     "metadata": {},
     "output_type": "display_data"
    },
    {
     "data": {
      "text/html": [
       "<pre>| 0            | 1       | 0.196464    | 9.055ms      |</pre>"
      ],
      "text/plain": [
       "| 0            | 1       | 0.196464    | 9.055ms      |"
      ]
     },
     "metadata": {},
     "output_type": "display_data"
    },
    {
     "data": {
      "text/html": [
       "<pre>| Done         |         | 100         | 50.839ms     |</pre>"
      ],
      "text/plain": [
       "| Done         |         | 100         | 50.839ms     |"
      ]
     },
     "metadata": {},
     "output_type": "display_data"
    },
    {
     "data": {
      "text/html": [
       "<pre>+--------------+---------+-------------+--------------+</pre>"
      ],
      "text/plain": [
       "+--------------+---------+-------------+--------------+"
      ]
     },
     "metadata": {},
     "output_type": "display_data"
    },
    {
     "data": {
      "text/plain": [
       "36.15573070978294"
      ]
     },
     "execution_count": 12,
     "metadata": {},
     "output_type": "execute_result"
    }
   ],
   "source": [
    "#Quiz 3\n",
    "cat_model.query(cattest)['distance'].mean()"
   ]
  },
  {
   "cell_type": "code",
   "execution_count": 13,
   "metadata": {
    "collapsed": false
   },
   "outputs": [
    {
     "data": {
      "text/html": [
       "<pre>Starting pairwise querying.</pre>"
      ],
      "text/plain": [
       "Starting pairwise querying."
      ]
     },
     "metadata": {},
     "output_type": "display_data"
    },
    {
     "data": {
      "text/html": [
       "<pre>+--------------+---------+-------------+--------------+</pre>"
      ],
      "text/plain": [
       "+--------------+---------+-------------+--------------+"
      ]
     },
     "metadata": {},
     "output_type": "display_data"
    },
    {
     "data": {
      "text/html": [
       "<pre>| Query points | # Pairs | % Complete. | Elapsed Time |</pre>"
      ],
      "text/plain": [
       "| Query points | # Pairs | % Complete. | Elapsed Time |"
      ]
     },
     "metadata": {},
     "output_type": "display_data"
    },
    {
     "data": {
      "text/html": [
       "<pre>+--------------+---------+-------------+--------------+</pre>"
      ],
      "text/plain": [
       "+--------------+---------+-------------+--------------+"
      ]
     },
     "metadata": {},
     "output_type": "display_data"
    },
    {
     "data": {
      "text/html": [
       "<pre>| 0            | 1       | 0.196464    | 9.974ms      |</pre>"
      ],
      "text/plain": [
       "| 0            | 1       | 0.196464    | 9.974ms      |"
      ]
     },
     "metadata": {},
     "output_type": "display_data"
    },
    {
     "data": {
      "text/html": [
       "<pre>| Done         |         | 100         | 49.46ms      |</pre>"
      ],
      "text/plain": [
       "| Done         |         | 100         | 49.46ms      |"
      ]
     },
     "metadata": {},
     "output_type": "display_data"
    },
    {
     "data": {
      "text/html": [
       "<pre>+--------------+---------+-------------+--------------+</pre>"
      ],
      "text/plain": [
       "+--------------+---------+-------------+--------------+"
      ]
     },
     "metadata": {},
     "output_type": "display_data"
    },
    {
     "data": {
      "text/plain": [
       "37.77071136184157"
      ]
     },
     "execution_count": 13,
     "metadata": {},
     "output_type": "execute_result"
    }
   ],
   "source": [
    "dog_model.query(cattest)['distance'].mean()"
   ]
  },
  {
   "cell_type": "code",
   "execution_count": 14,
   "metadata": {
    "collapsed": false
   },
   "outputs": [
    {
     "data": {
      "text/html": [
       "<pre>Starting blockwise querying.</pre>"
      ],
      "text/plain": [
       "Starting blockwise querying."
      ]
     },
     "metadata": {},
     "output_type": "display_data"
    },
    {
     "data": {
      "text/html": [
       "<pre>max rows per data block: 7668</pre>"
      ],
      "text/plain": [
       "max rows per data block: 7668"
      ]
     },
     "metadata": {},
     "output_type": "display_data"
    },
    {
     "data": {
      "text/html": [
       "<pre>number of reference data blocks: 8</pre>"
      ],
      "text/plain": [
       "number of reference data blocks: 8"
      ]
     },
     "metadata": {},
     "output_type": "display_data"
    },
    {
     "data": {
      "text/html": [
       "<pre>number of query data blocks: 1</pre>"
      ],
      "text/plain": [
       "number of query data blocks: 1"
      ]
     },
     "metadata": {},
     "output_type": "display_data"
    },
    {
     "data": {
      "text/html": [
       "<pre>+--------------+---------+-------------+--------------+</pre>"
      ],
      "text/plain": [
       "+--------------+---------+-------------+--------------+"
      ]
     },
     "metadata": {},
     "output_type": "display_data"
    },
    {
     "data": {
      "text/html": [
       "<pre>| Query points | # Pairs | % Complete. | Elapsed Time |</pre>"
      ],
      "text/plain": [
       "| Query points | # Pairs | % Complete. | Elapsed Time |"
      ]
     },
     "metadata": {},
     "output_type": "display_data"
    },
    {
     "data": {
      "text/html": [
       "<pre>+--------------+---------+-------------+--------------+</pre>"
      ],
      "text/plain": [
       "+--------------+---------+-------------+--------------+"
      ]
     },
     "metadata": {},
     "output_type": "display_data"
    },
    {
     "data": {
      "text/html": [
       "<pre>| 1000         | 64000   | 12.5737     | 294.542ms    |</pre>"
      ],
      "text/plain": [
       "| 1000         | 64000   | 12.5737     | 294.542ms    |"
      ]
     },
     "metadata": {},
     "output_type": "display_data"
    },
    {
     "data": {
      "text/html": [
       "<pre>| Done         | 509000  | 100         | 338.207ms    |</pre>"
      ],
      "text/plain": [
       "| Done         | 509000  | 100         | 338.207ms    |"
      ]
     },
     "metadata": {},
     "output_type": "display_data"
    },
    {
     "data": {
      "text/html": [
       "<pre>+--------------+---------+-------------+--------------+</pre>"
      ],
      "text/plain": [
       "+--------------+---------+-------------+--------------+"
      ]
     },
     "metadata": {},
     "output_type": "display_data"
    }
   ],
   "source": [
    "#Quiz 4\n",
    "dog_cat_neighbors  = cat_model.query(dog_test, k=1)"
   ]
  },
  {
   "cell_type": "code",
   "execution_count": 15,
   "metadata": {
    "collapsed": false
   },
   "outputs": [
    {
     "data": {
      "text/html": [
       "<pre>Starting blockwise querying.</pre>"
      ],
      "text/plain": [
       "Starting blockwise querying."
      ]
     },
     "metadata": {},
     "output_type": "display_data"
    },
    {
     "data": {
      "text/html": [
       "<pre>max rows per data block: 7668</pre>"
      ],
      "text/plain": [
       "max rows per data block: 7668"
      ]
     },
     "metadata": {},
     "output_type": "display_data"
    },
    {
     "data": {
      "text/html": [
       "<pre>number of reference data blocks: 8</pre>"
      ],
      "text/plain": [
       "number of reference data blocks: 8"
      ]
     },
     "metadata": {},
     "output_type": "display_data"
    },
    {
     "data": {
      "text/html": [
       "<pre>number of query data blocks: 1</pre>"
      ],
      "text/plain": [
       "number of query data blocks: 1"
      ]
     },
     "metadata": {},
     "output_type": "display_data"
    },
    {
     "data": {
      "text/html": [
       "<pre>+--------------+---------+-------------+--------------+</pre>"
      ],
      "text/plain": [
       "+--------------+---------+-------------+--------------+"
      ]
     },
     "metadata": {},
     "output_type": "display_data"
    },
    {
     "data": {
      "text/html": [
       "<pre>| Query points | # Pairs | % Complete. | Elapsed Time |</pre>"
      ],
      "text/plain": [
       "| Query points | # Pairs | % Complete. | Elapsed Time |"
      ]
     },
     "metadata": {},
     "output_type": "display_data"
    },
    {
     "data": {
      "text/html": [
       "<pre>+--------------+---------+-------------+--------------+</pre>"
      ],
      "text/plain": [
       "+--------------+---------+-------------+--------------+"
      ]
     },
     "metadata": {},
     "output_type": "display_data"
    },
    {
     "data": {
      "text/html": [
       "<pre>| 1000         | 64000   | 12.5737     | 289.901ms    |</pre>"
      ],
      "text/plain": [
       "| 1000         | 64000   | 12.5737     | 289.901ms    |"
      ]
     },
     "metadata": {},
     "output_type": "display_data"
    },
    {
     "data": {
      "text/html": [
       "<pre>| Done         | 509000  | 100         | 360.745ms    |</pre>"
      ],
      "text/plain": [
       "| Done         | 509000  | 100         | 360.745ms    |"
      ]
     },
     "metadata": {},
     "output_type": "display_data"
    },
    {
     "data": {
      "text/html": [
       "<pre>+--------------+---------+-------------+--------------+</pre>"
      ],
      "text/plain": [
       "+--------------+---------+-------------+--------------+"
      ]
     },
     "metadata": {},
     "output_type": "display_data"
    }
   ],
   "source": [
    "dog_dog_neighbors  = dog_model.query(dog_test, k=1)"
   ]
  },
  {
   "cell_type": "code",
   "execution_count": 16,
   "metadata": {
    "collapsed": false,
    "scrolled": true
   },
   "outputs": [
    {
     "data": {
      "text/html": [
       "<pre>Starting blockwise querying.</pre>"
      ],
      "text/plain": [
       "Starting blockwise querying."
      ]
     },
     "metadata": {},
     "output_type": "display_data"
    },
    {
     "data": {
      "text/html": [
       "<pre>max rows per data block: 7668</pre>"
      ],
      "text/plain": [
       "max rows per data block: 7668"
      ]
     },
     "metadata": {},
     "output_type": "display_data"
    },
    {
     "data": {
      "text/html": [
       "<pre>number of reference data blocks: 8</pre>"
      ],
      "text/plain": [
       "number of reference data blocks: 8"
      ]
     },
     "metadata": {},
     "output_type": "display_data"
    },
    {
     "data": {
      "text/html": [
       "<pre>number of query data blocks: 1</pre>"
      ],
      "text/plain": [
       "number of query data blocks: 1"
      ]
     },
     "metadata": {},
     "output_type": "display_data"
    },
    {
     "data": {
      "text/html": [
       "<pre>+--------------+---------+-------------+--------------+</pre>"
      ],
      "text/plain": [
       "+--------------+---------+-------------+--------------+"
      ]
     },
     "metadata": {},
     "output_type": "display_data"
    },
    {
     "data": {
      "text/html": [
       "<pre>| Query points | # Pairs | % Complete. | Elapsed Time |</pre>"
      ],
      "text/plain": [
       "| Query points | # Pairs | % Complete. | Elapsed Time |"
      ]
     },
     "metadata": {},
     "output_type": "display_data"
    },
    {
     "data": {
      "text/html": [
       "<pre>+--------------+---------+-------------+--------------+</pre>"
      ],
      "text/plain": [
       "+--------------+---------+-------------+--------------+"
      ]
     },
     "metadata": {},
     "output_type": "display_data"
    },
    {
     "data": {
      "text/html": [
       "<pre>| 1000         | 60000   | 12.5523     | 299.764ms    |</pre>"
      ],
      "text/plain": [
       "| 1000         | 60000   | 12.5523     | 299.764ms    |"
      ]
     },
     "metadata": {},
     "output_type": "display_data"
    },
    {
     "data": {
      "text/html": [
       "<pre>| Done         | 478000  | 100         | 345.539ms    |</pre>"
      ],
      "text/plain": [
       "| Done         | 478000  | 100         | 345.539ms    |"
      ]
     },
     "metadata": {},
     "output_type": "display_data"
    },
    {
     "data": {
      "text/html": [
       "<pre>+--------------+---------+-------------+--------------+</pre>"
      ],
      "text/plain": [
       "+--------------+---------+-------------+--------------+"
      ]
     },
     "metadata": {},
     "output_type": "display_data"
    }
   ],
   "source": [
    "dog_bird_neighbors = bird_model.query(dog_test, k=1)"
   ]
  },
  {
   "cell_type": "code",
   "execution_count": 17,
   "metadata": {
    "collapsed": false
   },
   "outputs": [
    {
     "data": {
      "text/html": [
       "<pre>Starting blockwise querying.</pre>"
      ],
      "text/plain": [
       "Starting blockwise querying."
      ]
     },
     "metadata": {},
     "output_type": "display_data"
    },
    {
     "data": {
      "text/html": [
       "<pre>max rows per data block: 7668</pre>"
      ],
      "text/plain": [
       "max rows per data block: 7668"
      ]
     },
     "metadata": {},
     "output_type": "display_data"
    },
    {
     "data": {
      "text/html": [
       "<pre>number of reference data blocks: 8</pre>"
      ],
      "text/plain": [
       "number of reference data blocks: 8"
      ]
     },
     "metadata": {},
     "output_type": "display_data"
    },
    {
     "data": {
      "text/html": [
       "<pre>number of query data blocks: 1</pre>"
      ],
      "text/plain": [
       "number of query data blocks: 1"
      ]
     },
     "metadata": {},
     "output_type": "display_data"
    },
    {
     "data": {
      "text/html": [
       "<pre>+--------------+---------+-------------+--------------+</pre>"
      ],
      "text/plain": [
       "+--------------+---------+-------------+--------------+"
      ]
     },
     "metadata": {},
     "output_type": "display_data"
    },
    {
     "data": {
      "text/html": [
       "<pre>| Query points | # Pairs | % Complete. | Elapsed Time |</pre>"
      ],
      "text/plain": [
       "| Query points | # Pairs | % Complete. | Elapsed Time |"
      ]
     },
     "metadata": {},
     "output_type": "display_data"
    },
    {
     "data": {
      "text/html": [
       "<pre>+--------------+---------+-------------+--------------+</pre>"
      ],
      "text/plain": [
       "+--------------+---------+-------------+--------------+"
      ]
     },
     "metadata": {},
     "output_type": "display_data"
    },
    {
     "data": {
      "text/html": [
       "<pre>| 1000         | 64000   | 12.5737     | 273.202ms    |</pre>"
      ],
      "text/plain": [
       "| 1000         | 64000   | 12.5737     | 273.202ms    |"
      ]
     },
     "metadata": {},
     "output_type": "display_data"
    },
    {
     "data": {
      "text/html": [
       "<pre>| Done         | 509000  | 100         | 358.751ms    |</pre>"
      ],
      "text/plain": [
       "| Done         | 509000  | 100         | 358.751ms    |"
      ]
     },
     "metadata": {},
     "output_type": "display_data"
    },
    {
     "data": {
      "text/html": [
       "<pre>+--------------+---------+-------------+--------------+</pre>"
      ],
      "text/plain": [
       "+--------------+---------+-------------+--------------+"
      ]
     },
     "metadata": {},
     "output_type": "display_data"
    }
   ],
   "source": [
    "dog_auto_neighbors = auto_model.query(dog_test, k=1)"
   ]
  },
  {
   "cell_type": "code",
   "execution_count": 18,
   "metadata": {
    "collapsed": false,
    "scrolled": true
   },
   "outputs": [
    {
     "data": {
      "text/html": [
       "<div style=\"max-height:1000px;max-width:1500px;overflow:auto;\"><table frame=\"box\" rules=\"cols\">\n",
       "    <tr>\n",
       "        <th style=\"padding-left: 1em; padding-right: 1em; text-align: center\">dog-auto</th>\n",
       "        <th style=\"padding-left: 1em; padding-right: 1em; text-align: center\">dog-bird</th>\n",
       "        <th style=\"padding-left: 1em; padding-right: 1em; text-align: center\">dog-cat</th>\n",
       "        <th style=\"padding-left: 1em; padding-right: 1em; text-align: center\">dog-dog</th>\n",
       "    </tr>\n",
       "    <tr>\n",
       "        <td style=\"padding-left: 1em; padding-right: 1em; text-align: center; vertical-align: top\">41.9579761457</td>\n",
       "        <td style=\"padding-left: 1em; padding-right: 1em; text-align: center; vertical-align: top\">41.7538647304</td>\n",
       "        <td style=\"padding-left: 1em; padding-right: 1em; text-align: center; vertical-align: top\">36.4196077068</td>\n",
       "        <td style=\"padding-left: 1em; padding-right: 1em; text-align: center; vertical-align: top\">33.4773590373</td>\n",
       "    </tr>\n",
       "    <tr>\n",
       "        <td style=\"padding-left: 1em; padding-right: 1em; text-align: center; vertical-align: top\">46.0021331807</td>\n",
       "        <td style=\"padding-left: 1em; padding-right: 1em; text-align: center; vertical-align: top\">41.3382958925</td>\n",
       "        <td style=\"padding-left: 1em; padding-right: 1em; text-align: center; vertical-align: top\">38.8353268874</td>\n",
       "        <td style=\"padding-left: 1em; padding-right: 1em; text-align: center; vertical-align: top\">32.8458495684</td>\n",
       "    </tr>\n",
       "    <tr>\n",
       "        <td style=\"padding-left: 1em; padding-right: 1em; text-align: center; vertical-align: top\">42.9462290692</td>\n",
       "        <td style=\"padding-left: 1em; padding-right: 1em; text-align: center; vertical-align: top\">38.6157590853</td>\n",
       "        <td style=\"padding-left: 1em; padding-right: 1em; text-align: center; vertical-align: top\">36.9763410854</td>\n",
       "        <td style=\"padding-left: 1em; padding-right: 1em; text-align: center; vertical-align: top\">35.0397073189</td>\n",
       "    </tr>\n",
       "    <tr>\n",
       "        <td style=\"padding-left: 1em; padding-right: 1em; text-align: center; vertical-align: top\">41.6866060048</td>\n",
       "        <td style=\"padding-left: 1em; padding-right: 1em; text-align: center; vertical-align: top\">37.0892269954</td>\n",
       "        <td style=\"padding-left: 1em; padding-right: 1em; text-align: center; vertical-align: top\">34.5750072914</td>\n",
       "        <td style=\"padding-left: 1em; padding-right: 1em; text-align: center; vertical-align: top\">33.9010327697</td>\n",
       "    </tr>\n",
       "    <tr>\n",
       "        <td style=\"padding-left: 1em; padding-right: 1em; text-align: center; vertical-align: top\">39.2269664935</td>\n",
       "        <td style=\"padding-left: 1em; padding-right: 1em; text-align: center; vertical-align: top\">38.272288694</td>\n",
       "        <td style=\"padding-left: 1em; padding-right: 1em; text-align: center; vertical-align: top\">34.778824791</td>\n",
       "        <td style=\"padding-left: 1em; padding-right: 1em; text-align: center; vertical-align: top\">37.4849250909</td>\n",
       "    </tr>\n",
       "    <tr>\n",
       "        <td style=\"padding-left: 1em; padding-right: 1em; text-align: center; vertical-align: top\">40.5845117698</td>\n",
       "        <td style=\"padding-left: 1em; padding-right: 1em; text-align: center; vertical-align: top\">39.1462089236</td>\n",
       "        <td style=\"padding-left: 1em; padding-right: 1em; text-align: center; vertical-align: top\">35.1171578292</td>\n",
       "        <td style=\"padding-left: 1em; padding-right: 1em; text-align: center; vertical-align: top\">34.945165344</td>\n",
       "    </tr>\n",
       "    <tr>\n",
       "        <td style=\"padding-left: 1em; padding-right: 1em; text-align: center; vertical-align: top\">45.1067352961</td>\n",
       "        <td style=\"padding-left: 1em; padding-right: 1em; text-align: center; vertical-align: top\">40.523040106</td>\n",
       "        <td style=\"padding-left: 1em; padding-right: 1em; text-align: center; vertical-align: top\">40.6095830913</td>\n",
       "        <td style=\"padding-left: 1em; padding-right: 1em; text-align: center; vertical-align: top\">39.0957278345</td>\n",
       "    </tr>\n",
       "    <tr>\n",
       "        <td style=\"padding-left: 1em; padding-right: 1em; text-align: center; vertical-align: top\">41.3221140974</td>\n",
       "        <td style=\"padding-left: 1em; padding-right: 1em; text-align: center; vertical-align: top\">38.1947918393</td>\n",
       "        <td style=\"padding-left: 1em; padding-right: 1em; text-align: center; vertical-align: top\">39.9036867306</td>\n",
       "        <td style=\"padding-left: 1em; padding-right: 1em; text-align: center; vertical-align: top\">37.7696131032</td>\n",
       "    </tr>\n",
       "    <tr>\n",
       "        <td style=\"padding-left: 1em; padding-right: 1em; text-align: center; vertical-align: top\">41.8244654995</td>\n",
       "        <td style=\"padding-left: 1em; padding-right: 1em; text-align: center; vertical-align: top\">40.1567131661</td>\n",
       "        <td style=\"padding-left: 1em; padding-right: 1em; text-align: center; vertical-align: top\">38.0674700168</td>\n",
       "        <td style=\"padding-left: 1em; padding-right: 1em; text-align: center; vertical-align: top\">35.1089144603</td>\n",
       "    </tr>\n",
       "    <tr>\n",
       "        <td style=\"padding-left: 1em; padding-right: 1em; text-align: center; vertical-align: top\">45.4976929401</td>\n",
       "        <td style=\"padding-left: 1em; padding-right: 1em; text-align: center; vertical-align: top\">45.5597962603</td>\n",
       "        <td style=\"padding-left: 1em; padding-right: 1em; text-align: center; vertical-align: top\">42.7258732951</td>\n",
       "        <td style=\"padding-left: 1em; padding-right: 1em; text-align: center; vertical-align: top\">43.2422832585</td>\n",
       "    </tr>\n",
       "</table>\n",
       "[10 rows x 4 columns]<br/>\n",
       "</div>"
      ],
      "text/plain": [
       "Columns:\n",
       "\tdog-auto\tfloat\n",
       "\tdog-bird\tfloat\n",
       "\tdog-cat\tfloat\n",
       "\tdog-dog\tfloat\n",
       "\n",
       "Rows: 10\n",
       "\n",
       "Data:\n",
       "+---------------+---------------+---------------+---------------+\n",
       "|    dog-auto   |    dog-bird   |    dog-cat    |    dog-dog    |\n",
       "+---------------+---------------+---------------+---------------+\n",
       "| 41.9579761457 | 41.7538647304 | 36.4196077068 | 33.4773590373 |\n",
       "| 46.0021331807 | 41.3382958925 | 38.8353268874 | 32.8458495684 |\n",
       "| 42.9462290692 | 38.6157590853 | 36.9763410854 | 35.0397073189 |\n",
       "| 41.6866060048 | 37.0892269954 | 34.5750072914 | 33.9010327697 |\n",
       "| 39.2269664935 |  38.272288694 |  34.778824791 | 37.4849250909 |\n",
       "| 40.5845117698 | 39.1462089236 | 35.1171578292 |  34.945165344 |\n",
       "| 45.1067352961 |  40.523040106 | 40.6095830913 | 39.0957278345 |\n",
       "| 41.3221140974 | 38.1947918393 | 39.9036867306 | 37.7696131032 |\n",
       "| 41.8244654995 | 40.1567131661 | 38.0674700168 | 35.1089144603 |\n",
       "| 45.4976929401 | 45.5597962603 | 42.7258732951 | 43.2422832585 |\n",
       "+---------------+---------------+---------------+---------------+\n",
       "[10 rows x 4 columns]"
      ]
     },
     "execution_count": 18,
     "metadata": {},
     "output_type": "execute_result"
    }
   ],
   "source": [
    "dog_distances = graphlab.SFrame({'dog-dog': dog_dog_neighbors['distance'], 'dog-cat': dog_cat_neighbors['distance'],\n",
    "                                'dog-bird': dog_bird_neighbors['distance'], 'dog-auto': dog_auto_neighbors['distance']})\n",
    "dog_distances.head()"
   ]
  },
  {
   "cell_type": "code",
   "execution_count": 27,
   "metadata": {
    "collapsed": false
   },
   "outputs": [],
   "source": [
    "#Quiz 4\n",
    "def is_dog_correct(row):\n",
    "    if ((row['dog-dog'] <= row['dog-cat']) and \n",
    "       (row['dog-dog'] <= row['dog-bird']) and\n",
    "       (row['dog-dog'] <= row['dog-auto'])):\n",
    "        return 1\n",
    "    else:\n",
    "        return 0"
   ]
  },
  {
   "cell_type": "code",
   "execution_count": 28,
   "metadata": {
    "collapsed": false
   },
   "outputs": [
    {
     "data": {
      "text/plain": [
       "dtype: int\n",
       "Rows: 1000\n",
       "[1, 1, 1, 1, 0, 1, 1, 1, 1, 0, 1, 0, 0, 1, 1, 1, 1, 0, 0, 1, 0, 0, 0, 0, 1, 1, 0, 1, 1, 0, 1, 1, 0, 1, 1, 1, 1, 1, 0, 0, 1, 1, 0, 1, 1, 0, 1, 1, 1, 1, 0, 0, 1, 1, 0, 1, 1, 1, 0, 0, 1, 0, 0, 1, 0, 1, 0, 0, 0, 1, 1, 1, 1, 0, 0, 0, 1, 1, 1, 1, 1, 1, 0, 0, 1, 1, 1, 1, 1, 1, 1, 0, 1, 1, 1, 1, 1, 1, 0, 0, ... ]"
      ]
     },
     "execution_count": 28,
     "metadata": {},
     "output_type": "execute_result"
    }
   ],
   "source": [
    "dog_distances.apply(is_dog_correct)"
   ]
  },
  {
   "cell_type": "code",
   "execution_count": 29,
   "metadata": {
    "collapsed": false
   },
   "outputs": [
    {
     "data": {
      "text/plain": [
       "678"
      ]
     },
     "execution_count": 29,
     "metadata": {},
     "output_type": "execute_result"
    }
   ],
   "source": [
    "dog_distances.apply(is_dog_correct).sum()"
   ]
  },
  {
   "cell_type": "code",
   "execution_count": null,
   "metadata": {
    "collapsed": false
   },
   "outputs": [],
   "source": [
    "cat_neighbors = get_images_from_ids(knn_model.query(cat))"
   ]
  },
  {
   "cell_type": "code",
   "execution_count": null,
   "metadata": {
    "collapsed": false
   },
   "outputs": [],
   "source": [
    "cat_neighbors['image'].show()"
   ]
  },
  {
   "cell_type": "markdown",
   "metadata": {},
   "source": [
    "Very cool results showing similar cats.\n",
    "\n",
    "##Finding similar images to a car"
   ]
  },
  {
   "cell_type": "code",
   "execution_count": null,
   "metadata": {
    "collapsed": false
   },
   "outputs": [],
   "source": [
    "car = image_train[8:9]\n",
    "car['image'].show()"
   ]
  },
  {
   "cell_type": "code",
   "execution_count": null,
   "metadata": {
    "collapsed": false
   },
   "outputs": [],
   "source": [
    "get_images_from_ids(knn_model.query(car))['image'].show()"
   ]
  },
  {
   "cell_type": "markdown",
   "metadata": {},
   "source": [
    "#Just for fun, let's create a lambda to find and show nearest neighbor images"
   ]
  },
  {
   "cell_type": "code",
   "execution_count": null,
   "metadata": {
    "collapsed": true
   },
   "outputs": [],
   "source": [
    "show_neighbors = lambda i: get_images_from_ids(knn_model.query(image_train[i:i+1]))['image'].show()"
   ]
  },
  {
   "cell_type": "code",
   "execution_count": null,
   "metadata": {
    "collapsed": false
   },
   "outputs": [],
   "source": [
    "show_neighbors(8)"
   ]
  },
  {
   "cell_type": "code",
   "execution_count": null,
   "metadata": {
    "collapsed": false
   },
   "outputs": [],
   "source": [
    "show_neighbors(26)"
   ]
  },
  {
   "cell_type": "code",
   "execution_count": null,
   "metadata": {
    "collapsed": true
   },
   "outputs": [],
   "source": []
  }
 ],
 "metadata": {
  "kernelspec": {
   "display_name": "Python 2",
   "language": "python",
   "name": "python2"
  },
  "language_info": {
   "codemirror_mode": {
    "name": "ipython",
    "version": 2
   },
   "file_extension": ".py",
   "mimetype": "text/x-python",
   "name": "python",
   "nbconvert_exporter": "python",
   "pygments_lexer": "ipython2",
   "version": "2.7.11"
  }
 },
 "nbformat": 4,
 "nbformat_minor": 0
}
